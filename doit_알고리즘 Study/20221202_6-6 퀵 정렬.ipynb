{
 "cells": [
  {
   "cell_type": "markdown",
   "metadata": {},
   "source": [
    "퀵 정렬(quick sort) : 가장 빠른 정렬 알고리즘 \n",
    "\n",
    "- 고안자: 찰스 A.R. 호어(Charles A.R.Hoare)\n",
    "- 그룹을 나누는 기준 = 피벗(pivot) = 중심축\n",
    "- 선택된 피벗은 2개로 나눈 그룹 어디에 넣어도 상관 없음\n",
    "- 다시 각 그룹에서 피벗을 선택하여 나누기 반복 하면 모드 그룹이 1명씩 남으면 정렬 완료\n",
    "\n",
    "\n",
    "배열을 두 그룹으로 나누기 \n",
    "\n",
    "- 배열을 두 그룹으로 나누는 순서 \n",
    "    1. 임의의 피벗선택해서 그룹 나눔. 피벗 x, 왼쪽 끝 원소 인덱스 pl(왼쪽 커서), 오른쪽 끝 원소 인덱스 pr(오른쪽 커서)\n",
    "    2. 피벗 이하 원소를 배열 왼쪽(맨 앞쪽) 으로, 피벗 이상인 원소를 배열 오른쪽(맨 뒤쪽) 으로 이동시켜야 함\n",
    "        - a[pl] >= x 성립하는 원소 찾을 때까지 pl을 오른쪽 방향으로 스캔\n",
    "        - a[pr] <= x 성립하는 원소 찾을 때까지 pr을 왼쪽 방향으로 스캔\n",
    "    3. pl과 pr은 이동하다 정지\n",
    "        - pl은 피벗 이상인 원소, pr은 피벗 이하인 원소에 위치 \n",
    "        - 여기서 pl과 pr 위치하는 원소 a[pl] 과 a[pr] 값 교환 > 피벗 이하인 값은 왼쪽이동, 피벗 이상인 값은 오른쪽 이동\n",
    "    4. 다시 스캔 \n",
    "        - pl과 pr 다시 위치 찾고 정지. 교환\n",
    "    5. 다시 스캔\n",
    "        - pl 과 pr 서로 교차\n",
    "    6. pr과 pr 교차하면 이로써 두 그룹 나누는 과정 끝나고, 배열은\n",
    "        - 피벗 이하인 그룹: a[0], ... a[pl - 1] \n",
    "        - 피벗 이상인 그룹: a[pr+1]..., a[n-1]\n",
    "    7. 그룹 나누는 작업이 끝난 다음 pl > pr + 1 일 때 한해서 그룹 만들어짐\n",
    "        - 피벗과 일치하는 그룹: a[pr+1], .. , a[pl-1]\n",
    "    8. pl과 pr 같은 위치 (가운데 그룹) 도 최대 1번 교환 시도\n",
    "        - 같은 원소 교환하지 않으면 원소 교환할 때마다 매번 pl과 pr가 같은 위치에 있는지 체크해야 함. 매번 체크하는 횟수보다 1번만 같은 원소 교환하는게 비용 적게 듬\n",
    "    9. 계속 스캔하면 pl과 pr가 교차하면서 나누는 과정 완료. \n",
    "        - 피벗과 일치하는 그룹이 만들어지는 경우는 배열 나누기가 완료되어 pl > pr + 1 성립할 때 뿐\n",
    "\n",
    "    "
   ]
  },
  {
   "cell_type": "code",
   "execution_count": 1,
   "metadata": {},
   "outputs": [
    {
     "name": "stdout",
     "output_type": "stream",
     "text": [
      "배열을 나눕니다\n",
      "피벗은 5 입니다.\n",
      "피벗 이하인 그룹입니다.\n",
      "1 3 2 4 5\n",
      "피벗과 일치하는 그룹입니다.\n",
      "5\n",
      "피벗 이상인 그룹입니다.\n",
      "5 7 6 8 9\n"
     ]
    }
   ],
   "source": [
    "# 배열을 두 그룹으로 나누기 \n",
    "\n",
    "from typing import MutableSequence \n",
    "\n",
    "def partition(a: MutableSequence) -> None: \n",
    "    \"\"\"배열을 나누어 출력\"\"\"\n",
    "    n = len(a)\n",
    "    pl = 0 \n",
    "    pr = n - 1\n",
    "    x = a[n//2]   # 피벗 \n",
    "    \n",
    "    while pl <= pr:\n",
    "        while a[pl] < x: pl += 1\n",
    "        while a[pr] > x: pr -= 1\n",
    "        if pl <= pr:\n",
    "            a[pl], a[pr] = a[pr], a[pl]\n",
    "            pl += 1\n",
    "            pr -= 1\n",
    "            \n",
    "    print(f'피벗은 {x} 입니다.')\n",
    "    \n",
    "    print('피벗 이하인 그룹입니다.') \n",
    "    print(*a[0 : pl])        # a[0] ~ a[pl - 1] \n",
    "    \n",
    "    if pl > pr + 1:\n",
    "        print('피벗과 일치하는 그룹입니다.') \n",
    "        print(*a[pr + 1 : pl])      # a[pr + 1] ~ a[pl - 1] \n",
    "        \n",
    "    print('피벗 이상인 그룹입니다.') \n",
    "    print(*a[pr + 1 : n])       # a[pr + 1] ~ a[n - 1] \n",
    "    \n",
    "    \n",
    "if __name__=='__main__':\n",
    "    print('배열을 나눕니다') \n",
    "    num = int(input('원소 수를 입력하세요.. : ')) \n",
    "    x = [None] * num     # 원소 수 num 배열 생성\n",
    "    \n",
    "    for i in range(num):\n",
    "        x[i] = int(input(f'x[{i}]: '))\n",
    "        \n",
    "    partition(x)    # 배열 x 나누어 출력 "
   ]
  },
  {
   "cell_type": "markdown",
   "metadata": {},
   "source": [
    "피벗은 어떤 값으로 선택하느냐에 따라 배열을 나누는 것과 정렬하는 성능(performance) 에 영향 미침"
   ]
  },
  {
   "cell_type": "markdown",
   "metadata": {},
   "source": [
    "퀵 정렬 만들기 \n",
    "\n",
    "- 원소 수가 1개인 그룹은 더 이상 나눌 필요 없음\n",
    "- 원소 수 2개 이상인 그룹만 반복해서 나눔\n",
    "    1. pr가 a[0] 보다 오른쪽에 위치하면 (left < pr) 왼쪽 그룹을 나눔\n",
    "    2. pl이 a[8] 보다 왼쪽에 위치하면 (pl < right) 오른쭉 그룹을 나눔\n",
    "    3. 가운데 그룹(a[pr + 1] ~ a[pl - 1]) 은 나눌 필요 없어서 제외\n",
    "\n",
    "- 퀵 정렬은 8퀸 문제와 같은 분할 정복 알고리즘 = 재귀 호출 사용해서 구현\n",
    "\n",
    "- qsort() 함수는 배열 a, 나누는 구간의 첫 번재 원소(left), 마지막 원소(right) 인덱스 전달 받아 퀵 정렬 수행\n",
    "    \n",
    "    a: left = 0, right = 8\n",
    "\n",
    "    b: left = 0, right = 4\n",
    "    \n",
    "    c: left = 5, right = 8"
   ]
  },
  {
   "cell_type": "code",
   "execution_count": 3,
   "metadata": {},
   "outputs": [
    {
     "name": "stdout",
     "output_type": "stream",
     "text": [
      "퀵 정렬 수행합니다\n",
      "오름차순으로 정렬했습니다\n",
      "ㅌ[0] = 1\n",
      "ㅌ[1] = 2\n",
      "ㅌ[2] = 3\n",
      "ㅌ[3] = 4\n",
      "ㅌ[4] = 5\n",
      "ㅌ[5] = 6\n",
      "ㅌ[6] = 7\n",
      "ㅌ[7] = 8\n",
      "ㅌ[8] = 9\n"
     ]
    }
   ],
   "source": [
    "# 퀵 정렬 알고리즘 구현하기 \n",
    "\n",
    "from typing import MutableSequence \n",
    "\n",
    "def qsort(a: MutableSequence, left: int, right: int) -> None:\n",
    "    \"\"\"a[left] ~ a[right]를 퀵 정렬\"\"\"\n",
    "    pl = left\n",
    "    pr = right\n",
    "    x = a[(left + right) // 2]   \n",
    "    \n",
    "    while pl <= pr:\n",
    "        while a[pl] < x: pl += 1\n",
    "        while a[pr] > x: pr -= 1\n",
    "        if pl <= pr:\n",
    "            a[pl], a[pr] = a[pr], a[pl] \n",
    "            pl += 1\n",
    "            pr -= 1\n",
    "            \n",
    "    if left < pr: qsort(a, left, pr) \n",
    "    if pl < right: qsort(a, pl, right) \n",
    "    \n",
    "    \n",
    "def quick_sort(a: MutableSequence) -> None:\n",
    "    \"\"\"퀵 정렬\"\"\"\n",
    "    qsort(a, 0, len(a) -1) \n",
    "    \n",
    "    \n",
    "    \n",
    "if __name__=='__main__':\n",
    "    print('퀵 정렬 수행합니다') \n",
    "    num = int(input('원소 수를 입력하세요..: '))\n",
    "    x = [None] * num  \n",
    "    \n",
    "    for i in range(num):\n",
    "        x[i] = int(input(f'x[{i}]: '))\n",
    "        \n",
    "    quick_sort(x)  \n",
    "    \n",
    "    print('오름차순으로 정렬했습니다') \n",
    "    for i in range(num):\n",
    "        print(f'ㅌ[{i}] = {x[i]}')"
   ]
  },
  {
   "cell_type": "markdown",
   "metadata": {},
   "source": [
    "    if left < pr: qsort(a, left, pr) \n",
    "    if pl < right: qsort(a, pl, right) \n",
    "\n",
    "    재귀 호출 추가 됨\n",
    "\n",
    "\n",
    "\n",
    "def quick_sort(a: MutableSequence) -> None:\n",
    "\n",
    "    \"\"\"퀵 정렬\"\"\"\n",
    "\n",
    "    qsort(a, 0, len(a) -1) \n",
    "\n",
    "- qsort() 함수는 3개 인수 전달 받는데 인수 1개 전달받는 quick_sort() 함수로부터 다시 qsort() 함수 호출하는 구조\n",
    "- 프로그램 본문에서 함수 호출할 때 일관성 유지 됨\n",
    "- qsort() 함수 호출하는 qsort(a, 0, len(a)-1)에 의해 매개변수 left 맨 앞 원소의 인덱스(0)를 , right 에는 맨 끝 원소 인덱스(len(a) -1) 전달\n",
    "- but, 퀵 정렬은 서로 이웃하지 않는 원소를 교환하므로 불안정."
   ]
  },
  {
   "cell_type": "markdown",
   "metadata": {},
   "source": [
    "퀵 정렬에서 나누는 과정 출력하기 \n",
    "\n",
    "- 위 코드 퀵정렬 알고리즘의 실행결과는 배열이 어떻게 나뉘는지 알 수 없음 \n",
    "- 배열 나누는 과정 출력해 보기"
   ]
  },
  {
   "cell_type": "code",
   "execution_count": 4,
   "metadata": {},
   "outputs": [
    {
     "name": "stdout",
     "output_type": "stream",
     "text": [
      "퀵 정렬 수행합니다\n",
      "a[0] ~ a[8] :  5 8 4 2 6 1 3 9 7\n",
      "a[0] ~ a[4] :  5 3 4 2 1\n",
      "a[0] ~ a[2] :  1 3 2\n",
      "a[0] ~ a[1] :  1 2\n",
      "a[3] ~ a[4] :  4 5\n",
      "a[5] ~ a[8] :  6 8 9 7\n",
      "a[5] ~ a[6] :  6 7\n",
      "a[7] ~ a[8] :  9 8\n",
      "오름차순으로 정렬했습니다\n",
      "ㅌ[0] = 1\n",
      "ㅌ[1] = 2\n",
      "ㅌ[2] = 3\n",
      "ㅌ[3] = 4\n",
      "ㅌ[4] = 5\n",
      "ㅌ[5] = 6\n",
      "ㅌ[6] = 7\n",
      "ㅌ[7] = 8\n",
      "ㅌ[8] = 9\n"
     ]
    }
   ],
   "source": [
    "# 퀵 정렬 알고리즘 구현하기(배열 나누는 과정 출력)\n",
    "\n",
    "from typing import MutableSequence \n",
    "\n",
    "def qsort(a: MutableSequence, left: int, right: int) -> None:\n",
    "    \"\"\"a[left] ~ a[right]를 퀵 정렬\"\"\"\n",
    "    pl = left\n",
    "    pr = right\n",
    "    x = a[(left + right) // 2]   \n",
    "    \n",
    "    # 추가\n",
    "    print(f'a[{left}] ~ a[{right}] : ', *a[left : right + 1])   \n",
    "    \n",
    "    while pl <= pr:\n",
    "        while a[pl] < x: pl += 1\n",
    "        while a[pr] > x: pr -= 1\n",
    "        if pl <= pr:\n",
    "            a[pl], a[pr] = a[pr], a[pl] \n",
    "            pl += 1\n",
    "            pr -= 1\n",
    "            \n",
    "    if left < pr: qsort(a, left, pr) \n",
    "    if pl < right: qsort(a, pl, right) \n",
    "    \n",
    "    \n",
    "def quick_sort(a: MutableSequence) -> None:\n",
    "    \"\"\"퀵 정렬\"\"\"\n",
    "    qsort(a, 0, len(a) -1) \n",
    "    \n",
    "    \n",
    "    \n",
    "if __name__=='__main__':\n",
    "    print('퀵 정렬 수행합니다') \n",
    "    num = int(input('원소 수를 입력하세요..: '))\n",
    "    x = [None] * num  \n",
    "    \n",
    "    for i in range(num):\n",
    "        x[i] = int(input(f'x[{i}]: '))\n",
    "        \n",
    "    quick_sort(x)  \n",
    "    \n",
    "    print('오름차순으로 정렬했습니다') \n",
    "    for i in range(num):\n",
    "        print(f'ㅌ[{i}] = {x[i]}')"
   ]
  },
  {
   "cell_type": "markdown",
   "metadata": {},
   "source": [
    "비재귀적인 퀵 정렬 만들기\n",
    "\n",
    "- 재귀 함수 recur) 비재귀적 구현하는 방식\n",
    "- stack.py 파일 같은 경로에 있어야"
   ]
  },
  {
   "cell_type": "code",
   "execution_count": null,
   "metadata": {},
   "outputs": [],
   "source": [
    "# 비 재귀적인 퀵 정렬 구현하기\n",
    "\n",
    "from stack import Stack \n",
    "from typing import MutableSequence \n",
    "\n",
    "def qsort(a: MutableSequence, left: int, right: int) -> None: \n",
    "    \"\"\"a[left] ~ a[right]를 퀵 정렬(비재귀적인 퀵 정렬 \"\"\"\n",
    "    range = Stack(right - left + 1)     # 스택 생성 \n",
    "    \n",
    "    range.push((left, right)) \n",
    "    \n",
    "    while not range.is_empty():\n",
    "        pl, pr = left, right = range.pop()    # 왼쪽, 오른쪽 커서 꺼냄\n",
    "        x = a[(left + right) // 2]            # 피벗 (가운데원소) \n",
    "        \n",
    "        while pl <= pr:\n",
    "            while a[pl] < x: pl += 1\n",
    "            while a[pr] > x: pr -= 1\n",
    "            if pl <= pr:\n",
    "                a[pl], a[pr] = a[pr], a[pl]\n",
    "                pl += 1\n",
    "                pr -= 1\n",
    "                \n",
    "        if left < pr : range.push((left, pr))    # 왼쪽 그룹 커서 저장\n",
    "        if pl < right : range.push((pl, right))   # 오른쪽 그룹 커서 저장\n",
    "        \n",
    "def quick_sort(a: MutableSequence) -> None:\n",
    "    \"\"\"퀵 정렬\"\"\"\n",
    "    qsort(a, 0, len(a) - 1)\n",
    "\n",
    "if __name__ == '__main__':\n",
    "    print('비재귀적인 퀵 정렬')\n",
    "    num = int(input('원소 수를 입력하세요.: '))\n",
    "    x = [None] * num    # 원소 수가 num인 배열을 생성\n",
    "\n",
    "    for i in range(num):\n",
    "        x[i] = int(input(f'x[{i}]: '))\n",
    "\n",
    "    quick_sort(x)       # 배열 x를 퀵 정렬\n",
    "\n",
    "    print('오름차순으로 정렬했습니다.')\n",
    "    for i in range(num):\n",
    "        print(f'x[{i}] = {x[i]}')        "
   ]
  },
  {
   "cell_type": "markdown",
   "metadata": {},
   "source": [
    "qsort() 함수에서도 데이터 임시 저장하기 위해 다음 스택 사용\n",
    "\n",
    " - range: 나눌 범위에서 맨 앞 원소의 인덱스와 맨 끝 원소의 인덱스를 조합한 튜플 스택\n",
    "\n",
    "    range = Stack(right - left + 1)  > 스택 생성\n",
    "\n",
    "     > 스택 크기는 right - left + 1 , 나누는 배열의 원소 수와 같다\n",
    "\n",
    " - range.push((left, right))  > 튜플(left, right) 를 스택 range 에 푸쉬.\n",
    "     - left, right 는 나눠야 할 배열의 범위인 맨 앞 원소 인덱스, 맨 끝 원소 인덱스 > (0.8) 푸시\n",
    "     - (()) 바깥쪽 괄호는 함수를 호출하는 연산자. 안쪽 괄호는 left 와 right 튜플로 만들기 위해 식을 결합하는 연산자 \n",
    " \n",
    "\n",
    " - while not range.is_empty():\n",
    "        - 스택이 비어 있지 않은 동안 작업 반복 \n",
    "        - 스택은 나눠야 할 배열의 범위. 스택이 비면 나눌 배열이 없다는 것\n",
    "\n",
    "        pl, pr = left, right = range.pop()    # 왼쪽, 오른쪽 커서 꺼냄\n",
    "\n",
    "            - 스택에서 팝한 튜플(pl, pr) 를 (left, right) 에 대입\n",
    "            - 따라서, pl, left = 0, pr, right = 8 > 나눠야 할 배열 범위 \n",
    "            - 따라서, a[0] ~ a[8] 나눔 그러면 a[0] ~ a[4] 왼쪽 그룹과 a[5] ~ a[8] 오른쪽 그룹으로 나누어짐\n",
    "               (pl은 5, pr 은 4)\n",
    "\n",
    " - if left < pr : range.push((left, pr))    # 왼쪽 그룹 커서 저장\n",
    "        - if 문에서 스택에 튜블(0,4) 푸시\n",
    "\n",
    " - if pl < right : range.push((pl, right))   # 오른쪽 그룹 커서 저장\n",
    "        - if문에서 튜플(5, 8) 푸시\n",
    "\n",
    "\n",
    " - while not range.is_empty():  \n",
    "     - 이거 동작으로 루프 본문 반복 "
   ]
  },
  {
   "cell_type": "markdown",
   "metadata": {},
   "source": [
    "배열을 나누는 작업을 완료하면 왼쪽 그룹의 인덱스와 오른쪽 그룹의 인덱스 범위를 푸시."
   ]
  },
  {
   "cell_type": "markdown",
   "metadata": {},
   "source": [
    "피벗 선택하기 \n",
    "\n",
    "1. 방법1: 나누어야 할 배열의 원소 수가 3 이상이면, 배열에서 임의의 원소 3개를 꺼내 중앙값인 원소를 피벗으로 선택한다\n",
    "\n",
    "2. 방법2: 나누어야 할 배열의 맨 앞 원소, 가운데 원소, 맨 끝 원소를 정렬한 뒤 가운데 원소와 맨 끝에서 두 번째 원소를 교환한다. \n",
    "    맨 끝에서 두 번째 원솟값 a[right - 1] 이 피벗으로 선택됐고, 그 동시에 나눌 대상을 a[left + 1] ~ a[right - 2]로 좁힌다"
   ]
  },
  {
   "cell_type": "markdown",
   "metadata": {},
   "source": [
    "퀵 정렬의 시간 복잡도 \n",
    "\n",
    "- O(n log n) ---- 최악 O(n**2) \n",
    "\n",
    "- 원소 수가 9개 미만인 경우 단순 삽입 정렬 전환\n",
    "- 피벗 선택은 방법 2를 채택 "
   ]
  },
  {
   "cell_type": "code",
   "execution_count": null,
   "metadata": {},
   "outputs": [],
   "source": [
    "# 퀵 정렬 알고리즘 구현하기 (원소 수가 9 미만이면 단순 삽입 정렬) \n",
    "\n",
    "from typing import MutableSequence\n",
    "\n",
    "def sort3(a: MutableSequence, idx1: int, idx2: int, idx3: int):\n",
    "    \"\"\"a[idx1], a[idx2], a[idx3] 을 오름차순 정렬하고 중앙값 인덱스 반환\"\"\"\n",
    "    if a[idx2] < a[idx1]: a[idx2], a[idx1] = a[idx1], a[idx2]\n",
    "    if a[idx3] < a[idx2]: a[idx3], a[idx2] = a[idx2], a[idx3]\n",
    "    if a[idx2] < a[idx1]: a[idx2], a[idx1] = a[idx1], a[idx2]\n",
    "    return idx2\n",
    "\n",
    "\n",
    "def insertion_sort(a: MutableSequence, left: int, right: int) -> None: \n",
    "    \"\"\"a[left] ~ a[right] 단순 삽입 정렬\"\"\"\n",
    "    for i in range(left + 1, right + 1):\n",
    "        j = i\n",
    "        tmp = a[i] \n",
    "        while j > 0 and a[j - 1] > tmp:\n",
    "            a[j] = a[j - 1] \n",
    "            j -= 1\n",
    "        a[j] = tmp \n",
    "        \n",
    "        \n",
    "def qsort(a: MutableSequence, left: int, right: int) -> None: \n",
    "    \"\"\"a[left] ~ a[right] 를 퀵 정렬\"\"\"\n",
    "    if right - left < 9:     # 원소 수가 9 미만이면 단순 삽입 정렬로전환\n",
    "        insertion_sort(a, left, right)\n",
    "    else:\n",
    "        pl = left     \n",
    "        pr = right\n",
    "        m = sort3(a, pl, (pl+pr) // 2, pr) \n",
    "        x = a[m] \n",
    "        \n",
    "        a[m], a[pr-1] = a[pr-1], a[m] \n",
    "        pl += 1\n",
    "        pr -= 2\n",
    "        while pl < pr:\n",
    "            while a[pl] < x: pl += 1\n",
    "            while a[pr] > x: pr -= 1\n",
    "            if pl <= pr:\n",
    "                a[pl], a[pr] = a[pr], a[pl]\n",
    "                pl += 1\n",
    "                pr -= 1\n",
    "                \n",
    "        if left < pr: qsort(a, left, pr) \n",
    "        if pl < right : qsort(a, pl, right) \n",
    "        \n",
    "def quick_sort(a: MutableSequence) -> None: \n",
    "    \"\"\"퀵 정렬\"\"\"\n",
    "    qsort(a, 0, len(a) - 1) \n",
    "    \n",
    "    \n",
    "if __name__=='__main__':\n",
    "    print('퀵 정렬을 합니다(원소 수가 9개 미만이면 단순 삽입 정렬 합니다')\n",
    "    num = int(input('원소 수를 입력하세요, : ')) \n",
    "    x = [None] * num\n",
    "    \n",
    "    for i in range(num):\n",
    "        x[i] = int(input(f'x[{i}]: '))\n",
    "        \n",
    "    quick_sort(x)\n",
    "    \n",
    "    print('오름차순으로 정렬했습니다') \n",
    "    for i in range(num):\n",
    "        print(f'x[{i}] = {x[i]}')"
   ]
  },
  {
   "cell_type": "markdown",
   "metadata": {},
   "source": [
    "sorted() 함수로 정렬하기 \n",
    "\n",
    "- 파이썬 내장 함수\n",
    "- list형 반환\n",
    "- '정렬을 직접(inplace) 수행' 하지 않고 '정렬을 수행한 뒤 늘어선 원소를 새로운 리스트로 생성하여 반환'\n",
    "- reverse = True 면 내림차순\n",
    "\n",
    "a, b = sorted([a, b]) \n",
    "\n",
    "a, b, c = sorted([a, b, c]) \n",
    "\n",
    "a, b, c, d = sorted([a, b, c, d]) "
   ]
  },
  {
   "cell_type": "code",
   "execution_count": null,
   "metadata": {},
   "outputs": [],
   "source": [
    "# [Do it! 실습 6C-4] sorted() 함수를 사용하여 정렬하기\n",
    "\n",
    "print('sorted() 함수를 사용하여 정렬합니다.')\n",
    "num = int(input('원소 수를 입력하세요.: '))\n",
    "x = [None] * num    # 원소 수가 num인 배열을 생성\n",
    "\n",
    "for i in range(num):\n",
    "    x[i] = int(input(f'x[{i}]: '))\n",
    "\n",
    "# 배열 x를 오름차순으로 정렬\n",
    "x = sorted(x)\n",
    "print('오름차순으로 정렬했습니다.')\n",
    "for i in range(num):\n",
    "    print(f'x[{i}] = {x[i]}')\n",
    "\n",
    "# 배열 x를 내림차순으로 정렬\n",
    "x = sorted(x, reverse = True)\n",
    "print('내림차순으로 정렬했습니다.')\n",
    "for i in range(num):\n",
    "    print(f'x[{i}] = {x[i]}')"
   ]
  },
  {
   "cell_type": "markdown",
   "metadata": {},
   "source": [
    "튜플은 이뮤터블 속성을 가져서 튜플 자체를 정렬할 수는 없다.\n",
    "\n",
    "튜플을 정렬해야 한다면\n",
    "\n",
    "1. sorted() 함수로 정렬한 원소의 나열에서 새로운 리스트로 생성\n",
    "2. 생성한 리스트로 튜플 변환"
   ]
  },
  {
   "cell_type": "code",
   "execution_count": null,
   "metadata": {},
   "outputs": [],
   "source": []
  },
  {
   "cell_type": "code",
   "execution_count": null,
   "metadata": {},
   "outputs": [],
   "source": []
  },
  {
   "cell_type": "code",
   "execution_count": null,
   "metadata": {},
   "outputs": [],
   "source": []
  },
  {
   "cell_type": "code",
   "execution_count": null,
   "metadata": {},
   "outputs": [],
   "source": []
  },
  {
   "cell_type": "code",
   "execution_count": null,
   "metadata": {},
   "outputs": [],
   "source": []
  },
  {
   "cell_type": "code",
   "execution_count": null,
   "metadata": {},
   "outputs": [],
   "source": []
  },
  {
   "cell_type": "code",
   "execution_count": null,
   "metadata": {},
   "outputs": [],
   "source": []
  },
  {
   "cell_type": "code",
   "execution_count": null,
   "metadata": {},
   "outputs": [],
   "source": []
  },
  {
   "cell_type": "code",
   "execution_count": null,
   "metadata": {},
   "outputs": [],
   "source": []
  },
  {
   "cell_type": "code",
   "execution_count": null,
   "metadata": {},
   "outputs": [],
   "source": []
  },
  {
   "cell_type": "code",
   "execution_count": null,
   "metadata": {},
   "outputs": [],
   "source": []
  },
  {
   "cell_type": "code",
   "execution_count": null,
   "metadata": {},
   "outputs": [],
   "source": []
  },
  {
   "cell_type": "code",
   "execution_count": null,
   "metadata": {},
   "outputs": [],
   "source": []
  },
  {
   "cell_type": "code",
   "execution_count": null,
   "metadata": {},
   "outputs": [],
   "source": []
  },
  {
   "cell_type": "code",
   "execution_count": null,
   "metadata": {},
   "outputs": [],
   "source": []
  },
  {
   "cell_type": "code",
   "execution_count": null,
   "metadata": {},
   "outputs": [],
   "source": []
  },
  {
   "cell_type": "code",
   "execution_count": null,
   "metadata": {},
   "outputs": [],
   "source": []
  },
  {
   "cell_type": "code",
   "execution_count": null,
   "metadata": {},
   "outputs": [],
   "source": []
  },
  {
   "cell_type": "code",
   "execution_count": null,
   "metadata": {},
   "outputs": [],
   "source": []
  },
  {
   "cell_type": "code",
   "execution_count": null,
   "metadata": {},
   "outputs": [],
   "source": []
  },
  {
   "cell_type": "code",
   "execution_count": null,
   "metadata": {},
   "outputs": [],
   "source": []
  },
  {
   "cell_type": "code",
   "execution_count": null,
   "metadata": {},
   "outputs": [],
   "source": []
  },
  {
   "cell_type": "code",
   "execution_count": null,
   "metadata": {},
   "outputs": [],
   "source": []
  },
  {
   "cell_type": "code",
   "execution_count": null,
   "metadata": {},
   "outputs": [],
   "source": []
  },
  {
   "cell_type": "code",
   "execution_count": null,
   "metadata": {},
   "outputs": [],
   "source": []
  },
  {
   "cell_type": "code",
   "execution_count": null,
   "metadata": {},
   "outputs": [],
   "source": []
  },
  {
   "cell_type": "code",
   "execution_count": null,
   "metadata": {},
   "outputs": [],
   "source": []
  },
  {
   "cell_type": "code",
   "execution_count": null,
   "metadata": {},
   "outputs": [],
   "source": []
  },
  {
   "cell_type": "code",
   "execution_count": null,
   "metadata": {},
   "outputs": [],
   "source": []
  },
  {
   "cell_type": "code",
   "execution_count": null,
   "metadata": {},
   "outputs": [],
   "source": []
  },
  {
   "cell_type": "code",
   "execution_count": null,
   "metadata": {},
   "outputs": [],
   "source": []
  },
  {
   "cell_type": "code",
   "execution_count": null,
   "metadata": {},
   "outputs": [],
   "source": []
  },
  {
   "cell_type": "code",
   "execution_count": null,
   "metadata": {},
   "outputs": [],
   "source": []
  },
  {
   "cell_type": "code",
   "execution_count": null,
   "metadata": {},
   "outputs": [],
   "source": []
  },
  {
   "cell_type": "code",
   "execution_count": null,
   "metadata": {},
   "outputs": [],
   "source": []
  },
  {
   "cell_type": "code",
   "execution_count": null,
   "metadata": {},
   "outputs": [],
   "source": []
  },
  {
   "cell_type": "code",
   "execution_count": null,
   "metadata": {},
   "outputs": [],
   "source": []
  },
  {
   "cell_type": "code",
   "execution_count": null,
   "metadata": {},
   "outputs": [],
   "source": []
  },
  {
   "cell_type": "code",
   "execution_count": null,
   "metadata": {},
   "outputs": [],
   "source": []
  },
  {
   "cell_type": "code",
   "execution_count": null,
   "metadata": {},
   "outputs": [],
   "source": []
  },
  {
   "cell_type": "code",
   "execution_count": null,
   "metadata": {},
   "outputs": [],
   "source": []
  },
  {
   "cell_type": "code",
   "execution_count": null,
   "metadata": {},
   "outputs": [],
   "source": []
  }
 ],
 "metadata": {
  "kernelspec": {
   "display_name": "Python 3.9.12 ('base')",
   "language": "python",
   "name": "python3"
  },
  "language_info": {
   "codemirror_mode": {
    "name": "ipython",
    "version": 3
   },
   "file_extension": ".py",
   "mimetype": "text/x-python",
   "name": "python",
   "nbconvert_exporter": "python",
   "pygments_lexer": "ipython3",
   "version": "3.9.12"
  },
  "orig_nbformat": 4,
  "vscode": {
   "interpreter": {
    "hash": "ca71aff40853dd846130b67975d07637ec6294bee047a07657cfc9075e3162be"
   }
  }
 },
 "nbformat": 4,
 "nbformat_minor": 2
}
