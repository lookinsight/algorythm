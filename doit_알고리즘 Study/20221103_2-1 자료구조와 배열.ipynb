{
 "cells": [
  {
   "cell_type": "markdown",
   "metadata": {},
   "source": [
    "배열 개념 알아보기 \n",
    "\n",
    "- 배열을 사용하면 흩어진 변수를 하나로 묶어서 사용 가능"
   ]
  },
  {
   "cell_type": "code",
   "execution_count": null,
   "metadata": {},
   "outputs": [],
   "source": [
    "#[Do it! 실습 2-1] 학생 5명의 점수를 입력받아 합계와 평균을 출력하기\n",
    "\n",
    "print('학생 그룹 점수의 합계와 평균을 구합니다.')\n",
    "\n",
    "score1 = int(input('1번 학생의 점수를 입력하세요.: '))\n",
    "score2 = int(input('2번 학생의 점수를 입력하세요.: '))\n",
    "score3 = int(input('3번 학생의 점수를 입력하세요.: '))\n",
    "score4 = int(input('4번 학생의 점수를 입력하세요.: '))\n",
    "score5 = int(input('5번 학생의 점수를 입력하세요.: '))\n",
    "\n",
    "total = 0\n",
    "total += score1\n",
    "total += score2\n",
    "total += score3\n",
    "total += score4\n",
    "total += score5\n",
    "\n",
    "print(f'합계는 {total}점입니다.')\n",
    "print(f'평균은 {total / 5}점입니다.')\n",
    "\n",
    "\n",
    "# 요구사항 1: 학생 수를 변경하는 경우\n",
    "# 요구사항 2: 특정 학생의 시험 점수를 확인하거나 변경하는 경우\n",
    "# 요구사항 3: 최저점과 최고점을 구하거나 정렬이 필요한 경우 "
   ]
  },
  {
   "cell_type": "markdown",
   "metadata": {},
   "source": [
    "배열에는 객체가 저장되면, 배열에 저장된 객체 하나하나를 원소(element) 라고 함\n",
    "\n",
    "각 원소는 0, 1, 2 ...  인덱스 부여받음"
   ]
  },
  {
   "cell_type": "markdown",
   "metadata": {},
   "source": [
    "리스트와 튜플 알아보기 \n",
    "\n",
    "= 리스트와 튜플은 데이터컨테이너(data container) 라고 함"
   ]
  },
  {
   "cell_type": "markdown",
   "metadata": {},
   "source": [
    "리스트의 기초 \n",
    "\n",
    "- 뮤터블(mutable) : 원소를 변경할 수 있음. [,] []\n"
   ]
  },
  {
   "cell_type": "markdown",
   "metadata": {},
   "source": [
    "튜플의 기초 \n",
    "\n",
    "- 이뮤터블(immutable) : 원소 변경 못함.\n",
    "- 원소에 순서 매겨 결합  (,), () "
   ]
  },
  {
   "cell_type": "code",
   "execution_count": null,
   "metadata": {},
   "outputs": [],
   "source": [
    "# 리스트와 튜플 생성\n",
    "\n",
    "list01 = []                 # [] 빈 리스트 생성\n",
    "list02 = [1, 2, 3]          # [1, 2, 3]\n",
    "list03 = ['A', 'B', 'C', ]  # ['A', 'B', 'C'] 맨 마지막 원소에 쉼표를 써도 됨\n",
    "\n",
    "list04 = list()           # [] 빈 리스트 생성\n",
    "list05 = list('ABC')      # ['A', 'B', 'C'] 각각의 문자로부터 원소 생성\n",
    "list06 = list([1, 2, 3])  # [1, 2, 3] 리스트로부터 원소 생성\n",
    "list07 = list((1, 2, 3))  # [1, 2, 3] 튜플로부터 원소 생성\n",
    "list08 = list({1, 2, 3})  # [1, 2, 3] 집합으로부터 원소 생성\n",
    "\n",
    "list09 = list(range(7))         # [0, 1, 2, 3, 4, 5, 6]\n",
    "list10 = list(range(3, 8))      # [3, 4, 5, 6, 7]\n",
    "list11 = list(range(3, 13, 2))  # [3, 5, 7, 9, 11]\n",
    "\n",
    "# 원소 수가 5이고 모든 원소값이 없는 리스트를 생성\n",
    "list12 = [None] * 5  # [None, None, None, None, None]\n",
    "\n",
    "tuple01 = ()              # ()\n",
    "tuple02 = 1,              # (1,)\n",
    "tuple03 = (1,)            # (1,)\n",
    "tuple04 = 1, 2, 3         # (1, 2, 3)\n",
    "tuple05 = 1, 2, 3,        # (1, 2, 3)\n",
    "tuple06 = (1, 2, 3)       # (1, 2, 3)\n",
    "tuple07 = (1, 2, 3, )     # (1, 2, 3)\n",
    "tuple08 = 'A', 'B', 'C',  # ('A', 'B', 'C')\n",
    "\n",
    "tuple09 = tuple()           # () 빈 튜플 생성\n",
    "tuple10 = tuple('ABC')      # ('A', 'B', 'C') 문자열의 각 문자로부터 원소를 생성\n",
    "tuple11 = tuple([1, 2, 3])  # (1, 2, 3) 리스트로부터 원소 생성\n",
    "tuple12 = tuple({1, 2, 3})  # (1, 2, 3) 집합으로부터 원소 생성\n",
    "\n",
    "tuple13 = tuple(range(7))         # (0, 1, 2, 3, 4, 5, 6)\n",
    "tuple14 = tuple(range(3, 8))      # (3, 4, 5, 6, 7)\n",
    "tuple15 = tuple(range(3, 13, 2))  # (3, 5, 7, 9, 11)\n",
    "\n",
    "print('list01 =', list01)\n",
    "print('list02 =', list02)\n",
    "print('list03 =', list03)\n",
    "print('list04 =', list04)\n",
    "print('list05 =', list05)\n",
    "print('list06 =', list06)\n",
    "print('list07 =', list07)\n",
    "print('list08 =', list08)\n",
    "print('list09 =', list09)\n",
    "print('list10 =', list10)\n",
    "print('list11 =', list11)\n",
    "print('list12 =', list12)\n",
    "\n",
    "print('tupe01 =', tuple01)\n",
    "print('tupe02 =', tuple02)\n",
    "print('tupe03 =', tuple03)\n",
    "print('tupe04 =', tuple04)\n",
    "print('tupe05 =', tuple05)\n",
    "print('tupe06 =', tuple06)\n",
    "print('tupe07 =', tuple07)\n",
    "print('tupe08 =', tuple08)\n",
    "print('tupe09 =', tuple09)\n",
    "print('tupe10 =', tuple10)\n",
    "print('tupe11 =', tuple11)\n",
    "print('tupe12 =', tuple12)\n",
    "print('tupe13 =', tuple13)\n",
    "print('tupe14 =', tuple14)\n",
    "print('tupe15 =', tuple15)"
   ]
  },
  {
   "cell_type": "markdown",
   "metadata": {},
   "source": [
    "리스트와 튜플 풀어내기 \n",
    "\n",
    "- 언팩(unpack) : 좌변에 여러 개 변수, 우변에 리스트나 튜플 놓으면, 우변의 원소를 좌변의 변수에 한번에 대입 가능"
   ]
  },
  {
   "cell_type": "code",
   "execution_count": null,
   "metadata": {},
   "outputs": [],
   "source": [
    "x = [1, 2, 3] \n",
    "a, b, c = x\n",
    "a, b, c"
   ]
  },
  {
   "cell_type": "markdown",
   "metadata": {},
   "source": [
    "인덱스로 원소에 접근하기 \n",
    "\n",
    "- 리스트나 튜플의 원소에 접근할 때 인덱스 사용"
   ]
  },
  {
   "cell_type": "markdown",
   "metadata": {},
   "source": [
    "인덱스식 사용하기 \n",
    "\n",
    "- 인덱스 연산자 [] 안에 정숫값 인덱스를 지정하는 인덱스식 = 리스트 특정 원소 정할 수 있음 "
   ]
  },
  {
   "cell_type": "code",
   "execution_count": null,
   "metadata": {},
   "outputs": [],
   "source": [
    "x = [11, 22, 33, 44, 55, 66, 77] \n",
    "X[2]"
   ]
  },
  {
   "cell_type": "code",
   "execution_count": null,
   "metadata": {},
   "outputs": [],
   "source": [
    "x[-3] "
   ]
  },
  {
   "cell_type": "code",
   "execution_count": null,
   "metadata": {},
   "outputs": [],
   "source": [
    "x[-4] = 3.14\n",
    "x"
   ]
  },
  {
   "cell_type": "code",
   "execution_count": null,
   "metadata": {},
   "outputs": [],
   "source": [
    "x[7]    # error"
   ]
  },
  {
   "cell_type": "code",
   "execution_count": null,
   "metadata": {},
   "outputs": [],
   "source": [
    "x[7] = 3.14   # error"
   ]
  },
  {
   "cell_type": "markdown",
   "metadata": {},
   "source": [
    "슬라이스식으로 원소에 접근하기 \n",
    "\n",
    "- 슬라이스(slice): 리스트 또는 튜플의 원소 일부를 연속 또는 일정 간격으로 꺼내 새로운 리스트 또는 튜플을 만드는 것"
   ]
  },
  {
   "cell_type": "markdown",
   "metadata": {},
   "source": [
    "슬라이스식으로 원소 꺼내기 \n",
    "\n",
    "- s[i:j]\n",
    "- s[i:j:k]"
   ]
  },
  {
   "cell_type": "code",
   "execution_count": null,
   "metadata": {},
   "outputs": [],
   "source": [
    "s = [11, 22, 33, 44, 55, 66, 77]\n",
    "s[0: 6]"
   ]
  },
  {
   "cell_type": "code",
   "execution_count": null,
   "metadata": {},
   "outputs": [],
   "source": [
    "s[0:7]"
   ]
  },
  {
   "cell_type": "code",
   "execution_count": null,
   "metadata": {},
   "outputs": [],
   "source": [
    "s[0:7:2]"
   ]
  },
  {
   "cell_type": "code",
   "execution_count": null,
   "metadata": {},
   "outputs": [],
   "source": [
    "s[-4:-2]"
   ]
  },
  {
   "cell_type": "code",
   "execution_count": null,
   "metadata": {},
   "outputs": [],
   "source": [
    "s[3:1]     # error"
   ]
  },
  {
   "cell_type": "markdown",
   "metadata": {},
   "source": [
    "- i, j가 len(s) 보다 크면 len(s) 가 지정된 것으로 간주. 범위 벗어나도 오류 안남 \n",
    "- i가 없거나 None 이면 0이 지정된 것\n",
    "- j가 없거나 None 이면 len(s) 가 지정된 것으로 간주 \n",
    "\n",
    "- s[:]\n",
    "- s[:n]\n",
    "- s[i:]\n",
    "- s[-n:]\n",
    "- s[::k]\n",
    "- s[::-1]"
   ]
  },
  {
   "cell_type": "markdown",
   "metadata": {},
   "source": [
    "뮤터블과 이뮤터블의 대입 \n",
    "\n",
    "- 값이 변경되면 값을 복사하는 것이 아닌 값을 참조하는 객체의 식별번호 변경 \n",
    "\n",
    "- 뮤터블: 값을 변경할 수 있는 특성  -> 리스트, 딕셔너리, 집합\n",
    "- 이뮤터블: int형과 str형은 값을 변경할 수 없음. 값을 변경할 수 없는 것   -> 수, 문자열, 튜플\n",
    "    - int형 정수형 객체 12의 값 자체를 변경하는 것이 불가능하므로 다른 정수형 객체 13을 참조하도록 업데이트 "
   ]
  },
  {
   "cell_type": "code",
   "execution_count": null,
   "metadata": {},
   "outputs": [],
   "source": [
    "x = 0\n",
    "type(x + 17) "
   ]
  },
  {
   "cell_type": "code",
   "execution_count": null,
   "metadata": {},
   "outputs": [],
   "source": [
    "type(x = 17) "
   ]
  },
  {
   "cell_type": "markdown",
   "metadata": {},
   "source": [
    "자료 구조의 개념 알아보기 \n",
    "\n",
    "- 논리적인 관계로 이루어진 데이터 구성\n",
    "- 데이터 단위와 데이터 자체 사이의 물리적 또는 논리적 관계\n",
    "- 데이터가 모여있는 구조\n",
    "- 많은 데이터를 모아 효율적으로 관리하고 구조화 "
   ]
  },
  {
   "cell_type": "markdown",
   "metadata": {},
   "source": [
    "리스트와 튜플 1"
   ]
  },
  {
   "cell_type": "markdown",
   "metadata": {},
   "source": [
    "len() 함수로 배열의 원소수 구하기 "
   ]
  },
  {
   "cell_type": "code",
   "execution_count": null,
   "metadata": {},
   "outputs": [],
   "source": [
    "x = [15, 64, 7, 3.14, [32, 55], 'ABC'] \n",
    "len(x) "
   ]
  },
  {
   "cell_type": "markdown",
   "metadata": {},
   "source": [
    "min(), max() 함수로 배열의 최솟값과 최댓값 구하기 "
   ]
  },
  {
   "cell_type": "markdown",
   "metadata": {},
   "source": [
    "빈 배열 판단하기 "
   ]
  },
  {
   "cell_type": "code",
   "execution_count": null,
   "metadata": {},
   "outputs": [],
   "source": [
    "if x:\n",
    "else: "
   ]
  },
  {
   "cell_type": "markdown",
   "metadata": {},
   "source": [
    "비교 연산자로 배열의 대소 또는 등가 관계 판단하기 \n",
    "\n",
    "<,>, ==, <=, >="
   ]
  },
  {
   "cell_type": "markdown",
   "metadata": {},
   "source": [
    "등가성과 동일성은 다르다\n",
    "\n",
    "- 등가성(값): == \n",
    "- 동일성(값과 식별번호): is"
   ]
  },
  {
   "cell_type": "markdown",
   "metadata": {},
   "source": [
    "내포 표기 생성이란? \n",
    "\n",
    "- 리스트 안에서 for, if 문 사용해 새로운 리스트 생성하는 기법 "
   ]
  },
  {
   "cell_type": "code",
   "execution_count": null,
   "metadata": {},
   "outputs": [],
   "source": [
    "numbers = [1, 2, 3, 4, 5] \n",
    "twise = [num * 2 for num in numbers if num % 2 == 1]\n",
    "print(twise) "
   ]
  },
  {
   "cell_type": "code",
   "execution_count": null,
   "metadata": {},
   "outputs": [],
   "source": []
  },
  {
   "cell_type": "code",
   "execution_count": null,
   "metadata": {},
   "outputs": [],
   "source": []
  },
  {
   "cell_type": "code",
   "execution_count": null,
   "metadata": {},
   "outputs": [],
   "source": []
  },
  {
   "cell_type": "code",
   "execution_count": null,
   "metadata": {},
   "outputs": [],
   "source": []
  },
  {
   "cell_type": "code",
   "execution_count": null,
   "metadata": {},
   "outputs": [],
   "source": []
  },
  {
   "cell_type": "code",
   "execution_count": null,
   "metadata": {},
   "outputs": [],
   "source": []
  },
  {
   "cell_type": "code",
   "execution_count": null,
   "metadata": {},
   "outputs": [],
   "source": []
  }
 ],
 "metadata": {
  "kernelspec": {
   "display_name": "Python 3.9.12 ('base')",
   "language": "python",
   "name": "python3"
  },
  "language_info": {
   "name": "python",
   "version": "3.9.12"
  },
  "orig_nbformat": 4,
  "vscode": {
   "interpreter": {
    "hash": "ca71aff40853dd846130b67975d07637ec6294bee047a07657cfc9075e3162be"
   }
  }
 },
 "nbformat": 4,
 "nbformat_minor": 2
}
