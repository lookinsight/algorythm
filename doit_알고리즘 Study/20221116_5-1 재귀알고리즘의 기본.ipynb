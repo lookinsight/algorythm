{
 "cells": [
  {
   "cell_type": "markdown",
   "metadata": {},
   "source": [
    "재귀 알아보기 \n",
    "\n",
    "- 재귀(recursion) : 어떤 이벤트에서 자기 자신 포함하고 다시 자기 자신을 사용하여 정의 되는 경우 \n",
    "\n",
    "- 자연수의 정의:\n",
    "    1. 1은 자연수입니다\n",
    "    2. 어떤 자연수의 바로 다음 수도 자연수 입니다. \n",
    "\n",
    "- 무한히 존재하는 자연수를 재귀적 정의(recursion definition) 사용해 위의 두 문장으로 정의.\n",
    "- 재귀를 효과적으로 사용하면 이런 정의 뿐 아니라 프로그램을 간결하고 효율성 좋게 작성 할 수 있음\n",
    "\n",
    "\n",
    "\n",
    "팩토리얼 알아보기 \n",
    "\n",
    "- 팩토리얼(factorial) 문제: 재귀 사용하는 대표적 예. 양의 정수 순서대로 곱한다는 의미. 순차 곱셈. \n",
    "- 양의 정수 n의 팩토리얼(n!) 의 재귀적 정의\n",
    "    - 0 != 1\n",
    "    - n > 0 이면 n != n x (n - 1)! \n",
    "\n",
    "    - 예: 10!(10의 팩토리얼) 은 10 x 9!, 9! = 9 x 8!"
   ]
  },
  {
   "cell_type": "code",
   "execution_count": null,
   "metadata": {},
   "outputs": [],
   "source": [
    "# 양의 정수 n의 팩토리얼 구하기 \n",
    "\n",
    "def factorial(n: int) -> int:\n",
    "    \"\"\"양의 정수 n의 팩토리얼값을 재귀적으로 구함\"\"\"\n",
    "    if n > 0:\n",
    "        return n * factorial(n - 1) \n",
    "    else:\n",
    "        return -1 \n",
    "    \n",
    "if __name__ = '__main__':\n",
    "    n = int(input('출력할 팩토리얼값을 입력하세요 :')) \n",
    "    print(f'{n}의 팩토리얼은 {factorial(n)} 입니다.')        "
   ]
  },
  {
   "cell_type": "markdown",
   "metadata": {},
   "source": [
    "math.factorial() 함수 \n",
    "\n",
    "- math 모듈 factorial() 함수 제공 \n",
    "- math.factorial(x) 는 정수 x 의 팩토리얼값 반환\n",
    "- x가 정수가 아니거나 음수면 ValueError 예외 처리 내보냄."
   ]
  },
  {
   "cell_type": "code",
   "execution_count": null,
   "metadata": {},
   "outputs": [],
   "source": [
    "# [보충수업 5-1] 양의 정수인 팩토리얼 구하기(n이 음수면 ValueError 예외 처리 발생)\n",
    "\n",
    "def factorial(n : int) -> int:\n",
    "    \"\"\"양의 정수 n의 팩토리얼값을 재귀적으로 구함(n이 음수면 ValueError 예외 처리 발생)\"\"\"\n",
    "    if n > 0:\n",
    "        return n * factorial(n - 1)\n",
    "    elif n == 0:\n",
    "        return 1\n",
    "    else:\n",
    "        raise ValueError\n",
    "\n",
    "if __name__ == '__main__':\n",
    "    n = int(input('출력할 팩토리얼 값을 입력하세요.: '))\n",
    "    try:\n",
    "        print(f'{n}의 팩토리얼은 {factorial(n)}입니다.')\n",
    "    except ValueError:\n",
    "        print(f'{n}의 팩토리얼은 구할 수 없습니다.')"
   ]
  },
  {
   "cell_type": "markdown",
   "metadata": {},
   "source": [
    "재귀 호출 \n",
    "\n",
    "* foctorial() 함수로 3의 팩토리얼 값을 구하는 과정 \n",
    "\n",
    "- 함수 호출식 factorial(3) 실행하면 factorial() 함수 호출 됨\n",
    "- 이 함수 매개변수 n 에 3을 전달 받아 3 * factorial(2) 값 반환.\n",
    "    - 이 곱셈 하려면 factorial(2) 의 값을 구해야 함\n",
    "    - 실제 인수로 2 전달해서 함수 factorial(2) 호출\n",
    "\n",
    "- 호출된 factorial() 함수는 매개변수 n에 2를 전달 받음. 다시 2 * factorial(1) 을 실행하기 위해 함수 factorial(1) 호출\n",
    "\n",
    "- 호출된 factorial() 함수는 매개변수 n에 1을 전달 받음. 1 * foctorial(0) 을 실행하기 위해 함수 factorial(0) 호출\n",
    "\n",
    "- 호출된 factorial() 함수는 매개변수 n에 전달 받은 값이 0이므로 1을 반환. 이 때 처음으로 return 문이 실행되고 반환값 1을 위로 보냄\n",
    "\n",
    "- 반환된 값 1을 전달 받은 factorial() 함수는 1 * factorial(0), 즉 (1 * 1) 을 반환\n",
    "\n",
    "- 반환된 값 1을 전달 받은 factorial() 함수는 2 * factorial(1), 즉 (2 * 1) 을 반환\n",
    "\n",
    "- 반환된 값 2를 전달 받은 factorial() 함수는 3 * factorial(2), 즉 (3 * 2) 을 반환\n",
    "\n",
    "- 최종 3의 팩토리얼 값인 6 얻음\n",
    "\n",
    "- factorial() 함수는 n - 1 팩토리얼값을 구하기 위해 다시 자신과 똑같은 factorial() 함수 호출함. = 재귀 호출(recursive call) \n",
    "     - 재귀호출은 '함수 자신' 이 아니라 '자기 자신과 똑같은 함수'를 호출. 자기 자신 호출하면 무한...."
   ]
  },
  {
   "cell_type": "markdown",
   "metadata": {},
   "source": [
    "직접 재귀와 간접 재귀\n",
    "\n",
    "- 직접(direct) 재귀: 자신과 똑같은 함수를 호출하는 방식 \n",
    "\n",
    "- 간접(indirect) 재귀: a() 함수가 b() 함수를 호출하고 다시 b() 함수가 a() 함수를 호출하는 구조.\n",
    "\n",
    "- 재귀 알고리즘은 풀어야 할 문제나 계산할 함수 또는 처리할 구조가 재귀적으로 정의되는 경우 사용\n",
    "     - 따라서, 팩토리얼값을 재귀 과정으로 구하는 문제는 재귀의 원리 이해의 예제일 뿐 현실적으로 적절치 않다. \n",
    "     - factorial() 함수는 재귀 함수로 정의하지 않는 것이 오히려 간단하고 효율적"
   ]
  },
  {
   "cell_type": "markdown",
   "metadata": {},
   "source": [
    "유클리드 호제법 알아보기 \n",
    "\n",
    "- 두 정숫값의 최대 공약수(GCD - greatest common difisor)를 재귀적으로 구하는 방법?\n",
    "\n",
    "- 두 정숫값을 직사각형 두 변의 길이라고 생각하면 두 정숫값의 최대 공약수를 구하는 문제는?\n",
    "\n",
    "- Q. 직사각형 안을 정사각형 여러 개로 가득 채워 나간다. 이렇게 만들 수 있는 정사각형 가운데 가장 작은 정사각형의 변의 길이를 구하라\n",
    "\n",
    "    1. 변의 길이 22 * 8 직사각형\n",
    "    2. 직사각형에서 짧은 변의 길이를 한 변으로 하는 정사각형으로 가득 채움 \n",
    "         - (8 * 8) (8 * 8) | (8 * 6)\n",
    "    3. 남은 직사각형(8 * 6) 에서도 같은 작업 반복 \n",
    "         - (6 * 6) | (6 * 2)\n",
    "    4. 남은 건? (2 * 2) (2 * 2) (2 * 2)\n",
    "    5. 마지막 남은 정사각형 (2 * 2) 변의 길이인 2가 8과 22의 최대 공약수!!\n",
    "\n",
    "- 두 정수값이 주어질 때 큰 값과 작은 값으로 나누어 떨어지면 = 작은 값이 최대 공약수가 됨. \n",
    "- 나누어 떨어지지 않으면 작은값과 나머지에 대해 같은 과정 나누어 떨어질때까지 재귀적으로 반복\n",
    "\n",
    "- 수학 표현 \n",
    "- 두 정수 x, y의 최대 공약수 gcd(x, y) \n",
    "    - x = az와 y = bz 만족하는 정수 a, b와 최대의 정수 z가 존재할 때 z = gcd(x, y) 라고 할 수 있다. \n",
    "    - 따라서, \n",
    "    - y가 0 이면 ...  x\n",
    "    - y가 0이 아니면  ... gcd(y, x % y) -> 유클리드 호제법(Euclidean algorythm) "
   ]
  },
  {
   "cell_type": "code",
   "execution_count": 3,
   "metadata": {},
   "outputs": [
    {
     "name": "stdout",
     "output_type": "stream",
     "text": [
      "두 정숫값의 최대 공약수를 구합니다.\n",
      "두 정숫값의 최대 공약수는 1입니다\n"
     ]
    }
   ],
   "source": [
    "# 유클리드 호제법으로 최대 공약수 구하기\n",
    "\n",
    "def gcd(x: int, y: int) -> int: \n",
    "    \"\"\"정숫값 x와 y의 최대 공약수를 반환\"\"\"\n",
    "    if y == 0:\n",
    "        return x\n",
    "    else:\n",
    "        return gcd(y, x % y) \n",
    "    \n",
    "if __name__ == '__main__':\n",
    "    print('두 정숫값의 최대 공약수를 구합니다.') \n",
    "    \n",
    "    x = int(input('첫 번째 정숫값을 입력하세요: ')) \n",
    "    y = int(input('두 번째 정숫값을 입력하세요: '))\n",
    "    \n",
    "    print(f'두 정숫값의 최대 공약수는 {gcd(x, y)}입니다')\n",
    "        "
   ]
  },
  {
   "cell_type": "markdown",
   "metadata": {},
   "source": [
    "math.gcd() 함수\n",
    "\n",
    "- 파이썬 표준라이브러리 math 모듈에서 gcd() 함수 제공. \n",
    "- math.gcd(a,b) \n",
    "- a, b가 0이 아닌 경우 gcd(a, b) 값은 a 와 b 모두 나누어 떨어지게 하는 가장 큰 정수 반환\n",
    "- 모두 0 이면 gcd(0, 0) 은 0을 반환"
   ]
  },
  {
   "cell_type": "code",
   "execution_count": null,
   "metadata": {},
   "outputs": [],
   "source": []
  },
  {
   "cell_type": "code",
   "execution_count": null,
   "metadata": {},
   "outputs": [],
   "source": []
  },
  {
   "cell_type": "code",
   "execution_count": null,
   "metadata": {},
   "outputs": [],
   "source": []
  },
  {
   "cell_type": "code",
   "execution_count": null,
   "metadata": {},
   "outputs": [],
   "source": []
  },
  {
   "cell_type": "code",
   "execution_count": null,
   "metadata": {},
   "outputs": [],
   "source": []
  },
  {
   "cell_type": "code",
   "execution_count": null,
   "metadata": {},
   "outputs": [],
   "source": []
  },
  {
   "cell_type": "code",
   "execution_count": null,
   "metadata": {},
   "outputs": [],
   "source": []
  },
  {
   "cell_type": "code",
   "execution_count": null,
   "metadata": {},
   "outputs": [],
   "source": []
  },
  {
   "cell_type": "code",
   "execution_count": null,
   "metadata": {},
   "outputs": [],
   "source": []
  },
  {
   "cell_type": "code",
   "execution_count": null,
   "metadata": {},
   "outputs": [],
   "source": []
  },
  {
   "cell_type": "code",
   "execution_count": null,
   "metadata": {},
   "outputs": [],
   "source": []
  },
  {
   "cell_type": "code",
   "execution_count": null,
   "metadata": {},
   "outputs": [],
   "source": []
  },
  {
   "cell_type": "code",
   "execution_count": null,
   "metadata": {},
   "outputs": [],
   "source": []
  },
  {
   "cell_type": "code",
   "execution_count": null,
   "metadata": {},
   "outputs": [],
   "source": []
  },
  {
   "cell_type": "code",
   "execution_count": null,
   "metadata": {},
   "outputs": [],
   "source": []
  },
  {
   "cell_type": "code",
   "execution_count": null,
   "metadata": {},
   "outputs": [],
   "source": []
  },
  {
   "cell_type": "code",
   "execution_count": null,
   "metadata": {},
   "outputs": [],
   "source": []
  },
  {
   "cell_type": "code",
   "execution_count": null,
   "metadata": {},
   "outputs": [],
   "source": []
  },
  {
   "cell_type": "code",
   "execution_count": null,
   "metadata": {},
   "outputs": [],
   "source": []
  },
  {
   "cell_type": "code",
   "execution_count": null,
   "metadata": {},
   "outputs": [],
   "source": []
  },
  {
   "cell_type": "code",
   "execution_count": null,
   "metadata": {},
   "outputs": [],
   "source": []
  },
  {
   "cell_type": "code",
   "execution_count": null,
   "metadata": {},
   "outputs": [],
   "source": []
  },
  {
   "cell_type": "code",
   "execution_count": null,
   "metadata": {},
   "outputs": [],
   "source": []
  },
  {
   "cell_type": "code",
   "execution_count": null,
   "metadata": {},
   "outputs": [],
   "source": []
  },
  {
   "cell_type": "code",
   "execution_count": null,
   "metadata": {},
   "outputs": [],
   "source": []
  }
 ],
 "metadata": {
  "kernelspec": {
   "display_name": "Python 3.9.12 ('base')",
   "language": "python",
   "name": "python3"
  },
  "language_info": {
   "codemirror_mode": {
    "name": "ipython",
    "version": 3
   },
   "file_extension": ".py",
   "mimetype": "text/x-python",
   "name": "python",
   "nbconvert_exporter": "python",
   "pygments_lexer": "ipython3",
   "version": "3.9.12"
  },
  "orig_nbformat": 4,
  "vscode": {
   "interpreter": {
    "hash": "ca71aff40853dd846130b67975d07637ec6294bee047a07657cfc9075e3162be"
   }
  }
 },
 "nbformat": 4,
 "nbformat_minor": 2
}
