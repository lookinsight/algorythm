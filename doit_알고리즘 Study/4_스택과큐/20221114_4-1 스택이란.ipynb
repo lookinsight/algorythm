{
 "cells": [
  {
   "cell_type": "markdown",
   "metadata": {},
   "source": [
    "데이터를 임시 저장하는 기본 자료 구조 - 스택과 큐"
   ]
  },
  {
   "cell_type": "markdown",
   "metadata": {},
   "source": [
    "스택 알아보기 \n",
    "\n",
    "- 스택(stack) : 데이터를 임시 저장할 때 사용하는 자료구조.\n",
    "- 데이터 입력과 출력 순서는 후입선출(LIFO - last in first out) 가장 나중에 넣은 데이터를 가장 먼저 꺼냄\n",
    "\n",
    "- 푸시(push) : 데이터를 넣는 작업 \n",
    "- 팝(pop) : 데이터를 꺼내는 작업 \n",
    "- 꼭대기(top) : 푸시하고 팝하는 윗부분\n",
    "- 아랫부분(bottom) : \n",
    "\n",
    "- 푸시한 데이터는 스택 꼭대기에 쌓임\n",
    "- 팝을 할 때는 꼭대기에 있는 데이터가 꺼내짐"
   ]
  },
  {
   "cell_type": "markdown",
   "metadata": {},
   "source": [
    "스택 구현하기 \n",
    "\n",
    "스택 배열: stk\n",
    "- 푸시한 데이터를 저장하는 스택 본체인 list형 배열.\n",
    "- 인덱스 0인 원소 = 스택의 바닥\n",
    "- stk[0] =  가장 먼저 푸시하여 데이터를 저장하는 곳\n",
    "\n",
    "스택 크기: capacity\n",
    "- 스택 최대 크기 나타내는 int형 정수\n",
    "- 배열 stk의 원소 수인 len(stk) 와 일치\n",
    "\n",
    "스택 포인터: ptr\n",
    "- 스택에 쌓여 있는 데이터의 개수를 나타내는 정숫값\n",
    "- 스택이 비어있으면 ptr 값은 0\n",
    "- 가득차면 capacity 와 같은 값"
   ]
  },
  {
   "cell_type": "markdown",
   "metadata": {},
   "source": [
    "FixedStack 클래스 - 고정 길이 스택 구현\n",
    "\n",
    "\n",
    "예외 처리 클래스 Empty\n",
    "- pop() 함수 또는 peek() 함수 호출 할 때 스택이 비어 있으면 내보내는 예외 처리\n",
    "\n",
    "예외 처리 클래스 Full\n",
    "- push() 함수 호출 할 때 스택이 가득차 있으면 내보내는 예외 처리 \n",
    "\n",
    "초기화하는 __init__() 함수\n",
    "\n",
    "- 스택 배열을 생성하는 등의 준비 작업을 수행.\n",
    "- 매개변수 capacity로 전달 받은 값을 스택의 크기 나타내는 필드인 capacity로 복사하여, 원소 수가 capacity이고 모든 원소가 None 인 리스트형 stk 생성.\n",
    "- 스택 포인터 ptr 값을 0 \n",
    "\n",
    "쌓여 있는 데이터 개수를 알아내는 __ len__ () 함수\n",
    "\n",
    "- 스택에 쌓여 있는 데이터 개수 반환. \n",
    "- ptr 값 그대로 반환 \n",
    "\n",
    "\n",
    "스택이 비어 있는지 판단하는 is_empty() 함수\n",
    "- 데이터가 하나도 쌓여 있지 않은 상태. 즉 스택이 비어 있는지 판단. \n",
    "\n",
    "스택이 가득 차 있는지 판단하는 is_full() 함수 \n",
    "- 더 이상 데이터를 푸시할 수 없는 상태. 스택이 가득 찬 상태 판단."
   ]
  },
  {
   "cell_type": "code",
   "execution_count": 1,
   "metadata": {},
   "outputs": [],
   "source": [
    "# 고정 길이 스택 클래스 FixedStack 구현하기\n",
    "# Do it! 실습 4-1 [A]\n",
    "from typing import Any\n",
    "\n",
    "class FixedStack:\n",
    "    \"\"\"고정 길이 스택 클래스\"\"\"\n",
    "\n",
    "    class Empty(Exception):\n",
    "        \"\"\"비어 있는 FixedStack에 pop 또는 peek를 호출할 때 내보내는 예외 처리\"\"\"\n",
    "        pass\n",
    "\n",
    "    class Full(Exception):\n",
    "        \"\"\"가득 찬 FixedStack에 push를 호출할 때 내보내는 예외 처리\"\"\"\n",
    "        pass\n",
    "\n",
    "    def __init__(self, capacity: int = 256) -> None:\n",
    "        \"\"\"초기화\"\"\"\n",
    "        self.stk = [None] * capacity  # 스택 본체\n",
    "        self.capacity = capacity      # 스택의 크기\n",
    "        self.ptr = 0                  # 스택 포인터\n",
    "\n",
    "    def __len__(self) -> int:\n",
    "        \"\"\"스택에 쌓여있는 데이터 개수를 반환\"\"\"\n",
    "        return self.ptr\n",
    "\n",
    "    def is_empty(self) -> bool:\n",
    "        \"\"\"스택이 비어 있는가?\"\"\"\n",
    "        return self.ptr <= 0\n",
    "\n",
    "    def is_full(self) -> bool:\n",
    "        \"\"\"스택은 가득 찼는가?\"\"\"\n",
    "        return self.ptr >= self.capacity\n",
    "\n",
    "# Do it! 실습 4-1 [B]\n",
    "    def push(self, value: Any) -> None:\n",
    "        \"\"\"스택에 value를 푸시\"\"\"\n",
    "        if self.is_full():              # 스택이 가득 참\n",
    "            raise FixedStack.Full\n",
    "        self.stk[self.ptr] = value\n",
    "        self.ptr += 1\n",
    "\n",
    "    def pop(self) -> Any:\n",
    "        \"\"\"스택에서 데이터를 팝(꼭대기 데이터를 꺼냄)\"\"\"\n",
    "        if self.is_empty():             # 스택이 비어 있음\n",
    "             raise FixedStack.Empty\n",
    "        self.ptr -= 1\n",
    "        return self.stk[self.ptr]\n",
    "\n",
    "    def peek(self) -> Any:\n",
    "        \"\"\"스택에서 데이터를 피크(꼭대기 데이터를 들여다 봄)\"\"\"\n",
    "        if self.is_empty():             # 스택이 비어 있음\n",
    "            raise FixedStack.Empty\n",
    "        return self.stk[self.ptr - 1]\n",
    "\n",
    "    def clear(self) -> None:\n",
    "        \"\"\"스택을 비움(모든 데이터를 삭제)\"\"\"\n",
    "        self.ptr = 0\n",
    "\n",
    "# Do it! 실습 4-1 [C]\n",
    "    def find(self, value: Any) -> Any:\n",
    "        \"\"\"스택에서 value를 찾아 첨자(없으면 -1)를 반환\"\"\"\n",
    "        for i in range(self.ptr - 1, -1, -1):  # 꼭대기 쪽부터 선형 검색\n",
    "            if self.stk[i] == value:\n",
    "                return i  # 검색 성공\n",
    "        return -1         # 검색 실패\n",
    "\n",
    "    def count(self, value: Any) -> bool:\n",
    "        \"\"\"스택에 포함되어있는 value의 개수를 반환\"\"\"\n",
    "        c = 0\n",
    "        for i in range(self.ptr):  # 바닥 쪽부터 선형 검색\n",
    "            if self.stk[i] == value:\n",
    "                c += 1             # 들어 있음\n",
    "        return c\n",
    "\n",
    "    def __contains__(self, value: Any) -> bool:\n",
    "        \"\"\"스택에 value가 있는가?\"\"\"\n",
    "        return self.count(value)\n",
    "\n",
    "    def dump(self) -> None:\n",
    "        \"\"\"덤프(스택 안의 모든 데이터를 바닥부터 꼭대기 순으로 출력)\"\"\"\n",
    "        if self.is_empty():  # 스택이 비어 있음\n",
    "            print('스택이 비어 있습니다.')\n",
    "        else:\n",
    "            print(self.stk[:self.ptr])"
   ]
  },
  {
   "cell_type": "markdown",
   "metadata": {},
   "source": [
    "예외 처리의 기본 구조\n",
    "\n",
    "- try 문 : 원래처리\n",
    "- except 문 : 예외 포착과 처리 (1개 이상)\n",
    "- else 문 : 예외가 포착되지 않음 (생략 가능)\n",
    "- finally 문 : 마무리  (생략 가능) "
   ]
  },
  {
   "cell_type": "markdown",
   "metadata": {},
   "source": [
    "데이터를 푸시하는 push() 함수 \n",
    "\n",
    "- 스택에 데이터 추가 \n",
    "- 스택이 가득 차면 FixedStack.Full 통해 예외 처리 \n",
    "- 스택이 가득차 있지 않ㅇ면 전달받은 value를 배열 원소 stk[ptr] 저장하고 스택포인터 1 증가 \n",
    "\n",
    "\n",
    "데이터를 팝하는 pop() 함수 \n",
    "- 스택 꼭대기에서 데이터 꺼내서 그 값 반환\n",
    "- 비어 있으면 FixedStack.Empty 예외 처리 \n",
    "- 비어 있지 않으면 스택 포인터 ptr 값 1 감소. stk[ptr] 저장된 값 반환 \n",
    "\n",
    "\n",
    "데이터 들여다 보는 peek() 함수\n",
    "- 스택 꼭대기 데이터(다음에 팝하는 데이터) 를 들여다 봄.\n",
    "- 비었으면 FixedStack.Empty 예외 처리 \n",
    "- 비어 있지 않으면 stk[ptr -1] 값 반환\n",
    "\n",
    "\n",
    "스택 모든 데이터 삭제하는 cleaa() 함수 \n",
    "- 스택에 쌓여 있는 데이터 모두 삭제 . 빈 스택. "
   ]
  },
  {
   "cell_type": "markdown",
   "metadata": {},
   "source": [
    "raise 문 통한 예외 처리"
   ]
  },
  {
   "cell_type": "markdown",
   "metadata": {},
   "source": [
    "데이터를 검색하는 find() 함수 \n",
    "- 스택 본체 배열 stk 안에 value와 값이 같은 데이터가 포함되어 있는지 확인하고 포함되어 있으면 배열 어디에 들어 있는지 검색 \n",
    "\n",
    "\n",
    "데이터 개수 세는 count() 함수\n",
    "- 스택 쌓여 있는 데이터(value) 개수 구하여 반환\n",
    "\n",
    "\n",
    "데이터가 포함되어 있는지 판단하는 __ contains __() 함수 \n",
    "- 스택에 데이터(value) 가 있는지 판단.\n",
    "\n",
    "\n",
    "스택의 모든 데이터를 출력하는 dump() 함수\n",
    "- 스택에 쌓여 있는 ptr 개의 모든 데이터를 바닥부터 꼭대기까지 순서대로 출력. "
   ]
  },
  {
   "cell_type": "markdown",
   "metadata": {},
   "source": [
    "스택 프로그램 만들기 "
   ]
  },
  {
   "cell_type": "code",
   "execution_count": 2,
   "metadata": {},
   "outputs": [
    {
     "name": "stdout",
     "output_type": "stream",
     "text": [
      "현재 데이터 개수: 0 / 64\n",
      "(1)푸시   (2)팝   (3)피크   (4)검색   (5)덤프   (6)종료현재 데이터 개수: 1 / 64\n",
      "(1)푸시   (2)팝   (3)피크   (4)검색   (5)덤프   (6)종료현재 데이터 개수: 2 / 64\n",
      "(1)푸시   (2)팝   (3)피크   (4)검색   (5)덤프   (6)종료1개 포함되고, 맨 앞의 위치는 0입니다.\n",
      "현재 데이터 개수: 2 / 64\n",
      "(1)푸시   (2)팝   (3)피크   (4)검색   (5)덤프   (6)종료피크한 데이터는 2입니다.\n",
      "현재 데이터 개수: 2 / 64\n",
      "(1)푸시   (2)팝   (3)피크   (4)검색   (5)덤프   (6)종료팝한 데이터는 2입니다.\n",
      "현재 데이터 개수: 1 / 64\n",
      "(1)푸시   (2)팝   (3)피크   (4)검색   (5)덤프   (6)종료팝한 데이터는 1입니다.\n",
      "현재 데이터 개수: 0 / 64\n",
      "(1)푸시   (2)팝   (3)피크   (4)검색   (5)덤프   (6)종료스택이 비어 있습니다.\n",
      "현재 데이터 개수: 0 / 64\n",
      "(1)푸시   (2)팝   (3)피크   (4)검색   (5)덤프   (6)종료"
     ]
    },
    {
     "ename": "ValueError",
     "evalue": "invalid literal for int() with base 10: ''",
     "output_type": "error",
     "traceback": [
      "\u001b[1;31m---------------------------------------------------------------------------\u001b[0m",
      "\u001b[1;31mValueError\u001b[0m                                Traceback (most recent call last)",
      "\u001b[1;32mc:\\algorythm\\doit_python\\20221114_4-1 스택이란.ipynb 셀 11\u001b[0m in \u001b[0;36m<cell line: 20>\u001b[1;34m()\u001b[0m\n\u001b[0;32m     <a href='vscode-notebook-cell:/c%3A/algorythm/doit_python/20221114_4-1%20%EC%8A%A4%ED%83%9D%EC%9D%B4%EB%9E%80.ipynb#X13sZmlsZQ%3D%3D?line=18'>19</a>\u001b[0m \u001b[39mwhile\u001b[39;00m \u001b[39mTrue\u001b[39;00m:\n\u001b[0;32m     <a href='vscode-notebook-cell:/c%3A/algorythm/doit_python/20221114_4-1%20%EC%8A%A4%ED%83%9D%EC%9D%B4%EB%9E%80.ipynb#X13sZmlsZQ%3D%3D?line=19'>20</a>\u001b[0m     \u001b[39mprint\u001b[39m(\u001b[39mf\u001b[39m\u001b[39m'\u001b[39m\u001b[39m현재 데이터 개수: \u001b[39m\u001b[39m{\u001b[39;00m\u001b[39mlen\u001b[39m(s)\u001b[39m}\u001b[39;00m\u001b[39m / \u001b[39m\u001b[39m{\u001b[39;00ms\u001b[39m.\u001b[39mcapacity\u001b[39m}\u001b[39;00m\u001b[39m'\u001b[39m)\n\u001b[1;32m---> <a href='vscode-notebook-cell:/c%3A/algorythm/doit_python/20221114_4-1%20%EC%8A%A4%ED%83%9D%EC%9D%B4%EB%9E%80.ipynb#X13sZmlsZQ%3D%3D?line=20'>21</a>\u001b[0m     menu \u001b[39m=\u001b[39m select_menu()  \u001b[39m# 메뉴 선택\u001b[39;00m\n\u001b[0;32m     <a href='vscode-notebook-cell:/c%3A/algorythm/doit_python/20221114_4-1%20%EC%8A%A4%ED%83%9D%EC%9D%B4%EB%9E%80.ipynb#X13sZmlsZQ%3D%3D?line=22'>23</a>\u001b[0m     \u001b[39mif\u001b[39;00m menu \u001b[39m==\u001b[39m Menu\u001b[39m.\u001b[39m푸시:  \u001b[39m# 푸시\u001b[39;00m\n\u001b[0;32m     <a href='vscode-notebook-cell:/c%3A/algorythm/doit_python/20221114_4-1%20%EC%8A%A4%ED%83%9D%EC%9D%B4%EB%9E%80.ipynb#X13sZmlsZQ%3D%3D?line=23'>24</a>\u001b[0m         x \u001b[39m=\u001b[39m \u001b[39mint\u001b[39m(\u001b[39minput\u001b[39m(\u001b[39m'\u001b[39m\u001b[39m데이터를 입력하세요.: \u001b[39m\u001b[39m'\u001b[39m))\n",
      "\u001b[1;32mc:\\algorythm\\doit_python\\20221114_4-1 스택이란.ipynb 셀 11\u001b[0m in \u001b[0;36mselect_menu\u001b[1;34m()\u001b[0m\n\u001b[0;32m     <a href='vscode-notebook-cell:/c%3A/algorythm/doit_python/20221114_4-1%20%EC%8A%A4%ED%83%9D%EC%9D%B4%EB%9E%80.ipynb#X13sZmlsZQ%3D%3D?line=10'>11</a>\u001b[0m \u001b[39mwhile\u001b[39;00m \u001b[39mTrue\u001b[39;00m:\n\u001b[0;32m     <a href='vscode-notebook-cell:/c%3A/algorythm/doit_python/20221114_4-1%20%EC%8A%A4%ED%83%9D%EC%9D%B4%EB%9E%80.ipynb#X13sZmlsZQ%3D%3D?line=11'>12</a>\u001b[0m     \u001b[39mprint\u001b[39m(\u001b[39m*\u001b[39ms, sep \u001b[39m=\u001b[39m \u001b[39m'\u001b[39m\u001b[39m   \u001b[39m\u001b[39m'\u001b[39m, end\u001b[39m=\u001b[39m\u001b[39m'\u001b[39m\u001b[39m'\u001b[39m)\n\u001b[1;32m---> <a href='vscode-notebook-cell:/c%3A/algorythm/doit_python/20221114_4-1%20%EC%8A%A4%ED%83%9D%EC%9D%B4%EB%9E%80.ipynb#X13sZmlsZQ%3D%3D?line=12'>13</a>\u001b[0m     n \u001b[39m=\u001b[39m \u001b[39mint\u001b[39;49m(\u001b[39minput\u001b[39;49m(\u001b[39m'\u001b[39;49m\u001b[39m: \u001b[39;49m\u001b[39m'\u001b[39;49m))\n\u001b[0;32m     <a href='vscode-notebook-cell:/c%3A/algorythm/doit_python/20221114_4-1%20%EC%8A%A4%ED%83%9D%EC%9D%B4%EB%9E%80.ipynb#X13sZmlsZQ%3D%3D?line=13'>14</a>\u001b[0m     \u001b[39mif\u001b[39;00m \u001b[39m1\u001b[39m \u001b[39m<\u001b[39m\u001b[39m=\u001b[39m n \u001b[39m<\u001b[39m\u001b[39m=\u001b[39m \u001b[39mlen\u001b[39m(Menu):\n\u001b[0;32m     <a href='vscode-notebook-cell:/c%3A/algorythm/doit_python/20221114_4-1%20%EC%8A%A4%ED%83%9D%EC%9D%B4%EB%9E%80.ipynb#X13sZmlsZQ%3D%3D?line=14'>15</a>\u001b[0m         \u001b[39mreturn\u001b[39;00m Menu(n)\n",
      "\u001b[1;31mValueError\u001b[0m: invalid literal for int() with base 10: ''"
     ]
    }
   ],
   "source": [
    "# [Do it! 실습 4-2] 고정 길이 스택 FixedStack의 사용하기\n",
    "\n",
    "from enum import Enum\n",
    "from fixed_stack import FixedStack\n",
    "\n",
    "Menu = Enum('Menu', ['푸시', '팝', '피크', '검색', '덤프', '종료'])\n",
    "\n",
    "def select_menu() -> Menu:\n",
    "    \"\"\"메뉴 선택\"\"\"\n",
    "    s = [f'({m.value}){m.name}' for m in Menu]\n",
    "    while True:\n",
    "        print(*s, sep = '   ', end='')\n",
    "        n = int(input(': '))\n",
    "        if 1 <= n <= len(Menu):\n",
    "            return Menu(n)\n",
    "\n",
    "s = FixedStack(64)  # 최대 64개를 푸시할 수 있는 스택\n",
    "\n",
    "while True:\n",
    "    print(f'현재 데이터 개수: {len(s)} / {s.capacity}')\n",
    "    menu = select_menu()  # 메뉴 선택\n",
    "    \n",
    "    if menu == Menu.푸시:  # 푸시\n",
    "        x = int(input('데이터를 입력하세요.: '))\n",
    "        try:\n",
    "            s.push(x)\n",
    "        except FixedStack.Full:\n",
    "            print('스택이 가득 차 있습니다.')\n",
    "\n",
    "    elif menu == Menu.팝:  # 팝\n",
    "        try:\n",
    "            x = s.pop()\n",
    "            print(f'팝한 데이터는 {x}입니다.')\n",
    "        except FixedStack.Empty:\n",
    "            print('스택이 비어 있습니다.')\n",
    "\n",
    "    elif menu == Menu.피크:  # 피크\n",
    "        try:\n",
    "            x = s.peek()\n",
    "            print(f'피크한 데이터는 {x}입니다.')\n",
    "        except FixedStack.Empty:\n",
    "            print('스택이 비어 있습니다.')\n",
    "\n",
    "    elif menu == Menu.검색:  # 검색\n",
    "        x = int(input('검색할 값을 입력하세요.: '))\n",
    "        if x in s:\n",
    "            print(f'{s.count(x)}개 포함되고, 맨 앞의 위치는 {s.find(x)}입니다.')\n",
    "        else:\n",
    "            print('검색값을 찾을 수 없습니다.')\n",
    "\n",
    "    elif menu == Menu.덤프:  # 덤프\n",
    "        s.dump()\n",
    "\n",
    "    else:\n",
    "        break"
   ]
  },
  {
   "cell_type": "markdown",
   "metadata": {},
   "source": [
    "collections.deque 로 스택 구현하기 \n",
    "\n",
    "- 내장 컨테이너: 딕셔너리, 리스트, 집합, 튜플\n",
    "- 주요 컨테이너: namedtuple(), deque, ChainMap, Counter, OrderDict, defaultdict, UserDict, UserList, UserString 등\n",
    "- deque 모듈: 스택 간단하게 구현\n",
    "-"
   ]
  },
  {
   "cell_type": "code",
   "execution_count": 3,
   "metadata": {},
   "outputs": [],
   "source": [
    "# [Do it! 4C-1] 고정 길이 스택 클래스 구현하기(collections.deque를 사용)\n",
    "\n",
    "from typing import Any\n",
    "from collections import deque\n",
    "\n",
    "class Stack:\n",
    "    \"\"\"고정 길이 스택 클래스(collections.deque를 사용)\"\"\"\n",
    "\n",
    "    def __init__(self, maxlen: int = 256) -> None:\n",
    "        \"\"\"초기화 선언\"\"\"\n",
    "        self.capacity = maxlen\n",
    "        self.__stk = deque([], maxlen)\n",
    "\n",
    "    def __len__(self) -> int:\n",
    "        \"\"\"스택에 쌓여있는 데이터 개수를 반환\"\"\"\n",
    "        return len(self.__stk)\n",
    "\n",
    "    def is_empty(self) -> bool:\n",
    "        \"\"\"스택이 비어 있는지 판단\"\"\"\n",
    "        return not self.__stk\n",
    "\n",
    "    def is_full(self) -> bool:\n",
    "        \"\"\"스택이 가득 찼는지 판단\"\"\"\n",
    "        return len(self.__stk) == self.__stk.maxlen\n",
    "\n",
    "    def push(self, value: Any) -> None:\n",
    "        \"\"\"스택에 value를 푸시\"\"\"\n",
    "        self.__stk.append(value)\n",
    "\n",
    "    def pop(self) -> Any:\n",
    "        \"\"\"스택에서 데이터를 팝\"\"\"\n",
    "        return self.__stk.pop()\n",
    "\n",
    "    def peek(self) -> Any:\n",
    "        \"\"\"스택에서 데이터를 피크\"\"\"\n",
    "        return self.__stk[-1]\n",
    "\n",
    "    def clear(self) -> None:\n",
    "        \"\"\"스택을 비웁니다\"\"\"\n",
    "        self.__stk.clear()\n",
    "\n",
    "    def find(self, value: Any) -> Any:\n",
    "        \"\"\"스택에서 value를 찾아 인덱스(없으면 -1)를 반환\"\"\"\n",
    "        try:\n",
    "            return self.__stk.index(value)\n",
    "        except ValueError:\n",
    "            return -1\n",
    "\n",
    "    def count(self, value: Any) -> int:\n",
    "        \"\"\"스택에 포함된 value의 개수를 반환\"\"\"\n",
    "        return self.__stk.count(value)\n",
    "\n",
    "    def __contains__(self, value: Any) -> bool:\n",
    "        \"\"\"스택에 value가 포함되어 있는지 판단\"\"\"\n",
    "        return self.count(value)\n",
    "\n",
    "    def dump(self) -> int:\n",
    "        \"\"\"스택 안에 있는 모든 데이터를 나열\"\"\"\n",
    "        print(list(self.__stk))"
   ]
  },
  {
   "cell_type": "code",
   "execution_count": 5,
   "metadata": {},
   "outputs": [
    {
     "ename": "ModuleNotFoundError",
     "evalue": "No module named 'Stack'",
     "output_type": "error",
     "traceback": [
      "\u001b[1;31m---------------------------------------------------------------------------\u001b[0m",
      "\u001b[1;31mModuleNotFoundError\u001b[0m                       Traceback (most recent call last)",
      "\u001b[1;32mc:\\algorythm\\doit_python\\20221114_4-1 스택이란.ipynb 셀 14\u001b[0m in \u001b[0;36m<cell line: 4>\u001b[1;34m()\u001b[0m\n\u001b[0;32m      <a href='vscode-notebook-cell:/c%3A/algorythm/doit_python/20221114_4-1%20%EC%8A%A4%ED%83%9D%EC%9D%B4%EB%9E%80.ipynb#X16sZmlsZQ%3D%3D?line=0'>1</a>\u001b[0m \u001b[39m# [Do it! 4C-1] 고정 길이 스택 클래스(collections.deque)를 사용하기\u001b[39;00m\n\u001b[0;32m      <a href='vscode-notebook-cell:/c%3A/algorythm/doit_python/20221114_4-1%20%EC%8A%A4%ED%83%9D%EC%9D%B4%EB%9E%80.ipynb#X16sZmlsZQ%3D%3D?line=2'>3</a>\u001b[0m \u001b[39mfrom\u001b[39;00m \u001b[39menum\u001b[39;00m \u001b[39mimport\u001b[39;00m Enum\n\u001b[1;32m----> <a href='vscode-notebook-cell:/c%3A/algorythm/doit_python/20221114_4-1%20%EC%8A%A4%ED%83%9D%EC%9D%B4%EB%9E%80.ipynb#X16sZmlsZQ%3D%3D?line=3'>4</a>\u001b[0m \u001b[39mfrom\u001b[39;00m \u001b[39mStack\u001b[39;00m \u001b[39mimport\u001b[39;00m Stack\n\u001b[0;32m      <a href='vscode-notebook-cell:/c%3A/algorythm/doit_python/20221114_4-1%20%EC%8A%A4%ED%83%9D%EC%9D%B4%EB%9E%80.ipynb#X16sZmlsZQ%3D%3D?line=5'>6</a>\u001b[0m Menu \u001b[39m=\u001b[39m Enum(\u001b[39m'\u001b[39m\u001b[39mMenu\u001b[39m\u001b[39m'\u001b[39m, [\u001b[39m'\u001b[39m\u001b[39m푸시\u001b[39m\u001b[39m'\u001b[39m, \u001b[39m'\u001b[39m\u001b[39m팝\u001b[39m\u001b[39m'\u001b[39m, \u001b[39m'\u001b[39m\u001b[39m피크\u001b[39m\u001b[39m'\u001b[39m, \u001b[39m'\u001b[39m\u001b[39m검색\u001b[39m\u001b[39m'\u001b[39m, \u001b[39m'\u001b[39m\u001b[39m덤프\u001b[39m\u001b[39m'\u001b[39m, \u001b[39m'\u001b[39m\u001b[39m종료\u001b[39m\u001b[39m'\u001b[39m])\n\u001b[0;32m      <a href='vscode-notebook-cell:/c%3A/algorythm/doit_python/20221114_4-1%20%EC%8A%A4%ED%83%9D%EC%9D%B4%EB%9E%80.ipynb#X16sZmlsZQ%3D%3D?line=7'>8</a>\u001b[0m \u001b[39mdef\u001b[39;00m \u001b[39mselect_menu\u001b[39m() \u001b[39m-\u001b[39m\u001b[39m>\u001b[39m Menu:\n",
      "\u001b[1;31mModuleNotFoundError\u001b[0m: No module named 'Stack'"
     ]
    }
   ],
   "source": [
    "# [Do it! 4C-1] 고정 길이 스택 클래스(collections.deque)를 사용하기\n",
    "\n",
    "from enum import Enum\n",
    "from Stack import Stack\n",
    "\n",
    "Menu = Enum('Menu', ['푸시', '팝', '피크', '검색', '덤프', '종료'])\n",
    "\n",
    "def select_menu() -> Menu:\n",
    "    \"\"\"메뉴 선택\"\"\"\n",
    "    s = [f'({m.value}){m.name}' for m in Menu]\n",
    "    while True:\n",
    "        print(*s, sep='  ', end='')\n",
    "        n = int(input('：'))\n",
    "        if 1 <= n <= len(Menu):\n",
    "            return Menu(n)\n",
    "\n",
    "s = Stack(64)  # 최대 64 개를 푸시할 수 있는 스택\n",
    "\n",
    "while True:\n",
    "    print(f'현재 데이터 개수：{len(s)} / {s.capacity}')\n",
    "    menu = select_menu()  # 메뉴 선택\n",
    "\n",
    "    if menu == Menu.푸시:  # 푸시\n",
    "        x = int(input('데이터：'))\n",
    "        try:\n",
    "            s.push(x)\n",
    "        except IndexError:\n",
    "            print('스택이 가득 찼습니다.')\n",
    "\n",
    "    elif menu == Menu.팝:  # 팝\n",
    "        try:\n",
    "            x = s.pop()\n",
    "            print(f'팝한 데이터는 {x}입니다.')\n",
    "        except IndexError:\n",
    "           print('스택이 비어 있습니다.')\n",
    "\n",
    "    elif menu == Menu.피크:  # 피크\n",
    "        try:\n",
    "            x = s.peek()\n",
    "            print(f'피크한 데이터는 {x}입니다.')\n",
    "        except IndexError:\n",
    "           print('스택이 비어 있습니다.')\n",
    "\n",
    "    elif menu == Menu.검색:  # 검색\n",
    "        x = int(input('검색 값을 입력하세요：'))\n",
    "        if x in s:\n",
    "            print(f'{s.count(x)} 개를 포함하고, 맨 앞쪽의 위치는 {s.find(x)}입니다.')\n",
    "        else:\n",
    "            print('검색 값은 포함되어 있지 않습니다.')\n",
    "            \n",
    "    elif menu == Menu.덤프:  # 덤프\n",
    "        s.dump()\n",
    "\n",
    "    else:\n",
    "        break"
   ]
  },
  {
   "cell_type": "code",
   "execution_count": null,
   "metadata": {},
   "outputs": [],
   "source": []
  },
  {
   "cell_type": "code",
   "execution_count": null,
   "metadata": {},
   "outputs": [],
   "source": []
  },
  {
   "cell_type": "code",
   "execution_count": null,
   "metadata": {},
   "outputs": [],
   "source": []
  },
  {
   "cell_type": "code",
   "execution_count": null,
   "metadata": {},
   "outputs": [],
   "source": []
  },
  {
   "cell_type": "code",
   "execution_count": null,
   "metadata": {},
   "outputs": [],
   "source": []
  },
  {
   "cell_type": "code",
   "execution_count": null,
   "metadata": {},
   "outputs": [],
   "source": []
  },
  {
   "cell_type": "code",
   "execution_count": null,
   "metadata": {},
   "outputs": [],
   "source": []
  },
  {
   "cell_type": "code",
   "execution_count": null,
   "metadata": {},
   "outputs": [],
   "source": []
  },
  {
   "cell_type": "code",
   "execution_count": null,
   "metadata": {},
   "outputs": [],
   "source": []
  },
  {
   "cell_type": "code",
   "execution_count": null,
   "metadata": {},
   "outputs": [],
   "source": []
  },
  {
   "cell_type": "code",
   "execution_count": null,
   "metadata": {},
   "outputs": [],
   "source": []
  },
  {
   "cell_type": "code",
   "execution_count": null,
   "metadata": {},
   "outputs": [],
   "source": []
  },
  {
   "cell_type": "code",
   "execution_count": null,
   "metadata": {},
   "outputs": [],
   "source": []
  },
  {
   "cell_type": "code",
   "execution_count": null,
   "metadata": {},
   "outputs": [],
   "source": []
  },
  {
   "cell_type": "code",
   "execution_count": null,
   "metadata": {},
   "outputs": [],
   "source": []
  },
  {
   "cell_type": "code",
   "execution_count": null,
   "metadata": {},
   "outputs": [],
   "source": []
  },
  {
   "cell_type": "code",
   "execution_count": null,
   "metadata": {},
   "outputs": [],
   "source": []
  },
  {
   "cell_type": "code",
   "execution_count": null,
   "metadata": {},
   "outputs": [],
   "source": []
  },
  {
   "cell_type": "code",
   "execution_count": null,
   "metadata": {},
   "outputs": [],
   "source": []
  },
  {
   "cell_type": "code",
   "execution_count": null,
   "metadata": {},
   "outputs": [],
   "source": []
  },
  {
   "cell_type": "code",
   "execution_count": null,
   "metadata": {},
   "outputs": [],
   "source": []
  },
  {
   "cell_type": "code",
   "execution_count": null,
   "metadata": {},
   "outputs": [],
   "source": []
  },
  {
   "cell_type": "code",
   "execution_count": null,
   "metadata": {},
   "outputs": [],
   "source": []
  },
  {
   "cell_type": "code",
   "execution_count": null,
   "metadata": {},
   "outputs": [],
   "source": []
  },
  {
   "cell_type": "code",
   "execution_count": null,
   "metadata": {},
   "outputs": [],
   "source": []
  },
  {
   "cell_type": "code",
   "execution_count": null,
   "metadata": {},
   "outputs": [],
   "source": []
  },
  {
   "cell_type": "code",
   "execution_count": null,
   "metadata": {},
   "outputs": [],
   "source": []
  },
  {
   "cell_type": "code",
   "execution_count": null,
   "metadata": {},
   "outputs": [],
   "source": []
  }
 ],
 "metadata": {
  "kernelspec": {
   "display_name": "Python 3.9.12 ('base')",
   "language": "python",
   "name": "python3"
  },
  "language_info": {
   "codemirror_mode": {
    "name": "ipython",
    "version": 3
   },
   "file_extension": ".py",
   "mimetype": "text/x-python",
   "name": "python",
   "nbconvert_exporter": "python",
   "pygments_lexer": "ipython3",
   "version": "3.9.12"
  },
  "orig_nbformat": 4,
  "vscode": {
   "interpreter": {
    "hash": "ca71aff40853dd846130b67975d07637ec6294bee047a07657cfc9075e3162be"
   }
  }
 },
 "nbformat": 4,
 "nbformat_minor": 2
}
