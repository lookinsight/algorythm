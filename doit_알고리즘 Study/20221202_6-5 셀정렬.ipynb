{
 "cells": [
  {
   "cell_type": "markdown",
   "metadata": {},
   "source": [
    "🍱 셸 정렬\n",
    "\n",
    "- 단순 삽입 정렬의 장점 살리고 단점 보완하여 더 빠르게 정렬하는 알고리즘\n",
    "\n",
    "* 단순 삽입 정렬의 문제\n",
    "\n",
    "- 만일 배열의 뒷부분에 가장 작은 원소가 있다면?\n",
    "    - 뒷 부분 원소를 정렬하기 위해 n번의 이동(대입) 해야 함\n",
    "- 0보다 작은 원소를 만날 때까지 이웃한 왼쪽 원소를 하나씩 대입하는 작업 반복\n",
    "- 특징:\n",
    "1. 장점: 이미 정렬 마쳤거나 정렬이 거의 끝나가는 상태에서 속도가 빠름\n",
    "2. 단점: 삽입할 위치가 멀리 떨어져 있으면 이동 횟수 많아짐\n",
    "\n",
    "\n",
    "* 셸 정렬 알아보기\n",
    "\n",
    "- 도널드.L.셸이 고안한 셰정렬 알고리즘. \n",
    "- 단순 삽입 정렬 장점 살리고 단점 보완\n",
    "- 먼저 정렬한 배열의 원소를 그룹으로 나눠 각 그룹별로 정렬 수행 그 후 정렬된 그룹을 합치는 작업 반복해 원소 이동 횟수 줄임\n",
    "    - 예: 4- 정렬 -> 2 - 정렬 -> 1 - 정렬  = h 정렬\n",
    "    - 정렬 횟수는 늘어나지만 전체적으로 원소 이동 횟수가 줄어듬"
   ]
  },
  {
   "cell_type": "code",
   "execution_count": 3,
   "metadata": {},
   "outputs": [
    {
     "name": "stdout",
     "output_type": "stream",
     "text": [
      "셸 정렬을 수행합니다.\n",
      "오름차순으로 정렬했습니다\n",
      "x[0] = 1\n",
      "x[1] = 2\n",
      "x[2] = 3\n",
      "x[3] = 4\n",
      "x[4] = 5\n",
      "x[5] = 6\n",
      "x[6] = 7\n",
      "x[7] = 8\n"
     ]
    }
   ],
   "source": [
    "# 셸정렬 알고리즘 구현하기 \n",
    "\n",
    "from typing import MutableSequence \n",
    "\n",
    "def shell_sort(a: MutableSequence) -> None:\n",
    "    \"\"\"셸정렬\"\"\"\n",
    "    n = len(a) \n",
    "    h = n//2\n",
    "    while h > 0:\n",
    "        for i in range(h, n):\n",
    "            j = i - h \n",
    "            tmp = a[i] \n",
    "            while j >= 0 and a[j] > tmp:\n",
    "                a[j + h] = a[j]\n",
    "                j -= h \n",
    "            a[j + h] = tmp \n",
    "        h //= 2\n",
    "        \n",
    "if __name__ == '__main__':\n",
    "    print('셸 정렬을 수행합니다.') \n",
    "    num = int(input('원소 수를 입력하세요 : '))\n",
    "    x = [None] * num                            # 원소 수 num 배열 생성\n",
    "    \n",
    "    for i in range(num):\n",
    "        x[i] = int(input(f'x[{i}]: ')) \n",
    "        \n",
    "    shell_sort(x)       # 배열 x 셸 정렬 \n",
    "    \n",
    "    print('오름차순으로 정렬했습니다') \n",
    "    for i in range(num):\n",
    "        print(f'x[{i}] = {x[i]}')        "
   ]
  },
  {
   "cell_type": "markdown",
   "metadata": {},
   "source": [
    "단순 삽입 정렬과 거의 유사하지만 주목하는 원소와 비교하는 원소가 서로 이웃하지 안혹 h개만큼 떨어져 있다는 점\n",
    "\n",
    "h 초깃값 = n // 2 로 구함(전체 배열 절반 값) \n",
    "    \n",
    "    - while 문 반복할 때마다 다시 2로 나눈 값으로 업데이트 \n",
    "    - 따라서, h는 원소 수가 8이면 4 -> 2 -> 1\n",
    "    - 원소 수가 7이면 3 -> 1\n",
    "\n",
    "* h값의 선택 \n",
    "- 원소 수인 n값이 8이면 h값을 4 -> 2-> 1 로 변화\n",
    "- h 값은 n 부터 감소하다가 마지막 1이 됨\n",
    "- h 값을 어떤 수열로 감소시키면 효율적인 정렬을 할 수 있을까? \n",
    "    - h값이 서로 배수가 되지 않도록 해야 함\n",
    "    - 효율적인 수열: h = ... -> 121 -> 40 -> 13 -> 4 -> 1\n",
    "        - 위 수열 거꾸로 하면 1부터 시작해 3배한 값에 1을 더함 \n",
    "        - 하지만, h 초깃값이 지나치게 크면 효과가 없음\n",
    "        - 따라서, 배열 원소 수 n을 9로 나누었을 때 그 몫을 넘지 않도록 정해야?    "
   ]
  },
  {
   "cell_type": "code",
   "execution_count": 7,
   "metadata": {},
   "outputs": [
    {
     "name": "stdout",
     "output_type": "stream",
     "text": [
      "셸 정렬을 수행합니다(h * 3 + 1 수열 사용). \n",
      "오름차순으로 정렬했습니다\n",
      "x[0] = 1\n",
      "x[1] = 2\n",
      "x[2] = 3\n",
      "x[3] = 3\n",
      "x[4] = 4\n",
      "x[5] = 6\n",
      "x[6] = 7\n",
      "x[7] = 8\n"
     ]
    }
   ],
   "source": [
    "# 셸 정렬 알고리즘 구현하기(h * 3 + 1 수열 사용) \n",
    "\n",
    "from typing import MutableSequence \n",
    "\n",
    "def shell_sort(a: MutableSequence) -> None: \n",
    "    \"\"\"셸 wjdfuf(h * 3 + 1) 수열 사용\"\"\"\n",
    "    n = len(a) \n",
    "    h = 1\n",
    "    \n",
    "    while h < n  // 9:\n",
    "        h = h * 3 + 1\n",
    "        \n",
    "    while h > 0:\n",
    "        for i in range(h, n):\n",
    "            j = i - h \n",
    "            tmp = a[i]\n",
    "            while j >= 0 and a[j] > tmp:\n",
    "                a[j + h] = a[j]\n",
    "                j -= h \n",
    "            a[j + h] = tmp \n",
    "        h //= 3\n",
    "        \n",
    "if __name__=='__main__':\n",
    "    print('셸 정렬을 수행합니다(h * 3 + 1 수열 사용). ')\n",
    "    num = int(input('원소 수를 입력하세요...: '))\n",
    "    x = [None] * num      # 원소 수가 num 인 배열 생성 \n",
    "    \n",
    "    for i in range(num):\n",
    "        x[i] = int(input(f'x[{i}]: '))\n",
    "        \n",
    "    shell_sort(x)     # 배열 x 셸 정렬 \n",
    "    \n",
    "    print('오름차순으로 정렬했습니다') \n",
    "    \n",
    "    for i in range(num):\n",
    "        print(f'x[{i}] = {x[i]}') "
   ]
  },
  {
   "cell_type": "markdown",
   "metadata": {},
   "source": [
    "    while h < n  // 9:\n",
    "        h = h * 3 + 1\n",
    "\n",
    "    - h 초깃값 구함\n",
    "    - 1부터 시작해 h * 3 + 1 수열 사용하는 작업 반복하지만  n // 9 넘지 않는 최댓값을 h 대입\n",
    "\n",
    "\n",
    "\n",
    "    두번 째 while 문\n",
    "\n",
    "    - h 값이 변하는 방법이 기존과 다름\n",
    "    - h 값을 3으로 나누는 작업 반복해서 결국에 h = 1 이 됨\n",
    "    \n",
    "    - 셸 정렬 시간 복잡도: O(n**1.25) \n",
    "    - 단순 정렬 시간 복잡도: O(n**2) \n",
    "    - 셸 정렬은 이웃하지 않고 떨어져 있는 원소 서로 교환해서 불안정적"
   ]
  },
  {
   "cell_type": "code",
   "execution_count": null,
   "metadata": {},
   "outputs": [],
   "source": []
  },
  {
   "cell_type": "code",
   "execution_count": null,
   "metadata": {},
   "outputs": [],
   "source": []
  },
  {
   "cell_type": "code",
   "execution_count": null,
   "metadata": {},
   "outputs": [],
   "source": []
  },
  {
   "cell_type": "code",
   "execution_count": null,
   "metadata": {},
   "outputs": [],
   "source": []
  },
  {
   "cell_type": "code",
   "execution_count": null,
   "metadata": {},
   "outputs": [],
   "source": []
  },
  {
   "cell_type": "code",
   "execution_count": null,
   "metadata": {},
   "outputs": [],
   "source": []
  },
  {
   "cell_type": "code",
   "execution_count": null,
   "metadata": {},
   "outputs": [],
   "source": []
  },
  {
   "cell_type": "code",
   "execution_count": null,
   "metadata": {},
   "outputs": [],
   "source": []
  },
  {
   "cell_type": "code",
   "execution_count": null,
   "metadata": {},
   "outputs": [],
   "source": []
  },
  {
   "cell_type": "code",
   "execution_count": null,
   "metadata": {},
   "outputs": [],
   "source": []
  },
  {
   "cell_type": "code",
   "execution_count": null,
   "metadata": {},
   "outputs": [],
   "source": []
  },
  {
   "cell_type": "code",
   "execution_count": null,
   "metadata": {},
   "outputs": [],
   "source": []
  },
  {
   "cell_type": "code",
   "execution_count": null,
   "metadata": {},
   "outputs": [],
   "source": []
  },
  {
   "cell_type": "code",
   "execution_count": null,
   "metadata": {},
   "outputs": [],
   "source": []
  },
  {
   "cell_type": "code",
   "execution_count": null,
   "metadata": {},
   "outputs": [],
   "source": []
  },
  {
   "cell_type": "code",
   "execution_count": null,
   "metadata": {},
   "outputs": [],
   "source": []
  },
  {
   "cell_type": "code",
   "execution_count": null,
   "metadata": {},
   "outputs": [],
   "source": []
  },
  {
   "cell_type": "code",
   "execution_count": null,
   "metadata": {},
   "outputs": [],
   "source": []
  },
  {
   "cell_type": "code",
   "execution_count": null,
   "metadata": {},
   "outputs": [],
   "source": []
  },
  {
   "cell_type": "code",
   "execution_count": null,
   "metadata": {},
   "outputs": [],
   "source": []
  },
  {
   "cell_type": "code",
   "execution_count": null,
   "metadata": {},
   "outputs": [],
   "source": []
  },
  {
   "cell_type": "code",
   "execution_count": null,
   "metadata": {},
   "outputs": [],
   "source": []
  },
  {
   "cell_type": "code",
   "execution_count": null,
   "metadata": {},
   "outputs": [],
   "source": []
  },
  {
   "cell_type": "code",
   "execution_count": null,
   "metadata": {},
   "outputs": [],
   "source": []
  },
  {
   "cell_type": "code",
   "execution_count": null,
   "metadata": {},
   "outputs": [],
   "source": []
  },
  {
   "cell_type": "code",
   "execution_count": null,
   "metadata": {},
   "outputs": [],
   "source": []
  },
  {
   "cell_type": "code",
   "execution_count": null,
   "metadata": {},
   "outputs": [],
   "source": []
  },
  {
   "cell_type": "code",
   "execution_count": null,
   "metadata": {},
   "outputs": [],
   "source": []
  },
  {
   "cell_type": "code",
   "execution_count": null,
   "metadata": {},
   "outputs": [],
   "source": []
  },
  {
   "cell_type": "code",
   "execution_count": null,
   "metadata": {},
   "outputs": [],
   "source": []
  },
  {
   "cell_type": "code",
   "execution_count": null,
   "metadata": {},
   "outputs": [],
   "source": []
  },
  {
   "cell_type": "code",
   "execution_count": null,
   "metadata": {},
   "outputs": [],
   "source": []
  },
  {
   "cell_type": "code",
   "execution_count": null,
   "metadata": {},
   "outputs": [],
   "source": []
  },
  {
   "cell_type": "code",
   "execution_count": null,
   "metadata": {},
   "outputs": [],
   "source": []
  },
  {
   "cell_type": "code",
   "execution_count": null,
   "metadata": {},
   "outputs": [],
   "source": []
  },
  {
   "cell_type": "code",
   "execution_count": null,
   "metadata": {},
   "outputs": [],
   "source": []
  },
  {
   "cell_type": "code",
   "execution_count": null,
   "metadata": {},
   "outputs": [],
   "source": []
  },
  {
   "cell_type": "code",
   "execution_count": null,
   "metadata": {},
   "outputs": [],
   "source": []
  },
  {
   "cell_type": "code",
   "execution_count": null,
   "metadata": {},
   "outputs": [],
   "source": []
  },
  {
   "cell_type": "code",
   "execution_count": null,
   "metadata": {},
   "outputs": [],
   "source": []
  },
  {
   "cell_type": "code",
   "execution_count": null,
   "metadata": {},
   "outputs": [],
   "source": []
  },
  {
   "cell_type": "code",
   "execution_count": null,
   "metadata": {},
   "outputs": [],
   "source": []
  },
  {
   "cell_type": "code",
   "execution_count": null,
   "metadata": {},
   "outputs": [],
   "source": []
  },
  {
   "cell_type": "code",
   "execution_count": null,
   "metadata": {},
   "outputs": [],
   "source": []
  },
  {
   "cell_type": "code",
   "execution_count": null,
   "metadata": {},
   "outputs": [],
   "source": []
  },
  {
   "cell_type": "code",
   "execution_count": null,
   "metadata": {},
   "outputs": [],
   "source": []
  },
  {
   "cell_type": "code",
   "execution_count": null,
   "metadata": {},
   "outputs": [],
   "source": []
  },
  {
   "cell_type": "code",
   "execution_count": null,
   "metadata": {},
   "outputs": [],
   "source": []
  },
  {
   "cell_type": "code",
   "execution_count": null,
   "metadata": {},
   "outputs": [],
   "source": []
  },
  {
   "cell_type": "code",
   "execution_count": null,
   "metadata": {},
   "outputs": [],
   "source": []
  },
  {
   "cell_type": "code",
   "execution_count": null,
   "metadata": {},
   "outputs": [],
   "source": []
  },
  {
   "cell_type": "code",
   "execution_count": null,
   "metadata": {},
   "outputs": [],
   "source": []
  },
  {
   "cell_type": "code",
   "execution_count": null,
   "metadata": {},
   "outputs": [],
   "source": []
  },
  {
   "cell_type": "code",
   "execution_count": null,
   "metadata": {},
   "outputs": [],
   "source": []
  }
 ],
 "metadata": {
  "kernelspec": {
   "display_name": "Python 3.9.12 ('base')",
   "language": "python",
   "name": "python3"
  },
  "language_info": {
   "codemirror_mode": {
    "name": "ipython",
    "version": 3
   },
   "file_extension": ".py",
   "mimetype": "text/x-python",
   "name": "python",
   "nbconvert_exporter": "python",
   "pygments_lexer": "ipython3",
   "version": "3.9.12"
  },
  "orig_nbformat": 4,
  "vscode": {
   "interpreter": {
    "hash": "ca71aff40853dd846130b67975d07637ec6294bee047a07657cfc9075e3162be"
   }
  }
 },
 "nbformat": 4,
 "nbformat_minor": 2
}
