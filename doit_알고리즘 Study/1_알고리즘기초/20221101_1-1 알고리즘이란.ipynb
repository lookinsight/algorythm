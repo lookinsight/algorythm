{
 "cells": [
  {
   "cell_type": "markdown",
   "metadata": {},
   "source": [
    "세 정수의 최댓값 구하기 "
   ]
  },
  {
   "cell_type": "code",
   "execution_count": 1,
   "metadata": {},
   "outputs": [
    {
     "name": "stdout",
     "output_type": "stream",
     "text": [
      "세 정수의 최댓값을 구합니다.\n",
      "최댓값은 3입니다.\n"
     ]
    }
   ],
   "source": [
    "# [Do it! 실습 1-1] 세 정수를 입력받아 최댓값 구하기\n",
    "\n",
    "print('세 정수의 최댓값을 구합니다.')\n",
    "a = int(input('정수 a의 값을 입력하세요.: '))\n",
    "b = int(input('정수 b의 값을 입력하세요.: '))\n",
    "c = int(input('정수 c의 값을 입력하세요.: '))\n",
    "\n",
    "maximum = a                    # maximum에 a의 값을 대입\n",
    "if b > maximum: maximum = b    # b의 값이 maximum 보다 크면, maximum에 b 값 대입\n",
    "if c > maximum: maximum = c    # c 값이 maximum 보다 크면, maximum에 c 값 대입\n",
    "\n",
    "print(f'최댓값은 {maximum}입니다.')"
   ]
  },
  {
   "cell_type": "markdown",
   "metadata": {},
   "source": [
    "순차구조(sequential structure): 한 문장씩 순서대로 처리되는 구조 \n",
    "\n",
    "선택구조(select structure) : 조건식으로 평가한 결과에 따라 프로그램의 실행 흐름이 변경 되는 구조"
   ]
  },
  {
   "cell_type": "markdown",
   "metadata": {},
   "source": [
    "문자열과 숫자 입력 받기"
   ]
  },
  {
   "cell_type": "code",
   "execution_count": 4,
   "metadata": {},
   "outputs": [
    {
     "name": "stdout",
     "output_type": "stream",
     "text": [
      "이름을 입력하세요.: \n",
      "안녕하세요? dsdk 님.\n"
     ]
    }
   ],
   "source": [
    "# [Do it! 실습 1C-1] 이름을 입력받아 인사하기\n",
    "\n",
    "print('이름을 입력하세요.: ', end = '\\n')\n",
    "name = input()\n",
    "print(f'안녕하세요? {name} 님.')"
   ]
  },
  {
   "cell_type": "markdown",
   "metadata": {},
   "source": [
    "- input() 함수는 키보드로 문자열을 입력 받아 반환."
   ]
  },
  {
   "cell_type": "code",
   "execution_count": 5,
   "metadata": {},
   "outputs": [
    {
     "name": "stdout",
     "output_type": "stream",
     "text": [
      "안녕하세요? 이승민 님.\n"
     ]
    }
   ],
   "source": [
    "# 이름을 입력 받아 인사합니다(실습 1C-1 수정).\n",
    "\n",
    "name = input( '이름을 입력하세요.: ')\n",
    "print(f'안녕하세요? {name} 님.')"
   ]
  },
  {
   "cell_type": "markdown",
   "metadata": {},
   "source": [
    "- 형 변환(type conversion) : 문자열 형 -> 정수형 변환\n",
    "- input() 은 문자열을 반환하므로 문자열을 10진수 정수형으로 변환할 때 사용 = int()\n",
    "   > int(input())\n",
    "- 2진수, 8진수, 10진수, 16진수 나타내는 문자열 각각 정수로 변환 = int(문자열, 진수) 2개 인수 전달 받음    "
   ]
  },
  {
   "cell_type": "code",
   "execution_count": 6,
   "metadata": {},
   "outputs": [
    {
     "data": {
      "text/plain": [
       "17"
      ]
     },
     "execution_count": 6,
     "metadata": {},
     "output_type": "execute_result"
    }
   ],
   "source": [
    "int('17')   # 10진수 문자열 -> 10진수 정수"
   ]
  },
  {
   "cell_type": "code",
   "execution_count": 7,
   "metadata": {},
   "outputs": [
    {
     "data": {
      "text/plain": [
       "6"
      ]
     },
     "execution_count": 7,
     "metadata": {},
     "output_type": "execute_result"
    }
   ],
   "source": [
    "int('0b110', 2) # 2진수 문자열 -> 10진수 정수"
   ]
  },
  {
   "cell_type": "code",
   "execution_count": 8,
   "metadata": {},
   "outputs": [
    {
     "data": {
      "text/plain": [
       "61"
      ]
     },
     "execution_count": 8,
     "metadata": {},
     "output_type": "execute_result"
    }
   ],
   "source": [
    "int('0o75', 8)   # 8진수 문자열 -> 10진수 정수"
   ]
  },
  {
   "cell_type": "code",
   "execution_count": 9,
   "metadata": {},
   "outputs": [
    {
     "data": {
      "text/plain": [
       "13"
      ]
     },
     "execution_count": 9,
     "metadata": {},
     "output_type": "execute_result"
    }
   ],
   "source": [
    "int('13', 10)    # 10진수 문자열 -> 10진수 정수"
   ]
  },
  {
   "cell_type": "code",
   "execution_count": 10,
   "metadata": {},
   "outputs": [
    {
     "data": {
      "text/plain": [
       "63"
      ]
     },
     "execution_count": 10,
     "metadata": {},
     "output_type": "execute_result"
    }
   ],
   "source": [
    "int('0x3F', 16)    # 16진수 문자열 10진수 정수"
   ]
  },
  {
   "cell_type": "code",
   "execution_count": 11,
   "metadata": {},
   "outputs": [
    {
     "data": {
      "text/plain": [
       "3.14"
      ]
     },
     "execution_count": 11,
     "metadata": {},
     "output_type": "execute_result"
    }
   ],
   "source": [
    "float('3.14')        # 문자열 -> 실수형"
   ]
  },
  {
   "cell_type": "markdown",
   "metadata": {},
   "source": [
    "float 는 부동 소수점 방식 사용\n",
    "\n",
    "- 부동소수점(floating point) : 컴퓨터에서 실수를 근삿값으로 표현할 때 사용.\n",
    "- 실수를 가수 부분 / 지수 부분으로 나누어 표현하는 것\n",
    "- 가수부분: 유효 숫자 / 지수 부분: 소수점 위치 \n",
    "- 고정 소수점 방식보다 넒은 범위 수를 나타냄\n",
    "- 근삿값 표현, 연산속도 느려서 별도의 연산 장치 둠"
   ]
  },
  {
   "cell_type": "markdown",
   "metadata": {},
   "source": [
    "복합문의 구조 \n",
    "\n",
    "- if 문 while 문 의 복합문의 첫 부분은 if 나 while 키워드로 시작 콜론(:) 으로 끝남 -> 헤더\n",
    "- 헤더의 마지막 콜론은 '바로 뒤에 스위트가 이어짐' 의미 "
   ]
  },
  {
   "cell_type": "code",
   "execution_count": 12,
   "metadata": {},
   "outputs": [
    {
     "name": "stdout",
     "output_type": "stream",
     "text": [
      "max3(3, 2, 1) = 3\n",
      "max3(3, 2, 2) = 3\n",
      "max3(3, 1, 2) = 3\n",
      "max3(3, 2, 3) = 3\n",
      "max3(2, 1, 3) = 3\n",
      "max3(3, 3, 2) = 3\n",
      "max3(3, 3, 3) = 3\n",
      "max3(2, 2, 3) = 3\n",
      "max3(2, 3, 1) = 3\n",
      "max3(2, 3, 2) = 3\n",
      "max3(1, 3, 2) = 3\n",
      "max3(2, 3, 3) = 3\n",
      "max3(1, 2, 3) = 3\n"
     ]
    }
   ],
   "source": [
    "# [Do it! 실습 1-2] # 세 정수의 최댓값을 구하기\n",
    "\n",
    "def max3(a, b, c):\n",
    "    \"\"\"a, b, c의 최댓값을 구하여 반환\"\"\"\n",
    "    maximum = a\n",
    "    if b > maximum: maximum = b\n",
    "    if c > maximum: maximum = c\n",
    "    return maximum  # 최댓값 반환\n",
    "\n",
    "print(f'max3(3, 2, 1) = {max3(3, 2, 1)}')   # [A] a > b > c\n",
    "print(f'max3(3, 2, 2) = {max3(3, 2, 2)}')   # [B] a > b = c\n",
    "print(f'max3(3, 1, 2) = {max3(3, 1, 2)}')   # [C] a > c > b\n",
    "print(f'max3(3, 2, 3) = {max3(3, 2, 3)}')   # [D] a = c > b\n",
    "print(f'max3(2, 1, 3) = {max3(2, 1, 3)}')   # [E] c > a > b\n",
    "print(f'max3(3, 3, 2) = {max3(3, 3, 2)}')   # [F] a = b > c\n",
    "print(f'max3(3, 3, 3) = {max3(3, 3, 3)}')   # [G] a = b = c\n",
    "print(f'max3(2, 2, 3) = {max3(2, 2, 3)}')   # [H] c > a = b\n",
    "print(f'max3(2, 3, 1) = {max3(2, 3, 1)}')   # [I] b > a > c\n",
    "print(f'max3(2, 3, 2) = {max3(2, 3, 2)}')   # [J] b > a = c\n",
    "print(f'max3(1, 3, 2) = {max3(1, 3, 2)}')   # [K] b > c > a\n",
    "print(f'max3(2, 3, 3) = {max3(2, 3, 3)}')   # [L] b = c > a\n",
    "print(f'max3(1, 2, 3) = {max3(1, 2, 3)}')   # [M] c > b > a"
   ]
  },
  {
   "cell_type": "markdown",
   "metadata": {},
   "source": [
    "함수 반환값과 함수 호출식 평가하기\n",
    "\n",
    "- 함수 내부에서 처리한 값을 반환할 때는 return 문 사용\n",
    "- '함수 호출식을 평가해야 함수가 반환한 값을 얻을 수 있디'"
   ]
  },
  {
   "cell_type": "markdown",
   "metadata": {},
   "source": [
    "알고리즘: 어떤한 문제를 해결하기 위해 정해 놓은 일련의 절차 \n",
    "\n",
    "올바른 알고리즘: 어떤 경우에도 실행 결과가 똑같이 나오는 것"
   ]
  },
  {
   "cell_type": "markdown",
   "metadata": {},
   "source": [
    "복합문을 작성할 때 지켜야 할 규칙\n",
    "\n",
    "- 복합문 스위트는 반드시 행마다 같은 수준으로 들여쓰기\n",
    "- 스위트가 복합문이면 헤더와 스위트를 같은 행에 포함 시킬 수 없다."
   ]
  },
  {
   "cell_type": "markdown",
   "metadata": {},
   "source": [
    "세 정수의 중앙값 구하기 "
   ]
  },
  {
   "cell_type": "code",
   "execution_count": 14,
   "metadata": {},
   "outputs": [
    {
     "name": "stdout",
     "output_type": "stream",
     "text": [
      "세 정수의 중앙값을 구합니다.\n",
      "중앙값은 2입니다.\n"
     ]
    }
   ],
   "source": [
    "# [Do it! 실습 1C-2] 세 정숫값을 입력받아 중앙값을 구하기 1\n",
    "\n",
    "def med3(a, b, c):\n",
    "    \"\"\"a, b, c의 중앙값을 구하여 반환\"\"\"\n",
    "    if a >= b: \n",
    "        if b >= c: \n",
    "            return b\n",
    "        elif a <= c: \n",
    "            return a\n",
    "        else:\n",
    "            return c\n",
    "    if a > c: \n",
    "        return a\n",
    "    if b > c: \n",
    "        return c\n",
    "    else:\n",
    "        return b\n",
    "\n",
    "print('세 정수의 중앙값을 구합니다.')\n",
    "a = int(input('정수 a의 값을 입력하세요.: '))\n",
    "b = int(input('정수 b의 값을 입력하세요.: '))\n",
    "c = int(input('정수 c의 값을 입력하세요.: '))\n",
    "\n",
    "print(f'중앙값은 {med3(a, b, c)}입니다.')"
   ]
  },
  {
   "cell_type": "code",
   "execution_count": 15,
   "metadata": {},
   "outputs": [
    {
     "name": "stdout",
     "output_type": "stream",
     "text": [
      "세 정수의 중앙값을 구합니다.\n",
      "중앙값은 2입니다.\n"
     ]
    }
   ],
   "source": [
    "# 세 정숫값을 입력받아 중앙값을 구하기 2\n",
    "\n",
    "def med3(a, b, c):\n",
    "    \"\"\"a, b, c의 중앙값을 구하여 반환(다른 방법)\"\"\"\n",
    "    if (b >= a and c <= a) or (b <= a and c >= a):\n",
    "        return a\n",
    "    if (a > b and c < b) or (a < b and c > b):\n",
    "        return b\n",
    "    return c\n",
    "\n",
    "print('세 정수의 중앙값을 구합니다.')\n",
    "a = int(input('정수 a의 값을 입력하세요.: '))\n",
    "b = int(input('정수 b의 값을 입력하세요.: '))\n",
    "c = int(input('정수 c의 값을 입력하세요.: '))\n",
    "\n",
    "print(f'중앙값은 {med3(a, b, c)}입니다.')\n",
    "\n",
    "\n",
    "# 프로그램 효율이 1번보다 좋지 못함\n",
    "# 05행 if 문의 a, b를 07행 if문에서 똑같이 수행하기 때문 "
   ]
  },
  {
   "cell_type": "markdown",
   "metadata": {},
   "source": [
    "조건문과 분기"
   ]
  },
  {
   "cell_type": "code",
   "execution_count": 19,
   "metadata": {},
   "outputs": [
    {
     "name": "stdout",
     "output_type": "stream",
     "text": [
      "이 수는 음수입니다.\n"
     ]
    }
   ],
   "source": [
    "# [Do it! 실습 1-3] 입력받은 정숫값의 부호(양수, 음수, 0) 출력하기\n",
    "\n",
    "n = int(input('정수를 입력하세요.: '))\n",
    "\n",
    "if n > 0:\n",
    "    print('이 수는 양수입니다.')\n",
    "if n < 0:\n",
    "    print('이 수는 음수입니다.')\n",
    "else:\n",
    "    print('이 수는 0입니다.')"
   ]
  },
  {
   "cell_type": "code",
   "execution_count": 23,
   "metadata": {},
   "outputs": [
    {
     "name": "stdout",
     "output_type": "stream",
     "text": [
      "C\n"
     ]
    }
   ],
   "source": [
    "# [Do it! 실습 1-4] 3개로 분기하는 조건문\n",
    "\n",
    "n = int(input('정수를 입력하세요.: '))\n",
    "\n",
    "if n == 1:\n",
    "    print('A')\n",
    "if n == 2:\n",
    "    print('B')\n",
    "else:\n",
    "    print('C')"
   ]
  },
  {
   "cell_type": "code",
   "execution_count": 27,
   "metadata": {},
   "outputs": [],
   "source": [
    "# [Do it! 실습 1-5] 4개로 분기하는 조건문\n",
    "\n",
    "n = int(input('정수를 입력하세요.: '))\n",
    "\n",
    "if n == 1:\n",
    "    print('A')\n",
    "if n == 2:\n",
    "    print('B')\n",
    "elif n == 3:\n",
    "    print('C')"
   ]
  },
  {
   "cell_type": "code",
   "execution_count": 29,
   "metadata": {},
   "outputs": [],
   "source": [
    "# [Do it! 실습 1-6] 실습 1-5의 원래 모습\n",
    "\n",
    "n = int(input('정수를 입력하세요.: '))\n",
    "\n",
    "if n == 1:\n",
    "    print('A')\n",
    "if n == 2:\n",
    "    print('B')\n",
    "if n == 3:\n",
    "    print('C')\n",
    "else :\n",
    "    pass"
   ]
  },
  {
   "cell_type": "markdown",
   "metadata": {},
   "source": [
    "연산자와 피연산자\n",
    "\n",
    "- 산술연산자(operator) : +, - \n",
    "- 피연산자(operand): 연산 대상\n",
    "\n",
    "    - 예: a > b (연산자: >, 피연산자: a, b) \n",
    "\n",
    "    - 단항 연산자(unary operator): 피연산자 1개  예> -a\n",
    "    - 이항 연산자(binary operator): 피연산자 2개  예> a < b\n",
    "    - 삼항 연산자(ternary opreator): 피연산자 3개  예> a if b else c \n",
    "\n",
    "\n",
    "- 조건 연산자(conditional operator) : if ~ else 문 = 삼항 연산자 \n",
    "\n",
    "    - a = x if x > y else y \n",
    "    - print('c는 0입니다.' if c == 0 else 'c는 0이 아닙니다') "
   ]
  },
  {
   "cell_type": "markdown",
   "metadata": {},
   "source": [
    "순서도(flowchart) 기호 살펴보기 \n",
    "\n",
    "- 문제를 정의.분석하고 해결하는 방법을 그림으로 표현"
   ]
  },
  {
   "cell_type": "code",
   "execution_count": null,
   "metadata": {},
   "outputs": [],
   "source": []
  },
  {
   "cell_type": "code",
   "execution_count": null,
   "metadata": {},
   "outputs": [],
   "source": []
  },
  {
   "cell_type": "code",
   "execution_count": null,
   "metadata": {},
   "outputs": [],
   "source": []
  },
  {
   "cell_type": "code",
   "execution_count": null,
   "metadata": {},
   "outputs": [],
   "source": []
  },
  {
   "cell_type": "code",
   "execution_count": null,
   "metadata": {},
   "outputs": [],
   "source": []
  },
  {
   "cell_type": "code",
   "execution_count": null,
   "metadata": {},
   "outputs": [],
   "source": []
  },
  {
   "cell_type": "code",
   "execution_count": null,
   "metadata": {},
   "outputs": [],
   "source": []
  }
 ],
 "metadata": {
  "kernelspec": {
   "display_name": "Python 3.9.12 ('base')",
   "language": "python",
   "name": "python3"
  },
  "language_info": {
   "codemirror_mode": {
    "name": "ipython",
    "version": 3
   },
   "file_extension": ".py",
   "mimetype": "text/x-python",
   "name": "python",
   "nbconvert_exporter": "python",
   "pygments_lexer": "ipython3",
   "version": "3.9.12"
  },
  "orig_nbformat": 4,
  "vscode": {
   "interpreter": {
    "hash": "ca71aff40853dd846130b67975d07637ec6294bee047a07657cfc9075e3162be"
   }
  }
 },
 "nbformat": 4,
 "nbformat_minor": 2
}
