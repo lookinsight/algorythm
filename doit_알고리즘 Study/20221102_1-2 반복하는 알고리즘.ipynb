{
 "cells": [
  {
   "cell_type": "markdown",
   "metadata": {},
   "source": [
    "1부터 n까지 정수의 합 구하기"
   ]
  },
  {
   "cell_type": "code",
   "execution_count": null,
   "metadata": {},
   "outputs": [],
   "source": [
    "# [Do it! 실습 1-7] 1부터 n까지 정수의 합 구하기 1(while 문)\n",
    "\n",
    "print('1부터 n까지 정수의 합을 구합니다.')\n",
    "n = int(input('n값을 입력하세요.: '))\n",
    "\n",
    "sum = 0\n",
    "i = 1\n",
    "\n",
    "while i <= n:  # i가 n보다 작거나 같은 동안 반복\n",
    "    sum += i   # sum에 i를 더함\n",
    "    i += 1     # i에 1을 더함\n",
    "\n",
    "print(f'1부터 {n}까지 정수의 합은 {sum}입니다.')"
   ]
  },
  {
   "cell_type": "markdown",
   "metadata": {},
   "source": [
    "while 문 반복 알아보기\n",
    "\n",
    "- 반복구조(repetition structure) : 어쩐 조건이 성립하는 동안 반복해서 처리 하는 것 = 루프(loop) \n",
    "- while 문은 실행하기 전에 반복을 계속할 것인지 판단 = 판단 반복 구조\n",
    "\n",
    "- while 조건식: 명령문(루프본문) \n",
    "\n",
    "    - 준비단계: sum = 0, i = 1\n",
    "    - 루프본문: "
   ]
  },
  {
   "cell_type": "markdown",
   "metadata": {},
   "source": [
    "for 문 반복 알아보기 \n",
    "\n",
    "- 변수가 하나만 있을 때 while 문 보다 좋음"
   ]
  },
  {
   "cell_type": "code",
   "execution_count": null,
   "metadata": {},
   "outputs": [],
   "source": [
    "# [Do it! 실습 1-8] 1부터 n까지의 합 구하기 2(for 문)\n",
    "\n",
    "print('1부터 n까지의 합을 구합니다.')\n",
    "n = int(input('n값을 입력하세요.: '))\n",
    "\n",
    "sum = 0\n",
    "for i in range(1, n + 1):\n",
    "    sum += i  # sum에 i를 더함\n",
    "\n",
    "print(f'1부터 {n}까지 정수의 합은 {sum}입니다.')"
   ]
  },
  {
   "cell_type": "markdown",
   "metadata": {},
   "source": [
    "가우스의 덧셈으로도 1부터 n까지 정수 합을 구할 수 있음 \n",
    "\n",
    "- n x (n + 1) / 2 = 가우스 덧셈\n",
    "\n",
    "sum = n * (n + 1) // 2"
   ]
  },
  {
   "cell_type": "code",
   "execution_count": null,
   "metadata": {},
   "outputs": [],
   "source": [
    "# 1부터 n까지의 합 구하기 3(가우스 덧셈 방법)\n",
    "\n",
    "print('1부터 n까지의 합을 구합니다.')\n",
    "n = int(input('n값을 입력하세요.: '))\n",
    "\n",
    "sum = n * (n + 1) // 2\n",
    "\n",
    "print(f'1부터 {n}까지의 합은 {sum}입니다.')"
   ]
  },
  {
   "cell_type": "markdown",
   "metadata": {},
   "source": [
    "range() 함수로 이터러블 객체 생성하기 \n",
    "\n",
    "- range(n)\n",
    "- range(a, b) \n",
    "- range(a, b, step) \n",
    "\n",
    "- 이터러블 객체: 반복할 수 있는 객체.  for i in range(1, 5): \n",
    "- 이터러블 자료형: list, str, tuple"
   ]
  },
  {
   "cell_type": "markdown",
   "metadata": {},
   "source": [
    "연속하는 정수의 합을 구하기 위해 값 정렬하기\n",
    "\n",
    "- 시작 값이 1이 아닌 정수를 입력 받으면, range() 함수에 전달할 시작값과 끝값을 오름차순 정렬"
   ]
  },
  {
   "cell_type": "code",
   "execution_count": null,
   "metadata": {},
   "outputs": [],
   "source": [
    "# [Do it! 실습 1-9] a부터 b까지 정수의 합 구하기(for 문)\n",
    "\n",
    "print('a부터 b까지의 합을 구합니다.')\n",
    "a = int(input('정수 a를 입력하세요.: '))\n",
    "b = int(input('정수 b를 입력하세요.: '))\n",
    "\n",
    "if a > b:\n",
    "    a, b = b, a  # a와 b를 오름차순으로 정렬  (a, b 값 교환 단일 대입문) \n",
    "\n",
    "sum = 0\n",
    "for i in range(a, b + 1):\n",
    "    sum += i  # sum에 i를 더함\n",
    "\n",
    "print(f'{a}부터 {b}까지 정수의 합은 {sum}입니다.')"
   ]
  },
  {
   "cell_type": "markdown",
   "metadata": {},
   "source": [
    "두 값 교환하기 1\n",
    "\n",
    "- a, b = b, a\n",
    "\n",
    "    - 우변 b, a에 의해 두 값을 압축한 튜플(b, a) 생성\n",
    "    - 대입할 때 튜플(b, a) 다시 풀어 b, a 로 만들고 각각 a, b 에 대입"
   ]
  },
  {
   "cell_type": "markdown",
   "metadata": {},
   "source": [
    "반복 과정에서 조건 판단하기 1"
   ]
  },
  {
   "cell_type": "code",
   "execution_count": null,
   "metadata": {},
   "outputs": [],
   "source": [
    "# [Do it! 실습 1-10] a부터 b까지 정수의 합 구하기 1\n",
    "\n",
    "print('a부터 b까지의 합을 구합니다.')\n",
    "a = int(input('정수 a를 입력하세요.: '))\n",
    "b = int(input('정수 b를 입력하세요.: '))\n",
    "\n",
    "if a > b:\n",
    "    a, b = b, a\n",
    "\n",
    "sum = 0\n",
    "for i in range(a, b + 1):  # b - a번 반복\n",
    "    if i < b:              # i가 b보다 작으면 합을 구하는 과정을 출력\n",
    "        print(f'{i} + ', end='')\n",
    "    else:                  # i가 b보다 크거나 같으면 최종값 출력을 위해 i =를 출력\n",
    "        print(f'{i} = ', end='')\n",
    "    sum += i               # sum에 i를 더함\n",
    "\n",
    "print(sum)\n",
    "\n",
    "# if문 추천 안함.\n",
    "# 왜냐면: a = 1, b = 10000 이면 for문에서 10000번 반복하는 동안 1 ~ 9999번은 i < b 참이므로 13행이 9999번 실행되고\n",
    "# 마지막 10000번은 거짓이므로 15행은 1번만 실행. \n",
    "# if 문은 마지막 1번 실행되는 15행 위한 것. 즉 15행 위해 13행 9999번 실행\n",
    "# 이럴 땐 for 문 안 if 문을 제외하여 별도로 두는 것이 좋음"
   ]
  },
  {
   "cell_type": "code",
   "execution_count": null,
   "metadata": {},
   "outputs": [],
   "source": [
    "# [Do it! 실습 1-11] a부터 b까지 정수의 합 구하기 2\n",
    "\n",
    "print('a부터 b까지 정수의 합을 구합니다.')\n",
    "a = int(input('정수 a를 입력하세요.: '))\n",
    "b = int(input('정수 b를 입력하세요.: '))\n",
    "\n",
    "if a > b :\n",
    "    a, b = b, a\n",
    "\n",
    "sum = 0\n",
    "for i in range(a, b):\n",
    "    print(f'{i} + ', end='')\n",
    "    sum += i  # sum에 i를 더함\n",
    "\n",
    "print(f'{b} = ', end ='')\n",
    "sum += b      # sum에 b를 더함\n",
    "\n",
    "print(sum)\n",
    "\n",
    "\n",
    "# i가 b보다 크거나 같음 판단 안함\n",
    "# 판단횟수 n번 > 0번\n",
    "# 반복횟수 1번 감소"
   ]
  },
  {
   "cell_type": "markdown",
   "metadata": {},
   "source": [
    "두 값 교환하기 2\n",
    "\n",
    "- 임시용 변수 t를 이용하여 a, b 값 교환 가능\n",
    "\n",
    "    - a 값을 t에 저장\n",
    "    - b 값을 a에 대입\n",
    "    - t에 저장한 처음 a 값을 b에 대입"
   ]
  },
  {
   "cell_type": "markdown",
   "metadata": {},
   "source": [
    "반복 과정에서 조건 판단하기 2 \n",
    "\n",
    "- 특정 문자를 줄바꿈 없이 연속으로 출력 "
   ]
  },
  {
   "cell_type": "code",
   "execution_count": null,
   "metadata": {},
   "outputs": [],
   "source": [
    "# [Do it! 실습 1-12] +와 -를 번갈아 출력하기 1\n",
    "\n",
    "print('+와 -를 번갈아 출력합니다.')\n",
    "n = int(input('몇 개를 출력할까요?: '))\n",
    "\n",
    "for i in range(n):          # 반복 n번\n",
    "    if i % 2:                 \n",
    "        print('-', end='')  # 홀수인 경우 - 출력\n",
    "    else:\n",
    "        print('+', end='')  # 짝수인 경우 + 출력\n",
    "\n",
    "print()\n",
    "\n",
    "# for 문 반복 n번, 나눗셈 n번, if문 판단 n번\n",
    "\n",
    "# 문제점 \n",
    "# 1. for문 반복때만다 if 문 수행\n",
    "# 2. 상황에 따른 수정 어려움"
   ]
  },
  {
   "cell_type": "code",
   "execution_count": null,
   "metadata": {},
   "outputs": [],
   "source": [
    "# [Do it! 실습 1-12] +와 -를 번갈아 출력하기 1(for 문 수정)\n",
    "# i를 1부터 n까지 1씩 증가시키고 싶다면?\n",
    "\n",
    "print('+와 -를 번갈아 출력합니다.')\n",
    "n = int(input('몇 개를 출력할까요?: '))\n",
    "\n",
    "for i in range(1, n + 1):  \n",
    "    if i % 2:              # 홀수\n",
    "        print('+', end='')\n",
    "    else:                  # 짝수\n",
    "        print('-', end='')\n",
    "        \n",
    "print()"
   ]
  },
  {
   "cell_type": "code",
   "execution_count": null,
   "metadata": {},
   "outputs": [],
   "source": [
    "# [Do it! 실습 1-13] +와 -를 번갈아 출력하기 2\n",
    "# 위 2가지 문제 해결\n",
    "\n",
    "print('+와 -를 번갈아 출력합니다.')\n",
    "n = int(input('몇 개를 출력할까요?: '))\n",
    "\n",
    "for _ in range(n // 2):\n",
    "    print('+-', end='')  # n // 2개의 +-를 출력\n",
    "\n",
    "if n % 2 != 0:\n",
    "    print('+', end='')  # n이 홀수일 때만 +를 출력\n",
    "\n",
    "print()\n",
    "\n",
    "\n",
    "# for 문 반복은 n // 2 번, 나눗셈 2번, if문 판단 1번\n",
    "# 반복문에서 if문 수행 안함 (밖에서만 수행) \n",
    "# 카운터용 변수를 0에서 1로 수정해도 유연하게 대응 "
   ]
  },
  {
   "cell_type": "code",
   "execution_count": null,
   "metadata": {},
   "outputs": [],
   "source": [
    "print('+와 -를 번갈아 출력합니다.')\n",
    "n = int(input('몇 개를 출력할까요?: '))\n",
    "\n",
    "# 카운터용 변수를 0 > 1로 변경하면\n",
    "for _ in range(1, n // 2 + 1):\n",
    "    print('+-', end='')  # n // 2개의 +-를 출력\n",
    "\n",
    "if n % 2 != 0:\n",
    "    print('+', end='')  # n이 홀수일 때만 +를 출력\n",
    "\n",
    "print()"
   ]
  },
  {
   "cell_type": "markdown",
   "metadata": {},
   "source": [
    "반복 과정에서 조건 판단하기 3\n",
    "\n",
    "- *를 n개 출력하되 w개 마다 줄바꿈"
   ]
  },
  {
   "cell_type": "code",
   "execution_count": null,
   "metadata": {},
   "outputs": [],
   "source": [
    "# [Do it! 실습 1-14] *를 n개 출력하되 w개마다 줄바꿈하기 1\n",
    "\n",
    "print('*를 출력합니다.')\n",
    "n = int(input('몇 개를 출력할까요? : '))\n",
    "w = int(input('몇 개마다 줄바꿈할까요? : '))\n",
    "\n",
    "for i in range(n):      # n번 반복\n",
    "    print('*', end='')\n",
    "    if i % w == w - 1:  # n번 판단\n",
    "        print()         # 줄바꿈\n",
    "\n",
    "if n % w:\n",
    "    print()             # 줄바꿈"
   ]
  },
  {
   "cell_type": "code",
   "execution_count": null,
   "metadata": {},
   "outputs": [],
   "source": [
    "# *를 n개 출력하되 w개마다 줄바꿈하기 2\n",
    "\n",
    "print('*를 출력합니다.')\n",
    "n = int(input('몇 개를 출력할까요?: '))\n",
    "w = int(input('몇 개마다 줄바꿈할까요?: '))\n",
    "\n",
    "for _ in range(n // w):  # 반복 n // w번 반복\n",
    "    print('*' * w)\n",
    "\n",
    "rest = n % w\n",
    "if rest:\n",
    "    print('*' * rest)  # if 문 1번 판단"
   ]
  },
  {
   "cell_type": "markdown",
   "metadata": {},
   "source": [
    "양수만 입력받기 \n",
    "\n",
    "- 입력값 양수로 한정"
   ]
  },
  {
   "cell_type": "code",
   "execution_count": null,
   "metadata": {},
   "outputs": [],
   "source": [
    "# [Do it! 실습 1-16] 1부터 n까지 정수의 합 구하기(n값은 양수만 입력받음)\n",
    "\n",
    "print('1부터 n까지 정수의 합을 구합니다.')\n",
    "\n",
    "while True:\n",
    "    n = int(input('n값을 입력하세요.: '))\n",
    "    if n > 0:\n",
    "        break  # n이 0보다 커질 때까지 반복\n",
    "\n",
    "sum = 0\n",
    "i = 1\n",
    "\n",
    "for i in range(1, n + 1):\n",
    "    sum += i  # sum에 i를 더함\n",
    "    i += 1    # i에 1을 더함\n",
    "\n",
    "print(f'1부터 {n}까지 정수의 합은 {sum}입니다.')"
   ]
  },
  {
   "cell_type": "markdown",
   "metadata": {},
   "source": [
    "무한 루프와 break 문 알아보기 \n",
    "\n",
    "- while True: 무한루프(infinite loop)  "
   ]
  },
  {
   "cell_type": "markdown",
   "metadata": {},
   "source": [
    "for 문이 종료된 이후 카운터용 변수 i값 살펴보기 \n",
    "\n",
    "- while i <= n : 반복을 종료할 때 i 는 n + 1\n",
    "- for i in range(시작값, n + 1) : 반복 종료할 때 i는 n"
   ]
  },
  {
   "cell_type": "markdown",
   "metadata": {},
   "source": [
    "직사각형 넓이로 변의 길이 구하기 "
   ]
  },
  {
   "cell_type": "code",
   "execution_count": null,
   "metadata": {},
   "outputs": [],
   "source": [
    "# [Do it! 실습 1-17] 가로 세로가 정수이고 넓이가 area인 직사각형에서 변의 길이를 나열하기\n",
    "\n",
    "area = int(input('직사각형의 넓이를 입력하세요.: '))\n",
    "\n",
    "for i in range(1, area + 1):  # 1부터 사각형의 넓이 계산\n",
    "    if i * i > area: break\n",
    "    if area % i != 0: continue\n",
    "    print(f'{i} × {area // i}')"
   ]
  },
  {
   "cell_type": "code",
   "execution_count": null,
   "metadata": {},
   "outputs": [],
   "source": [
    "# [Do it! 실습 1-18] 10~99 사이의 난수 n개 생성하기(13이 나오면 중단)\n",
    "\n",
    "import random\n",
    "\n",
    "n = int(input('난수의 개수를 입력하세요.: '))\n",
    "\n",
    "for _ in range(n):\n",
    "    r = random.randint(10, 99)\n",
    "    print(r, end=' ')\n",
    "    if r == 13:\n",
    "        print('\\n프로그램을 중단합니다.')\n",
    "        break\n",
    "else :\n",
    "    print('\\n난수 생성을 종료합니다.')"
   ]
  },
  {
   "cell_type": "markdown",
   "metadata": {},
   "source": [
    "반복문 건너뛰기와 여러 범위 스캔하기 - continue"
   ]
  },
  {
   "cell_type": "code",
   "execution_count": null,
   "metadata": {},
   "outputs": [],
   "source": [
    "# [Do it! 실습 1-19] 1~12까지 8을 건너뛰고 출력하기 1\n",
    "\n",
    "for i in range(1, 13):\n",
    "    if i == 8:\n",
    "        continue\n",
    "    print(i, end=' ')\n",
    "    \n",
    "print()\n",
    "\n",
    "# 비효율적\n",
    "# 건너뛰는 판단을 하려면 비용이 많으 듦 \n",
    "# 숫자를 100000까지 출력하려면 숫자 1개 건너뛰도록 if, continue 문 사용하면\n",
    "# 판단을 10만번 해야"
   ]
  },
  {
   "cell_type": "code",
   "execution_count": null,
   "metadata": {},
   "outputs": [],
   "source": [
    "# [Do it! 실습 1-20] 1부터 12까지 8을 건너 뛰고 출력하기 2\n",
    "\n",
    "for i in list(range(1, 8)) + list(range(9, 13)):\n",
    "    print(i, end=' ')\n",
    "print()"
   ]
  },
  {
   "cell_type": "markdown",
   "metadata": {},
   "source": [
    "비교 연산자를 연속으로 사용하는 방법과 드모르간 법칙 "
   ]
  },
  {
   "cell_type": "code",
   "execution_count": null,
   "metadata": {},
   "outputs": [],
   "source": [
    "# [Do it! 실습 1C-3] 2자리 양수(10 ~ 99) 입력받기\n",
    "\n",
    "print('2자리 양수를 입력하세요.')\n",
    "\n",
    "while True:\n",
    "    no = int(input('값을 입력하세요.: '))\n",
    "    if no >= 10 and no <= 99:\n",
    "        break\n",
    "\n",
    "print(f'입력받은 양수는 {no}입니다.')"
   ]
  },
  {
   "cell_type": "markdown",
   "metadata": {},
   "source": [
    "비교 연산자를 연속으로 사용한 방법 \n",
    "\n",
    "if 10 <= no <= 99:    "
   ]
  },
  {
   "cell_type": "code",
   "execution_count": null,
   "metadata": {},
   "outputs": [],
   "source": [
    "# 2자리 양수(10 ~ 99) 입력받기 2\n",
    "\n",
    "print('2자리 양수를 입력하세요.')\n",
    "\n",
    "while True:\n",
    "    no = int(input('값을 입력하세요.: '))\n",
    "    if 10 <= no <= 99:\n",
    "        break\n",
    "\n",
    "print(f'입력받은 양수는 {no}입니다.')"
   ]
  },
  {
   "cell_type": "markdown",
   "metadata": {},
   "source": [
    "드모르간 법칙 사용 방법 \n",
    "\n",
    "if not(no < 10 or no > 99):"
   ]
  },
  {
   "cell_type": "code",
   "execution_count": null,
   "metadata": {},
   "outputs": [],
   "source": [
    "# 2자리 양수(10~99) 입력받기 3\n",
    "\n",
    "print('2자리 양수를 입력하세요.')\n",
    "\n",
    "while True:\n",
    "    no = int(input('값을 입력하세요.: '))\n",
    "    if not(no < 10 or no > 99):\n",
    "        break\n",
    "\n",
    "print(f'입력받은 양수는 {no}입니다.')"
   ]
  },
  {
   "cell_type": "markdown",
   "metadata": {},
   "source": [
    "다중 루프 알아보기 "
   ]
  },
  {
   "cell_type": "markdown",
   "metadata": {},
   "source": [
    "구구단 곱셈표 출력하기 "
   ]
  },
  {
   "cell_type": "code",
   "execution_count": null,
   "metadata": {},
   "outputs": [],
   "source": [
    "# [Do it! 실습 1-21] 구구단 곱셈표 출력하기\n",
    "\n",
    "print('-' * 27)\n",
    "for i in range(1, 10):      # 행 루프\n",
    "    for j in range(1, 10):  # 열 루프\n",
    "        print(f'{i * j : 3}', end='')\n",
    "    print()                 # 행 변경\n",
    "print('-' * 27)"
   ]
  },
  {
   "cell_type": "markdown",
   "metadata": {},
   "source": [
    "난수를 생성하는 random.randint() 함수 알아보기 \n",
    "\n",
    "random.randint(a, b) : a 이상 b 이하 난수 생성 "
   ]
  },
  {
   "cell_type": "markdown",
   "metadata": {},
   "source": [
    "직각 이등변 삼각형으로 출력하기 "
   ]
  },
  {
   "cell_type": "code",
   "execution_count": null,
   "metadata": {},
   "outputs": [],
   "source": [
    "# [Do it! 실습 1-22] 왼쪽 아래가 직각인 이등변 삼각형으로 * 출력하기\n",
    "\n",
    "print('왼쪽 아래가 직각인 이등변 삼각형을 출력합니다.')\n",
    "n = int(input('짧은 변의 길이를 입력하세요.: '))\n",
    "\n",
    "for i in range(n):          # 행 루프\n",
    "    for j in range(i + 1):  # 열 루프\n",
    "        print('*', end='')\n",
    "    print()"
   ]
  },
  {
   "cell_type": "code",
   "execution_count": null,
   "metadata": {},
   "outputs": [],
   "source": [
    "# 왼쪽 아래가 직각인 이등변 삼각형으로 * 출력하기(언더스코어 사용)\n",
    "\n",
    "print('왼쪽 아래가 직각인 이등변 삼각형을 출력합니다.')\n",
    "n = int(input('짧은 변의 길이를 입력하세요.: '))\n",
    "\n",
    "for i in range(n):          # 행 루프\n",
    "    for _ in range(i + 1):  # 열 루프\n",
    "        print('*', end='')\n",
    "    print()"
   ]
  },
  {
   "cell_type": "code",
   "execution_count": null,
   "metadata": {},
   "outputs": [],
   "source": [
    " # [Do it! 실습 1-23] 오른쪽 아래가 직각인 이등변 삼각형으로 * 출력하기\n",
    "\n",
    "print('오른쪽 아래가 직각인 이등변 삼각형을 출력합니다.')\n",
    "n = int(input('짧은 변 길이를 입력하세요.: '))\n",
    "\n",
    "for i in range(n):              # 행 루프\n",
    "    for _ in range(n - i - 1):  # 열 루프(공백을 출력)\n",
    "        print(' ', end='')\n",
    "    for _ in range(i + 1):\n",
    "        print('*', end='')      # 열 루프(*을 출력)\n",
    "    print()"
   ]
  },
  {
   "cell_type": "markdown",
   "metadata": {},
   "source": [
    "파이썬의 변수 알아보기 \n",
    "\n",
    "- 데이터, 함수, 클래스, 모듈, 패키지 모두 객체(object) 취급함 \n",
    "- 객체는 자료형(data type) 을 가지며 메모리(저장 공간) 차지  ->  '파이썬의 변수는 값을 갖지 않는다' \n",
    "\n",
    "- 변수는 객체를 참조하는 객체에 연결된 이름\n",
    "- 모든 객체는 메모리 차지. 자료형뿐 아니라 식별 번호(identity) 가짐"
   ]
  },
  {
   "cell_type": "code",
   "execution_count": null,
   "metadata": {},
   "outputs": [],
   "source": [
    "n = 17\n",
    "print(id(17))\n",
    "print(id(n))"
   ]
  },
  {
   "cell_type": "code",
   "execution_count": null,
   "metadata": {},
   "outputs": [],
   "source": [
    " # [Do it! 실습 1C-4] 함수의 내부·외부에서 정의한 변수와 객체의 식별 번호를 출력\n",
    "\n",
    "n = 1      # 전역 변수(함수 내부·외부에서 사용)\n",
    "def put_id():\n",
    "    x = 1  # 지역 변수(함수 내부에서만 사용)\n",
    "    print(f'id(x) = {id(x)}')\n",
    "    \n",
    "print(f'id(1) = {id(1)}')\n",
    "print(f'id(n) = {id(n)}')\n",
    "put_id()"
   ]
  },
  {
   "cell_type": "code",
   "execution_count": null,
   "metadata": {},
   "outputs": [],
   "source": [
    "# [Do it! 실습 1C-5] 1부터 100까지 반복하여 출력\n",
    "\n",
    "for i in range(1, 101):\n",
    "    print(f'i = {i:3}   id(i) = {id(i)}')"
   ]
  },
  {
   "cell_type": "code",
   "execution_count": null,
   "metadata": {},
   "outputs": [],
   "source": []
  },
  {
   "cell_type": "code",
   "execution_count": null,
   "metadata": {},
   "outputs": [],
   "source": []
  }
 ],
 "metadata": {
  "kernelspec": {
   "display_name": "Python 3.9.12 ('base')",
   "language": "python",
   "name": "python3"
  },
  "language_info": {
   "name": "python",
   "version": "3.9.12"
  },
  "orig_nbformat": 4,
  "vscode": {
   "interpreter": {
    "hash": "ca71aff40853dd846130b67975d07637ec6294bee047a07657cfc9075e3162be"
   }
  }
 },
 "nbformat": 4,
 "nbformat_minor": 2
}
