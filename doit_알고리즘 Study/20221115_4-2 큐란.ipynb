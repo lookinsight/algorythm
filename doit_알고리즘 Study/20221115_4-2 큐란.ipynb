{
 "cells": [
  {
   "cell_type": "markdown",
   "metadata": {},
   "source": [
    "데이터 임시 저장하는 자료구조\n",
    "\n",
    "스택처럼 가장 나중에 넣은 데이터를 가장 먼저 꺼내지 않음."
   ]
  },
  {
   "cell_type": "markdown",
   "metadata": {},
   "source": [
    "큐 알아보기 \n",
    "\n",
    "- 가장 먼저 넣은 데이터를 가장 먼저 꺼내는 선입선출 FIFO(first in first out) \n",
    "- 인큐: 데이터 추가\n",
    "- 디큐: 데이터 꺼내기\n",
    "- 프런트: 데이터 꺼내는 쪽 \n",
    "- 리어 : 데이터 넣는 쪽\n",
    "\n",
    "\n",
    "배열로 큐 구현하기 "
   ]
  },
  {
   "cell_type": "markdown",
   "metadata": {},
   "source": [
    "우선순위 큐(priority queue) \n",
    "\n",
    "- 인큐할 때 데이터 우선순위 부여 추가\n",
    "- 디큐할 때 우선순위가 가장 높은 데이터 꺼내는 방식 \n",
    "- heapq 모듈에서 재공.\n",
    "- heap 에서 data의 인큐는 heapq.heappush(heap, data) 로 수행. \n",
    "- 디큐는 heapq.heappop(heap) 으로 수행 "
   ]
  },
  {
   "cell_type": "markdown",
   "metadata": {},
   "source": [
    "링 버퍼로 큐 구현하기 \n",
    "\n",
    "- 디큐할 때 배열 안의 원소를 옮기지 않는 큐 구현 = 링버퍼(ring buffer) \n",
    "\n",
    "- 7개의 데이터 35, 56, 24, 68, 95, 73, 19 가 늘어선 순서대로 que[7], que[8], ... , que[11], que[0], que[1] 저장\n",
    "- front 값 7, rear 값 2 \n",
    "\n",
    "- 82를 인큐한 다음의 상태. 맨끝 다음에 위치한 que[rear], 즉 que[2] 에 82 저장하고 rear 값 1증가 시켜 3으로 만듦\n",
    "\n",
    "- 35를 디큐한 다음 상태. 맨 앞 원소인 que[front], 즉 que[7]의 값인 35를 꺼내고 front 값 1증가시켜 8로 만듦 \n",
    "\n",
    "- 링 버퍼로 큐를 구현하면 원소를 옮길 필요 없이 front 와 rear 값을 업데이트하는 것만으로 인큐와 다큐 수행. \n",
    "- 모든 처리 복잡도 O(1) "
   ]
  },
  {
   "cell_type": "code",
   "execution_count": 1,
   "metadata": {},
   "outputs": [],
   "source": [
    "# 고정 길이 큐 클래스 FixedQueue 구현하기\n",
    "\n",
    "from typing import AnyStr\n",
    "\n",
    "class FisedQueue:\n",
    "    \n",
    "    class Empty(Exception):\n",
    "        \"\"\"비어있는 FixedQueue 에서 디큐 또는 피크할 때 내보내는 예외 처리\"\"\"\n",
    "        pass \n",
    "    \n",
    "    class Full(Exception):\n",
    "        \"\"\"가득 차 있는 FixedQueue 에서 인큐할 때 내보내는 예외처리\"\"\"\n",
    "        pass \n",
    "    \n",
    "    def __init__(self, capacity: int) -> None: \n",
    "        \"\"\"큐 초기화\"\"\"\n",
    "        self.no = 0         # 현재 데이터 개수\n",
    "        self.front = 0      # 맨 앞 원소 커서 \n",
    "        self.rear = 0       # 맨 끝 원소 커서 \n",
    "        self.capacity = capacity    # 큐의 크기 \n",
    "        self.que = [None] * capacity     # 큐의 본체 \n",
    "        \n",
    "    def __len__(self) -> int:\n",
    "        \"\"\"큐에 있는 모든 데이터 개수를 반환\"\"\"\n",
    "        return self.no \n",
    "    \n",
    "    def in_empty(self) -> bool:\n",
    "        \"\"\"큐가 비어 있는지 판단\"\"\"\n",
    "        return self.no <= 0\n",
    "    \n",
    "    def is_full(self) -> bool:\n",
    "        \"\"\"큐가 가득 차 있는지 판다\"\"\"\n",
    "        return self.no >= self.capacity "
   ]
  },
  {
   "cell_type": "markdown",
   "metadata": {},
   "source": [
    "예외 처리 클래스 Empty와 Full\n",
    "\n",
    "초기화하는 __init__() 함수 \n",
    "\n",
    "- que: 큐의 배열로서 밀어 넣는 데이터를 저장하는 list 형 배열\n",
    "- capacity: 큐의 최대 크기를 나타내는 int형 정수. 이 값은 배열 que 의 원소 수와 일치\n",
    "- front, rear: 맨 앞의 원소, 맨 끝의 원소를 나타내는 인덱스. 큐에 넣은 데이터 중 가장 처음에 넣은 맨 앞 front. 마지막 맨 끝 rear.\n",
    "    - rear 는 다음에 인큐할 때 데이터 저장하는 원소 인덱스 \n",
    "- no: 큐에 쌓여 있는 데이터 개수를 나타내는 int형 정수. 변수 front 와 rear 값이 같을 경우 큐가 비어 있는지 가득찼는지 구별하기 위해 필요. \n",
    "    - 큐가 비면 no = 0, 큐가 가득차면 no = capacity \n",
    "\n",
    "\n",
    "추가한 데이터 개수를 알아내는 __len__() 함수\n",
    "\n",
    "큐가 비어 있는지 판단하는 is_empty() 함수 \n",
    "\n",
    "큐가 가득 차 있는지 판단하는 is_full() 함수\n",
    "\n",
    "데이터를 넣는 enque() 함수 "
   ]
  },
  {
   "cell_type": "code",
   "execution_count": 2,
   "metadata": {},
   "outputs": [
    {
     "ename": "NameError",
     "evalue": "name 'Any' is not defined",
     "output_type": "error",
     "traceback": [
      "\u001b[1;31m---------------------------------------------------------------------------\u001b[0m",
      "\u001b[1;31mNameError\u001b[0m                                 Traceback (most recent call last)",
      "\u001b[1;32mc:\\algorythm\\doit_python\\20221115_4-2 큐란.ipynb 셀 7\u001b[0m in \u001b[0;36m<cell line: 1>\u001b[1;34m()\u001b[0m\n\u001b[1;32m----> <a href='vscode-notebook-cell:/c%3A/algorythm/doit_python/20221115_4-2%20%ED%81%90%EB%9E%80.ipynb#W6sZmlsZQ%3D%3D?line=0'>1</a>\u001b[0m \u001b[39mdef\u001b[39;00m \u001b[39menque\u001b[39m(\u001b[39mself\u001b[39m, x: Any) \u001b[39m-\u001b[39m\u001b[39m>\u001b[39m \u001b[39mNone\u001b[39;00m:\n\u001b[0;32m      <a href='vscode-notebook-cell:/c%3A/algorythm/doit_python/20221115_4-2%20%ED%81%90%EB%9E%80.ipynb#W6sZmlsZQ%3D%3D?line=1'>2</a>\u001b[0m     \u001b[39m\"\"\"데이터 x를 인큐\"\"\"\u001b[39;00m\n\u001b[0;32m      <a href='vscode-notebook-cell:/c%3A/algorythm/doit_python/20221115_4-2%20%ED%81%90%EB%9E%80.ipynb#W6sZmlsZQ%3D%3D?line=2'>3</a>\u001b[0m     \u001b[39mif\u001b[39;00m \u001b[39mself\u001b[39m\u001b[39m.\u001b[39mis_full():\n",
      "\u001b[1;31mNameError\u001b[0m: name 'Any' is not defined"
     ]
    }
   ],
   "source": [
    "def enque(self, x: Any) -> None:\n",
    "    \"\"\"데이터 x를 인큐\"\"\"\n",
    "    if self.is_full():\n",
    "        raise FixedQueue.Full    # 큐가 가득 차 있는 경우 예외 처리 발생 \n",
    "    self.que[self.rear] = x \n",
    "    self.rear += 1 \n",
    "    self.no += 1\n",
    "    if self.rear == self.capacity:\n",
    "        self.rear = 0 \n",
    "        \n",
    "# 5 ~ 7행: que[rear]인 que[2]에 인큐하는 데이터 저장하고 rear 와 no의 값을 1 증가시키면 인큐 완료        \n",
    "# 인큐 하기 전 rear 값이 배열 맨 끝인 경우에 rear 값을 1 증가시키면 capacity 값과 똑같이 되어 배열 인덱스의 한계를 넘어감\n",
    "# 8 ~ 9행: rear 1을 증가시킨 뒤 rear 값이 큐의 크기인 capacity 와 같을 경우 rear 를 배열 맨 앞 인덱스 0으로 되돌린다. \n",
    "# 다음에 인큐하는 데이터가 que[0] 위치에 제대로 저장."
   ]
  },
  {
   "cell_type": "markdown",
   "metadata": {},
   "source": [
    "데이터를 꺼내는 deque() 함수 "
   ]
  },
  {
   "cell_type": "code",
   "execution_count": null,
   "metadata": {},
   "outputs": [],
   "source": [
    "def deque(self) -> Any:\n",
    "    \"\"\"데이터를 디큐\"\"\"\n",
    "    if self.is_empty():\n",
    "        raise FixedQueue.Empty     # 큐가 비어있는 경우 예외 처리 \n",
    "    x = self.que[self.front] \n",
    "    self.front += 1\n",
    "    self.no -= 1\n",
    "    if self.front == self.capacity:\n",
    "        self.front = 0 \n",
    "    return x \n",
    "\n",
    "# 5 ~ 8행: 큐의 맨 앞인 que[front], 즉 que[7]에 저장된 값 35를 꺼내고 front 1 증가, no를 1 감소\n",
    "# 디큐 전 front 가 배열 맨 끝 이면 front 1 증가 시키면 그 값이 capacity 와 같아져 배열 인덱스 한계 넘어감\n",
    "# 8 ~ 9 행: front값이 큐의 크기인 capacity 와 같을 경우 front 1 증가 시켜 배열 맨 앞 인덱스인 0으로 되돌림\n",
    "# 다음 디큐 시 데이터를 que[0]위치에서 꺼낼 수 있음 "
   ]
  },
  {
   "cell_type": "markdown",
   "metadata": {},
   "source": [
    "데이터를 들여다보는 peek() 함수 \n",
    "\n",
    "검색하는 find() 함수 \n",
    "\n",
    "데이터 개수를 세는 count() 함수 \n",
    "\n",
    "데이터가 포함되어 있는지를 판단하는 __contains__() 함수 \n",
    "\n",
    "큐의 전체 원소를 삭제하는 clear()함수 \n",
    "\n",
    "큐의 전체 데이터를 출력하는 dump() 함수 "
   ]
  },
  {
   "cell_type": "markdown",
   "metadata": {},
   "source": [
    "양방향 대기열 덱의 구조 \n",
    "\n",
    "- 덱(deque) 은 맨 앞과 맨 끝 양쪽에서 데이터를 넣고 꺼낼수 있는 자료구조. \n",
    "- collections.deque 컨테이너로 제공 \n",
    "\n",
    "- 덱(deque) ? : double-ended queue  맨 앞, 뒤 양쪽에서 데이터를 모두 삽입, 삭제 할 수 있는 자료 구조. 2개 포인터 사용하여 양쪽에서 삭제, 삽입 가능\n",
    "     - 큐와 스택 합친 형태 "
   ]
  },
  {
   "cell_type": "markdown",
   "metadata": {},
   "source": [
    "링 버커로 큐 프로그램 만들기 "
   ]
  },
  {
   "cell_type": "code",
   "execution_count": null,
   "metadata": {},
   "outputs": [],
   "source": [
    "# [Do it! 실습 4-4] 고정 길이 큐 클래스(FixedQueue)를 사용하기\n",
    "\n",
    "from enum import Enum\n",
    "from fixed_queue import FixedQueue\n",
    "\n",
    "Menu = Enum('Menu', ['인큐', '디큐', '피크', '검색', '덤프', '종료'])\n",
    "\n",
    "def select_menu() -> Menu:\n",
    "    \"\"\"메뉴 선택\"\"\"\n",
    "    s = [f'({m.value}){m.name}' for m in Menu]\n",
    "    while True:\n",
    "        print(*s, sep='   ', end='')\n",
    "        n = int(input(': '))\n",
    "        if 1 <= n <= len(Menu):\n",
    "            return Menu(n)\n",
    "\n",
    "q = FixedQueue(64)  # 최대 64개를 인큐할 수 있는 큐 생성(고정 길이)\n",
    "\n",
    "while True:\n",
    "    print(f'현재 데이터 개수: {len(q)} / {q.capacity}')\n",
    "    menu = select_menu()   # 메뉴 선택\n",
    "\n",
    "    if menu == Menu.인큐:  # 인큐\n",
    "        x = int(input('인큐할 데이터를 입력하세요.: '))\n",
    "        try:\n",
    "            q.enque(x)\n",
    "        except FixedQueue.Full:\n",
    "            print('큐가 가득 찼습니다.')\n",
    "\n",
    "    elif menu == Menu.디큐:  # 디큐\n",
    "        try:\n",
    "            x = q.deque()\n",
    "            print(f'디큐한 데이터는 {x}입니다.')\n",
    "        except FixedQueue.Empty:\n",
    "            print('큐가 비어 있습니다.')\n",
    "\n",
    "    elif menu == Menu.피크:  # 피크\n",
    "        try:\n",
    "            x = q.peek()\n",
    "            print(f'피크한 데이터는 {x}입니다.')\n",
    "        except FixedQueue.Empty:\n",
    "            print('큐가 비었습니다.')\n",
    "\n",
    "    elif menu == Menu.검색:  # 검색\n",
    "        x = int(input('검색할 값을 입력하세요.: '))\n",
    "        if x in q:\n",
    "            print(f'{q.count(x)}개 포함되고, 맨 앞의 위치는 {q.find(x)}입니다.')\n",
    "        else:\n",
    "            print('검색값을 찾을 수 없습니다.')\n",
    "\n",
    "    elif menu == Menu.덤프:  # 덤프\n",
    "        q.dump()\n",
    "    else:\n",
    "        break"
   ]
  },
  {
   "cell_type": "markdown",
   "metadata": {},
   "source": [
    "링 버커의 활용 \n",
    "\n",
    "- 오래된 데이터 버리는 용도\n",
    "- 원소 수가 n 인 배열에 데이터를 계속해서 입력할 때 가장 최근에 들어온 데이터 n개만 저장하고 나머지 오래된 데이터는 버리는 경우"
   ]
  },
  {
   "cell_type": "code",
   "execution_count": null,
   "metadata": {},
   "outputs": [],
   "source": [
    "# [Do it! 실습 4C-2] 원하는 개수(n)만큼 값을 입력받아 마지막 n개를 저장\n",
    "\n",
    "n = int(input('정수를 몇 개 저장할까요? : '))\n",
    "a = [None] * n  # 입력 받은 값을 저장하는 배열\n",
    "\n",
    "cnt = 0         # 입력 받은 개수\n",
    "while True:\n",
    "    a[cnt % n] = int(input((f'{cnt + 1} 번째 정수를 입력하세요.: ')))\n",
    "    cnt += 1\n",
    "\n",
    "    retry = input(f'계속 할까요?(Y ... Yes / N ... No) : ')\n",
    "    if retry in {'N', 'n'}:\n",
    "        break\n",
    "\n",
    "i = cnt - n\n",
    "if i < 0: i = 0\n",
    "\n",
    "while i < cnt:\n",
    "    print(f'{i + 1}번째 = {a[i % n]}')\n",
    "    i += 1\n",
    "    \n",
    "# 리스트형 배열 a의 원소 수 n개\n",
    "# 정수 계속 입력(인큐) 할 수 있지만 배열에 저장되는 데이터는 가장 최근에 입력한 n개만 링 버퍼에 남음\n",
    "# 8행 : 입력받은 값을 a[cnt % n] 에 저장. \n",
    "#   - 1번째 값 입력 받기: cnt 0, 10으로 나눈 나머지 0. a[0] 에 저장\n",
    "#   - 2번째 값 입력 받기: cnt 1, 10으로 나눈 나머지 1. a[1] 에 저장 \n",
    "#   - ...\n",
    "#   - 10번째 값 입력 받기: cnt 9, 10으로 나눈 나머지 9, a[9]에 저장\n",
    "#   - 11번째 값 입력 받기: cnt 10, 10으로 나눈 나머지 0, a[0]에 저장\n",
    "#   - 12번째 값 입력 받기: cnt 11, 10으로 나눈 나머지 1, a[1]에 저장 \n",
    "\n",
    "# 입력받은 개수 cnt가 10개 이하라면 a[0] ~ a[cnt - 1]을 앞에서 차례대로 출력할 수 있음. (출력하는 값 cnt개) "
   ]
  },
  {
   "cell_type": "code",
   "execution_count": null,
   "metadata": {},
   "outputs": [],
   "source": []
  },
  {
   "cell_type": "code",
   "execution_count": null,
   "metadata": {},
   "outputs": [],
   "source": []
  },
  {
   "cell_type": "code",
   "execution_count": null,
   "metadata": {},
   "outputs": [],
   "source": []
  },
  {
   "cell_type": "code",
   "execution_count": null,
   "metadata": {},
   "outputs": [],
   "source": []
  },
  {
   "cell_type": "code",
   "execution_count": null,
   "metadata": {},
   "outputs": [],
   "source": []
  },
  {
   "cell_type": "code",
   "execution_count": null,
   "metadata": {},
   "outputs": [],
   "source": []
  },
  {
   "cell_type": "code",
   "execution_count": null,
   "metadata": {},
   "outputs": [],
   "source": []
  },
  {
   "cell_type": "code",
   "execution_count": null,
   "metadata": {},
   "outputs": [],
   "source": []
  },
  {
   "cell_type": "code",
   "execution_count": null,
   "metadata": {},
   "outputs": [],
   "source": []
  },
  {
   "cell_type": "code",
   "execution_count": null,
   "metadata": {},
   "outputs": [],
   "source": []
  },
  {
   "cell_type": "code",
   "execution_count": null,
   "metadata": {},
   "outputs": [],
   "source": []
  },
  {
   "cell_type": "code",
   "execution_count": null,
   "metadata": {},
   "outputs": [],
   "source": []
  },
  {
   "cell_type": "code",
   "execution_count": null,
   "metadata": {},
   "outputs": [],
   "source": []
  },
  {
   "cell_type": "code",
   "execution_count": null,
   "metadata": {},
   "outputs": [],
   "source": []
  },
  {
   "cell_type": "code",
   "execution_count": null,
   "metadata": {},
   "outputs": [],
   "source": []
  },
  {
   "cell_type": "code",
   "execution_count": null,
   "metadata": {},
   "outputs": [],
   "source": []
  },
  {
   "cell_type": "code",
   "execution_count": null,
   "metadata": {},
   "outputs": [],
   "source": []
  }
 ],
 "metadata": {
  "kernelspec": {
   "display_name": "Python 3.9.12 ('base')",
   "language": "python",
   "name": "python3"
  },
  "language_info": {
   "codemirror_mode": {
    "name": "ipython",
    "version": 3
   },
   "file_extension": ".py",
   "mimetype": "text/x-python",
   "name": "python",
   "nbconvert_exporter": "python",
   "pygments_lexer": "ipython3",
   "version": "3.9.12"
  },
  "orig_nbformat": 4,
  "vscode": {
   "interpreter": {
    "hash": "ca71aff40853dd846130b67975d07637ec6294bee047a07657cfc9075e3162be"
   }
  }
 },
 "nbformat": 4,
 "nbformat_minor": 2
}
