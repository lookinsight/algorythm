{
 "cells": [
  {
   "cell_type": "markdown",
   "metadata": {},
   "source": [
    "재귀 알고리즘 분석하는 방법 - 하향식 분석 & 상향식 분석\n",
    "\n",
    "재귀 알고리즘을 비재귀적으로 구현하는 방법"
   ]
  },
  {
   "cell_type": "markdown",
   "metadata": {},
   "source": [
    "재귀 알고리즘의 2가지 분석 방법"
   ]
  },
  {
   "cell_type": "code",
   "execution_count": 3,
   "metadata": {},
   "outputs": [
    {
     "name": "stdout",
     "output_type": "stream",
     "text": [
      "1\n",
      "2\n",
      "3\n",
      "1\n",
      "4\n",
      "1\n",
      "2\n",
      "5\n",
      "1\n",
      "2\n",
      "3\n",
      "1\n"
     ]
    }
   ],
   "source": [
    "# 순수한 재귀 함수 구현하기\n",
    "\n",
    "def recur(n : int) -> int:\n",
    "    \"\"\"순수한 재귀 함수 recur 구현\"\"\"\n",
    "    if n > 0:\n",
    "        recur(n - 1) \n",
    "        print(n) \n",
    "        recur(n - 2) \n",
    "        \n",
    "x = int(input('정숫값을 입력하세요 :')) \n",
    "\n",
    "recur(x)         \n",
    "\n",
    "# 함수 안에서 재귀 호출 2번 실행\n",
    "# 순수한(genuinely) 재귀: 재귀 호출을 여러 번 실행하는 함수"
   ]
  },
  {
   "cell_type": "markdown",
   "metadata": {},
   "source": [
    "하향식 분석(top-down analysis) \n",
    "\n",
    "- 매개변수 n에 4를 전달할 때 recur() 함수의 실행 과정\n",
    "\n",
    "    - recur(4)\n",
    "    1. recur(3)을 실행\n",
    "    2. 4를 출력\n",
    "    3. recur(2)를 실행 \n",
    "\n",
    "- recur(3) 함수 호출\n",
    "    - recur(3) 호출하면 왼쪽 아래 상자 recur(0) 까지 계속 왼쪽 화살표 따라감\n",
    "    - 바로 4 출력 못함\n",
    "    - recur(0) 에서 왼쪽 활살표 따라 빈 상자(-) 만나면 recur(0) 호출한 원래 상자로 돌아가 1 출력\n",
    "    - recur(-1) 호출하고 오른쪽 화살표 따라 내려가 빈 상자 만나면 돌아옴\n",
    "    - 한 단계 완료하면 1칸 위 상자 recur(1) 로 올라감. recur(1) 은 이전 단계에서 실행해서 2 출력\n",
    "    - recur(0) 따라 오른쪽 아래 상자로 내려가지만 빈 상자 만나서 다시 돌아옴\n",
    "    - recur() 함수 호출하는 과정을 하향식 분석 하면 recur(3) 호출한 상자 돌아가려면 많은 단계 거쳐야 함    \n",
    "    \n",
    "    - recur(1), recur(2) 등을 여러 번 호출. -> 효츌적???"
   ]
  },
  {
   "cell_type": "markdown",
   "metadata": {},
   "source": [
    "상향식 분석(bottom-up analysis) \n",
    "\n",
    "- recur(1)의 실행 과정\n",
    "\n",
    "    1. recur(0) 을 실행\n",
    "    2. 1을 출력\n",
    "    3. recur(-1) 실행\n",
    "    - 과정 1의 recur(0) 과 과정 3의 recur(-1) 출력 내용 없으므로 과정 2 1만 출력. \n",
    "\n",
    "\n",
    "- recur(2)의 실행과정\n",
    "\n",
    "    1. recur(1) 실행\n",
    "    2. 2를 출력\n",
    "    3. recur(0) 실행 \n",
    "\n",
    ".....    \n"
   ]
  },
  {
   "cell_type": "markdown",
   "metadata": {},
   "source": [
    "recur() 함수의 재귀 호출을 거꾸로 출력하기 "
   ]
  },
  {
   "cell_type": "code",
   "execution_count": 4,
   "metadata": {},
   "outputs": [
    {
     "name": "stdout",
     "output_type": "stream",
     "text": [
      "2\n",
      "1\n",
      "4\n",
      "1\n",
      "3\n",
      "2\n",
      "1\n"
     ]
    }
   ],
   "source": [
    "# 거꾸로 출력\n",
    "\n",
    "def recur(n : int) -> int:\n",
    "    \"\"\"순수한 재귀 함수 recur 구현(거꾸로 출력)\"\"\"\n",
    "    if n > 0:\n",
    "        recur(n - 2) \n",
    "        print(n) \n",
    "        recur(n - 1) \n",
    "        \n",
    "x = int(input('정숫값을 입력하세요 :')) \n",
    "\n",
    "recur(x)  "
   ]
  },
  {
   "cell_type": "markdown",
   "metadata": {},
   "source": [
    "#### 위 코드 상향식 분석\n",
    "\n",
    "recur(-1) : 아무것도 안함\n",
    "\n",
    "recur(0) : 아무것도 안함\n",
    "\n",
    "-----------------------------\n",
    "\n",
    "recur(1) : recur(-1) 1 recur(0) -> 1\n",
    "\n",
    "recur(2) : recur(0) 2 recur(1)  -> 2 1\n",
    "\n",
    "recur(3) : recur(1) 3 recur(2)  -> 1 3 2 1\n",
    "\n",
    "recur(4) : recur(2) 4 recur(3)  -> 2 1 4 1 3 2 1"
   ]
  },
  {
   "cell_type": "markdown",
   "metadata": {},
   "source": [
    "재귀 알고리즘의 비재귀적 표현\n",
    "\n",
    "꼬리 재귀를 제거하기 \n",
    "\n",
    "- recur() 함수 맨 끝에서 재귀 호출하는 꼬리 재귀 recur(n - 2) 의미 = '인수로 n - 2의 값을 전달하고 recur() 함수 호출하는 것'\n",
    "    - 동작바꿈: n의 값을 n-2 로 업데이트 하고 함수의 시작 지점으로 돌아간다"
   ]
  },
  {
   "cell_type": "code",
   "execution_count": 5,
   "metadata": {},
   "outputs": [
    {
     "name": "stdout",
     "output_type": "stream",
     "text": [
      "1\n",
      "2\n",
      "3\n",
      "1\n",
      "4\n",
      "1\n",
      "2\n"
     ]
    }
   ],
   "source": [
    "# 비 재귀적으로 재귀 함수 구현하기(꼬리 재귀를 제거) \n",
    " \n",
    "def recur(n : int) -> int:\n",
    "    \"\"\"꼬리 재귀를 제거한 recur() 함수\"\"\"\n",
    "    while n > 0:\n",
    "        recur(n-1)\n",
    "        print(n)\n",
    "        n = n - 2\n",
    "        \n",
    "x = int(input('정숫값을 입력하세요 :')) \n",
    "\n",
    "recur(x)         "
   ]
  },
  {
   "cell_type": "markdown",
   "metadata": {},
   "source": [
    "재귀를 제거하기 \n",
    "\n",
    "- 맨 앞에서 재귀 호출하는 recur(n-1) 함수는 제거하기가 쉽지 않다.\n",
    "      - 왜냐하면, n값을 출력하기 전 recur(n-1) 실행해야 하기 때문. \n",
    "      - 예를 들어, n = 4 경우, 재귀 호출 recur(3) 처리 완료될 때까지 4를 어딘가에 저장해야 함\n",
    "      - 재귀 호출하는 recur(n-1) 제거하려면 다음과 같이 간단하게 바꿀 수 없다\n",
    "\n",
    "      - n값을 n-1로 업데이트 하고 함수의 시작 지점으로 돌아간다 X \n",
    "           - 왜냐하면, 현재 n값을 임시로 저장할 필요가 있기 때문.\n",
    "           - 또한 recur(n-1) 처리를 완료하고, n값을 출력할 때 임시로 n을 꺼내 그 값을 출력해야 함.\n",
    "           - 스택(stack) 으로 해결 가능"
   ]
  },
  {
   "cell_type": "code",
   "execution_count": 7,
   "metadata": {},
   "outputs": [
    {
     "name": "stdout",
     "output_type": "stream",
     "text": [
      "1\n",
      "2\n",
      "3\n",
      "1\n",
      "4\n",
      "1\n",
      "2\n"
     ]
    }
   ],
   "source": [
    "# 스택으로 재귀 함수 구현하기(재귀를 제거) \n",
    "\n",
    "from stack import Stack      \n",
    "\n",
    "def recur(n: int) -> int:\n",
    "    \"\"\"재귀를 제거한 recur() 함수\"\"\"\n",
    "    s = Stack(n) \n",
    "    \n",
    "    while True:\n",
    "        if n > 0:\n",
    "            s.push(n)                # n값을 푸시\n",
    "            n = n - 1\n",
    "            continue\n",
    "        if not s.is_empty():         # 스택이 비어 있지 않으면\n",
    "            n = s.pop()              # 저장한 값을 n에 팝\n",
    "            print(n) \n",
    "            n = n - 2\n",
    "            continue \n",
    "        break \n",
    "    \n",
    "x = int(input('정숫값을 입력하세요 :')) \n",
    "\n",
    "recur(x)       \n",
    "            \n",
    "            \n",
    "# recur(4) 일때\n",
    "# (11 ~ 13행) \n",
    "# n값 4를 스택에 푸시\n",
    "# n값 1 감소시켜 3으로 만듦\n",
    "# continue문 실행되어 while 문으로 돌아감 \n",
    "# n > 0 만족하면 계속 반복\n",
    "# 스택에 4, 3, 2, 1 쌓임\n",
    "# 스택에 1을 쌓은 뒤 n값은 0이 되고, 다시 while문으로 돌아가지만 n 값은 0이 되므로 if문 실행 안됨\n",
    "\n",
    "# (14 ~ 18행) \n",
    "# 스택에서 팝한 값 1을 n으로 꺼냄\n",
    "# n값 1을 출력\n",
    "# n값을 2 감소시켜 -1로 함\n",
    "# continue 문 동작으로 while 문 맨 앞으로 돌아감            "
   ]
  },
  {
   "cell_type": "code",
   "execution_count": null,
   "metadata": {},
   "outputs": [],
   "source": []
  },
  {
   "cell_type": "code",
   "execution_count": null,
   "metadata": {},
   "outputs": [],
   "source": []
  },
  {
   "cell_type": "code",
   "execution_count": null,
   "metadata": {},
   "outputs": [],
   "source": []
  },
  {
   "cell_type": "code",
   "execution_count": null,
   "metadata": {},
   "outputs": [],
   "source": []
  },
  {
   "cell_type": "code",
   "execution_count": null,
   "metadata": {},
   "outputs": [],
   "source": []
  },
  {
   "cell_type": "code",
   "execution_count": null,
   "metadata": {},
   "outputs": [],
   "source": []
  },
  {
   "cell_type": "code",
   "execution_count": null,
   "metadata": {},
   "outputs": [],
   "source": []
  },
  {
   "cell_type": "code",
   "execution_count": null,
   "metadata": {},
   "outputs": [],
   "source": []
  },
  {
   "cell_type": "code",
   "execution_count": null,
   "metadata": {},
   "outputs": [],
   "source": []
  },
  {
   "cell_type": "code",
   "execution_count": null,
   "metadata": {},
   "outputs": [],
   "source": []
  },
  {
   "cell_type": "code",
   "execution_count": null,
   "metadata": {},
   "outputs": [],
   "source": []
  },
  {
   "cell_type": "code",
   "execution_count": null,
   "metadata": {},
   "outputs": [],
   "source": []
  },
  {
   "cell_type": "code",
   "execution_count": null,
   "metadata": {},
   "outputs": [],
   "source": []
  },
  {
   "cell_type": "code",
   "execution_count": null,
   "metadata": {},
   "outputs": [],
   "source": []
  },
  {
   "cell_type": "code",
   "execution_count": null,
   "metadata": {},
   "outputs": [],
   "source": []
  },
  {
   "cell_type": "code",
   "execution_count": null,
   "metadata": {},
   "outputs": [],
   "source": []
  },
  {
   "cell_type": "code",
   "execution_count": null,
   "metadata": {},
   "outputs": [],
   "source": []
  },
  {
   "cell_type": "code",
   "execution_count": null,
   "metadata": {},
   "outputs": [],
   "source": []
  },
  {
   "cell_type": "code",
   "execution_count": null,
   "metadata": {},
   "outputs": [],
   "source": []
  },
  {
   "cell_type": "code",
   "execution_count": null,
   "metadata": {},
   "outputs": [],
   "source": []
  },
  {
   "cell_type": "code",
   "execution_count": null,
   "metadata": {},
   "outputs": [],
   "source": []
  },
  {
   "cell_type": "code",
   "execution_count": null,
   "metadata": {},
   "outputs": [],
   "source": []
  },
  {
   "cell_type": "code",
   "execution_count": null,
   "metadata": {},
   "outputs": [],
   "source": []
  },
  {
   "cell_type": "code",
   "execution_count": null,
   "metadata": {},
   "outputs": [],
   "source": []
  },
  {
   "cell_type": "code",
   "execution_count": null,
   "metadata": {},
   "outputs": [],
   "source": []
  },
  {
   "cell_type": "code",
   "execution_count": null,
   "metadata": {},
   "outputs": [],
   "source": []
  },
  {
   "cell_type": "code",
   "execution_count": null,
   "metadata": {},
   "outputs": [],
   "source": []
  },
  {
   "cell_type": "code",
   "execution_count": null,
   "metadata": {},
   "outputs": [],
   "source": []
  },
  {
   "cell_type": "code",
   "execution_count": null,
   "metadata": {},
   "outputs": [],
   "source": []
  },
  {
   "cell_type": "code",
   "execution_count": null,
   "metadata": {},
   "outputs": [],
   "source": []
  },
  {
   "cell_type": "code",
   "execution_count": null,
   "metadata": {},
   "outputs": [],
   "source": []
  },
  {
   "cell_type": "code",
   "execution_count": null,
   "metadata": {},
   "outputs": [],
   "source": []
  },
  {
   "cell_type": "code",
   "execution_count": null,
   "metadata": {},
   "outputs": [],
   "source": []
  }
 ],
 "metadata": {
  "kernelspec": {
   "display_name": "Python 3.9.12 ('base')",
   "language": "python",
   "name": "python3"
  },
  "language_info": {
   "codemirror_mode": {
    "name": "ipython",
    "version": 3
   },
   "file_extension": ".py",
   "mimetype": "text/x-python",
   "name": "python",
   "nbconvert_exporter": "python",
   "pygments_lexer": "ipython3",
   "version": "3.9.12"
  },
  "orig_nbformat": 4,
  "vscode": {
   "interpreter": {
    "hash": "ca71aff40853dd846130b67975d07637ec6294bee047a07657cfc9075e3162be"
   }
  }
 },
 "nbformat": 4,
 "nbformat_minor": 2
}
