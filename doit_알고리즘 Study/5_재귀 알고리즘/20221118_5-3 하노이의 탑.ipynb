{
 "cells": [
  {
   "cell_type": "markdown",
   "metadata": {},
   "source": [
    "하노이의탑\n",
    "\n",
    "쌓아 놓은 원반을 최소 횟수로 옮기는 알고리즘"
   ]
  },
  {
   "cell_type": "markdown",
   "metadata": {},
   "source": [
    "하노이의 탑(towers of Hanoi) 알아보기\n",
    "\n",
    "- 작은 원반이 위에, 큰 원반이 아래에 위치하는 규칙을 지키면서 기둥 3개를 이용해서 원반을 옮기는 문제.\n",
    "\n",
    "1. 크기가 모두 다른 원반이 첫 번째 기둥에 쌓여 있는 상태로 시작.(이 때 작은 원반은 위에, 큰 원반은 아래에 있음)\n",
    "2. 모든 원반을 세 번째 기둥에 최소 횟수로 옮기면 됨.\n",
    "3. 원반은 1개씩 옮길 수 있고, 큰 원반은 작은 원반 위에 쌓을 수 없다는 규칙을 지켜야 함 \n",
    "\n",
    "    * 하노이의 탑은 피보나치 수를 연구한 프랑스 수학자 프랑수아 E.A.뤼카 rk 1883년에 발매한 퍼즐. \n",
    "        - \"황금 원반 64개를 3개의 탑 사이에서 바꿔 옮기면 종말이 찾아온다\" 는 인도 신화\n",
    "\n",
    "\n",
    "* 원반이 3개일 때(그룹으로 묶어 옮기기) \n",
    "\n",
    "- 원반이 처음 놓인 1기둥을 시작 기둥, 중간에 놓인 2기둥을 중간 기둥, 최종 목적지인 3기둥을 목표 기둥.\n",
    "- 원반 1과 원반 2를 그룹으로 묶으면(1그룹). 1그룹을 중간 기둥으로 옮긴 후에 가장 큰 원반 3을 목표 기둥으로 옮기면 됨\n",
    "    > 이렇게 하면 총 3단계로 끝남\n",
    "\n",
    "\n",
    "* 원반이 2개일 때(그룹1을 풀어서 옮기는 단계 구현) \n",
    "\n",
    "- 원반 1(그룹1)을 중간기둥\n",
    "- 원반 2를 목표기둥\n",
    "- 원반 1을 목표기둥\n",
    "\n",
    "\n",
    "\n",
    "* 원반이 4개일 때\n",
    "\n",
    "- 원반 1, 2, 3을 그룹으로 묶고 중간기둥\n",
    "- 원반 4를 목표기둥\n",
    "- 그룹을 목표기둥"
   ]
  },
  {
   "cell_type": "code",
   "execution_count": 1,
   "metadata": {},
   "outputs": [
    {
     "name": "stdout",
     "output_type": "stream",
     "text": [
      "하노이의 탑을 구현합니다.\n",
      "원반 [1]을 1 기둥에서 3 기둥으로 옮깁니다.\n",
      "원반 [2]을 1 기둥에서 2 기둥으로 옮깁니다.\n",
      "원반 [1]을 3 기둥에서 2 기둥으로 옮깁니다.\n",
      "원반 [3]을 1 기둥에서 3 기둥으로 옮깁니다.\n",
      "원반 [1]을 2 기둥에서 1 기둥으로 옮깁니다.\n",
      "원반 [2]을 2 기둥에서 3 기둥으로 옮깁니다.\n",
      "원반 [1]을 1 기둥에서 3 기둥으로 옮깁니다.\n"
     ]
    }
   ],
   "source": [
    "# 하노이의 탑 구현하기 \n",
    "\n",
    "def move(no: int, x: int, y: int) -> None:\n",
    "    \"\"\"원반 no개를 X기둥에서 y기둥으로 옮김\"\"\"\n",
    "    if no > 1:\n",
    "        move(no - 1, x, 6 - x - y)       \n",
    "        \n",
    "    print(f'원반 [{no}]을 {x} 기둥에서 {y} 기둥으로 옮깁니다.') \n",
    "    \n",
    "    if no > 1:\n",
    "        move(no - 1, 6 - x - y, y) \n",
    "        \n",
    "print('하노이의 탑을 구현합니다.') \n",
    "n = int(input('원반의 개수를 입력하세요.: ')) \n",
    "\n",
    "move(n, 1, 3)   # 1기둥에 쌓인 원반 n개를 3기둥으로 옮김        \n",
    "\n",
    "\n",
    "# 기둥 번호 1, 2, 3 합이 6이므로 시작, 목표 기둥이 어느 위치에 있는 중간 기둥은(6 - x - y)로 구할 수 있음 \n",
    "\n",
    "# 1. 바닥에 있는 원반을 제외한 그룹(원반[1] ~ 원반[no -1]) 을 1기둥에서 2기둥으로 옮김 (재귀호출)\n",
    "# 2. 바닥에 있는 원반 [no]를 1기둥에서 3기둥으로 옮겼다는 것을 출력\n",
    "# 3. 바닥에 있는 원반을 제외한 그룹(원반[1] ~ 원반[no-1]) 을 2기둥에서 3기둥으로 옮김 (재귀호출) "
   ]
  },
  {
   "cell_type": "code",
   "execution_count": null,
   "metadata": {},
   "outputs": [],
   "source": []
  },
  {
   "cell_type": "code",
   "execution_count": null,
   "metadata": {},
   "outputs": [],
   "source": []
  },
  {
   "cell_type": "code",
   "execution_count": null,
   "metadata": {},
   "outputs": [],
   "source": []
  },
  {
   "cell_type": "code",
   "execution_count": null,
   "metadata": {},
   "outputs": [],
   "source": []
  },
  {
   "cell_type": "code",
   "execution_count": null,
   "metadata": {},
   "outputs": [],
   "source": []
  },
  {
   "cell_type": "code",
   "execution_count": null,
   "metadata": {},
   "outputs": [],
   "source": []
  },
  {
   "cell_type": "code",
   "execution_count": null,
   "metadata": {},
   "outputs": [],
   "source": []
  },
  {
   "cell_type": "code",
   "execution_count": null,
   "metadata": {},
   "outputs": [],
   "source": []
  },
  {
   "cell_type": "code",
   "execution_count": null,
   "metadata": {},
   "outputs": [],
   "source": []
  },
  {
   "cell_type": "code",
   "execution_count": null,
   "metadata": {},
   "outputs": [],
   "source": []
  },
  {
   "cell_type": "code",
   "execution_count": null,
   "metadata": {},
   "outputs": [],
   "source": []
  },
  {
   "cell_type": "code",
   "execution_count": null,
   "metadata": {},
   "outputs": [],
   "source": []
  },
  {
   "cell_type": "code",
   "execution_count": null,
   "metadata": {},
   "outputs": [],
   "source": []
  },
  {
   "cell_type": "code",
   "execution_count": null,
   "metadata": {},
   "outputs": [],
   "source": []
  },
  {
   "cell_type": "code",
   "execution_count": null,
   "metadata": {},
   "outputs": [],
   "source": []
  },
  {
   "cell_type": "code",
   "execution_count": null,
   "metadata": {},
   "outputs": [],
   "source": []
  },
  {
   "cell_type": "code",
   "execution_count": null,
   "metadata": {},
   "outputs": [],
   "source": []
  },
  {
   "cell_type": "code",
   "execution_count": null,
   "metadata": {},
   "outputs": [],
   "source": []
  },
  {
   "cell_type": "code",
   "execution_count": null,
   "metadata": {},
   "outputs": [],
   "source": []
  },
  {
   "cell_type": "code",
   "execution_count": null,
   "metadata": {},
   "outputs": [],
   "source": []
  },
  {
   "cell_type": "code",
   "execution_count": null,
   "metadata": {},
   "outputs": [],
   "source": []
  },
  {
   "cell_type": "code",
   "execution_count": null,
   "metadata": {},
   "outputs": [],
   "source": []
  },
  {
   "cell_type": "code",
   "execution_count": null,
   "metadata": {},
   "outputs": [],
   "source": []
  },
  {
   "cell_type": "code",
   "execution_count": null,
   "metadata": {},
   "outputs": [],
   "source": []
  },
  {
   "cell_type": "code",
   "execution_count": null,
   "metadata": {},
   "outputs": [],
   "source": []
  },
  {
   "cell_type": "code",
   "execution_count": null,
   "metadata": {},
   "outputs": [],
   "source": []
  },
  {
   "cell_type": "code",
   "execution_count": null,
   "metadata": {},
   "outputs": [],
   "source": []
  },
  {
   "cell_type": "code",
   "execution_count": null,
   "metadata": {},
   "outputs": [],
   "source": []
  },
  {
   "cell_type": "code",
   "execution_count": null,
   "metadata": {},
   "outputs": [],
   "source": []
  },
  {
   "cell_type": "code",
   "execution_count": null,
   "metadata": {},
   "outputs": [],
   "source": []
  },
  {
   "cell_type": "code",
   "execution_count": null,
   "metadata": {},
   "outputs": [],
   "source": []
  },
  {
   "cell_type": "code",
   "execution_count": null,
   "metadata": {},
   "outputs": [],
   "source": []
  },
  {
   "cell_type": "code",
   "execution_count": null,
   "metadata": {},
   "outputs": [],
   "source": []
  },
  {
   "cell_type": "code",
   "execution_count": null,
   "metadata": {},
   "outputs": [],
   "source": []
  },
  {
   "cell_type": "code",
   "execution_count": null,
   "metadata": {},
   "outputs": [],
   "source": []
  },
  {
   "cell_type": "code",
   "execution_count": null,
   "metadata": {},
   "outputs": [],
   "source": []
  },
  {
   "cell_type": "code",
   "execution_count": null,
   "metadata": {},
   "outputs": [],
   "source": []
  },
  {
   "cell_type": "code",
   "execution_count": null,
   "metadata": {},
   "outputs": [],
   "source": []
  },
  {
   "cell_type": "code",
   "execution_count": null,
   "metadata": {},
   "outputs": [],
   "source": []
  },
  {
   "cell_type": "code",
   "execution_count": null,
   "metadata": {},
   "outputs": [],
   "source": []
  },
  {
   "cell_type": "code",
   "execution_count": null,
   "metadata": {},
   "outputs": [],
   "source": []
  },
  {
   "cell_type": "code",
   "execution_count": null,
   "metadata": {},
   "outputs": [],
   "source": []
  },
  {
   "cell_type": "code",
   "execution_count": null,
   "metadata": {},
   "outputs": [],
   "source": []
  },
  {
   "cell_type": "code",
   "execution_count": null,
   "metadata": {},
   "outputs": [],
   "source": []
  }
 ],
 "metadata": {
  "kernelspec": {
   "display_name": "Python 3.9.12 ('base')",
   "language": "python",
   "name": "python3"
  },
  "language_info": {
   "codemirror_mode": {
    "name": "ipython",
    "version": 3
   },
   "file_extension": ".py",
   "mimetype": "text/x-python",
   "name": "python",
   "nbconvert_exporter": "python",
   "pygments_lexer": "ipython3",
   "version": "3.9.12"
  },
  "orig_nbformat": 4,
  "vscode": {
   "interpreter": {
    "hash": "ca71aff40853dd846130b67975d07637ec6294bee047a07657cfc9075e3162be"
   }
  }
 },
 "nbformat": 4,
 "nbformat_minor": 2
}
