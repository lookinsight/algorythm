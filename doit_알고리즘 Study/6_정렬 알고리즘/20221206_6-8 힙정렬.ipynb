{
 "cells": [
  {
   "cell_type": "markdown",
   "metadata": {},
   "source": [
    "6-8. 힙 정렬\n",
    "\n",
    "- 선택 정렬 응용 \n",
    "- 힙(heap)의 특성을 이용하여 정렬하는 알고리즘\n",
    "- '부모의 값이 자식의 값보다 항상 크다'는 조건을 만족하는 완전 이진 트리\n",
    "    - 이 때 부모의 값이 자식의 값보다 항상 작아도 힙이라고 한다. 즉, 두 값의 대소 관계가 일정하면 됨\n",
    "\n",
    "- 힙(heap) = '쌓아 놓음', \"쌓아 놓은 더미\" \n",
    "\n",
    "* 트리란?\n",
    "\n",
    "- 각 원소를 의미하는 노드(node) 들이 연결된 계층 구조\n",
    "- 트리 가장 윗부분 위치한 루트(root) 는 부모가 없는 노드. \n",
    "- 노드의 상하관계에는 부모노드(parent node) 와 자식 노드(child node) 있음\n",
    "    - 부모가 같은 자식 간의 관계를 형제 노드(sibling node) \n",
    "\n",
    "- 완전이진트리: 트리의 한 종류. 완전 이진 상태. \n",
    "    > '완전' = 부모는 왼쪽 자식부터 추가하여 모양을 유지하라는 뜻. \n",
    "    \n",
    "    > '이진' = 부모가 가질 수 있는 자식의 최대 개수는 2개 \n",
    "\n",
    "- 힙에서 부모와 자식 관계는 일정. 하지만, 형제 사이 대소 관계는 일정하지 않음\n",
    "    - 힙은 형제의 대소 관계가 정해져 있지 않은 부분 순서 트리(partial ordered tree)\n",
    "\n",
    "- 힙 배열 저장에서 부모 인덱스와 왼쪽 아래에 있는 자식(왼쪽 자식), 오른쪽 아래에 있는 자식(오른쪽 자식) 인덱스 사이 관계\n",
    "    - 원소 a[i]에서 \n",
    "        - 부모: a[(i - 1) // 2]\n",
    "        - 왼쪽자식: a[i * 2 + 1]\n",
    "        - 오른쪽자식: a[i * 2 + 2]\n",
    "\n",
    "* 힙 정렬의 특징 \n",
    "\n",
    "- '힙에서 최댓값은 루트에 위치한다'\n",
    "    1. 힙에서 최댓값인 루트를 꺼낸다\n",
    "    2. 루트 이외에 부분을 힙으로 만든다\n",
    "- 힙 정렬에서 최댓값인 루트를 꺼낸 뒤 다시 남은 원소 중에서 최댓값을 구해야 한다\n",
    "\n",
    "\n",
    "* 루트를 삭제한 힙의 재구성 \n",
    "\n",
    "* 배열을 힙으로 만들기 "
   ]
  },
  {
   "cell_type": "code",
   "execution_count": 4,
   "metadata": {},
   "outputs": [
    {
     "name": "stdout",
     "output_type": "stream",
     "text": [
      "힙 정렬을 수행합니다\n",
      "오름차순으로 정렬했습니다\n",
      "x[0] = 1\n",
      "x[1] = 3\n",
      "x[2] = 4\n",
      "x[3] = 6\n",
      "x[4] = 7\n",
      "x[5] = 8\n",
      "x[6] = 9\n"
     ]
    }
   ],
   "source": [
    "# 힙 정렬 알고리즘 구현하기 \n",
    "\n",
    "from typing import MutableSequence\n",
    "\n",
    "def heap_sort(a: MutableSequence) -> None:\n",
    "    \"\"\"힙 정렬\"\"\"\n",
    "    \n",
    "    def down_heap(a: MutableSequence, left: int, right: int) -> None:\n",
    "        \"\"\"a[left] ~ a[right]를 힙으로 만들기\"\"\"\n",
    "        temp = a[left]             # 루트 \n",
    "        \n",
    "        parent = left\n",
    "        while parent < (right + 1) // 2:\n",
    "            cl = parent * 2 + 1       # 왼쪽 자식 \n",
    "            cr = cl + 1               # 오른쪽 자식 \n",
    "            child = cr if cr <= right and a[cr] > a[cl]  else cl      # 큰 값을 선택 \n",
    "            if temp >= a[child]:\n",
    "                break\n",
    "            a[parent] = a[child]\n",
    "            parent = child \n",
    "        a[parent] = temp \n",
    "        \n",
    "    n = len(a)\n",
    "    \n",
    "    for i in range( (n-1) // 2, -1, -1):    # a[i] ~ a[n-1] 을 힙으로 만들기 \n",
    "        down_heap(a, i, n-1)\n",
    "        \n",
    "    for i in range(n-1, 0, -1):\n",
    "        a[0], a[i] = a[i], a[0]              # 최댓값인 a[0] 와 마지막 원소 교환 \n",
    "        down_heap(a, 0, i - 1)              # a[0] ~ a[i-1] 을 힙으로 만들기 \n",
    "        \n",
    "        \n",
    "if __name__=='__main__':\n",
    "    print('힙 정렬을 수행합니다')\n",
    "    num = int(input('원소 수를 입력하세요..: '))\n",
    "    x = [None] * num \n",
    "    \n",
    "    for i in range(num):\n",
    "        x[i] = int(input(f'x[{i}]: ')) \n",
    "        \n",
    "    heap_sort(x)\n",
    "    \n",
    "    print('오름차순으로 정렬했습니다') \n",
    "    for i in range(num):\n",
    "        print(f'x[{i}] = {x[i]}')"
   ]
  },
  {
   "cell_type": "markdown",
   "metadata": {},
   "source": [
    "heapq 모듈을 사용하는 힙 정렬\n",
    "\n",
    "- 힙에 원소를 추가하는 heappush() 함수와 힙에서 원소를 제거하는 heappop() 함수 제공\n",
    "- 푸시와 팝은 힙의 조건을 유지하며 수행\n"
   ]
  },
  {
   "cell_type": "code",
   "execution_count": null,
   "metadata": {},
   "outputs": [],
   "source": [
    "# 힙 정렬 알고리즘 구현하기 (heapq.push와 heapq.pop) 을 사용\n",
    "\n",
    "import heapq\n",
    "from typing import MutableSequence\n",
    "\n",
    "def heap_sort(a: MutableSequence) -> None:\n",
    "    \"\"\"힙 정렬 (heapq.push와 heapq.pop을 사용\"\"\"\n",
    "    \n",
    "    heap = []\n",
    "    for i in a:\n",
    "        heapq.heappush(heap, i)\n",
    "    for i in range(len(a)):\n",
    "        a[i] = heapq.heappop(heap)\n",
    "        \n",
    "        \n",
    "if __name__ == '__main__':\n",
    "    print('힙 정렬을 수행합니다(heapq.push와 heapq.pop를 사용).')\n",
    "    num = int(input('원소 수를 입력하세요. : '))\n",
    "    x = [None] * num    # 원소 수가 num인 배열을 생성\n",
    "\n",
    "    for i in range(num):\n",
    "        x[i] = int(input(f'x[{i}] : '))\n",
    "\n",
    "    heap_sort(x)        # 배열 x를 힙 정렬\n",
    "\n",
    "    print('오름차순으로 정렬했습니다.')\n",
    "    for i in range(num):\n",
    "        print(f'x[{i}] = {x[i]}')"
   ]
  },
  {
   "cell_type": "code",
   "execution_count": null,
   "metadata": {},
   "outputs": [],
   "source": []
  },
  {
   "cell_type": "code",
   "execution_count": null,
   "metadata": {},
   "outputs": [],
   "source": []
  },
  {
   "cell_type": "code",
   "execution_count": null,
   "metadata": {},
   "outputs": [],
   "source": []
  },
  {
   "cell_type": "code",
   "execution_count": null,
   "metadata": {},
   "outputs": [],
   "source": []
  },
  {
   "cell_type": "code",
   "execution_count": null,
   "metadata": {},
   "outputs": [],
   "source": []
  },
  {
   "cell_type": "code",
   "execution_count": null,
   "metadata": {},
   "outputs": [],
   "source": []
  },
  {
   "cell_type": "code",
   "execution_count": null,
   "metadata": {},
   "outputs": [],
   "source": []
  },
  {
   "cell_type": "code",
   "execution_count": null,
   "metadata": {},
   "outputs": [],
   "source": []
  },
  {
   "cell_type": "code",
   "execution_count": null,
   "metadata": {},
   "outputs": [],
   "source": []
  },
  {
   "cell_type": "code",
   "execution_count": null,
   "metadata": {},
   "outputs": [],
   "source": []
  },
  {
   "cell_type": "code",
   "execution_count": null,
   "metadata": {},
   "outputs": [],
   "source": []
  },
  {
   "cell_type": "code",
   "execution_count": null,
   "metadata": {},
   "outputs": [],
   "source": []
  },
  {
   "cell_type": "code",
   "execution_count": null,
   "metadata": {},
   "outputs": [],
   "source": []
  },
  {
   "cell_type": "code",
   "execution_count": null,
   "metadata": {},
   "outputs": [],
   "source": []
  },
  {
   "cell_type": "code",
   "execution_count": null,
   "metadata": {},
   "outputs": [],
   "source": []
  },
  {
   "cell_type": "code",
   "execution_count": null,
   "metadata": {},
   "outputs": [],
   "source": []
  },
  {
   "cell_type": "code",
   "execution_count": null,
   "metadata": {},
   "outputs": [],
   "source": []
  },
  {
   "cell_type": "code",
   "execution_count": null,
   "metadata": {},
   "outputs": [],
   "source": []
  },
  {
   "cell_type": "code",
   "execution_count": null,
   "metadata": {},
   "outputs": [],
   "source": []
  },
  {
   "cell_type": "code",
   "execution_count": null,
   "metadata": {},
   "outputs": [],
   "source": []
  },
  {
   "cell_type": "code",
   "execution_count": null,
   "metadata": {},
   "outputs": [],
   "source": []
  },
  {
   "cell_type": "code",
   "execution_count": null,
   "metadata": {},
   "outputs": [],
   "source": []
  },
  {
   "cell_type": "code",
   "execution_count": null,
   "metadata": {},
   "outputs": [],
   "source": []
  },
  {
   "cell_type": "code",
   "execution_count": null,
   "metadata": {},
   "outputs": [],
   "source": []
  },
  {
   "cell_type": "code",
   "execution_count": null,
   "metadata": {},
   "outputs": [],
   "source": []
  },
  {
   "cell_type": "code",
   "execution_count": null,
   "metadata": {},
   "outputs": [],
   "source": []
  },
  {
   "cell_type": "code",
   "execution_count": null,
   "metadata": {},
   "outputs": [],
   "source": []
  },
  {
   "cell_type": "code",
   "execution_count": null,
   "metadata": {},
   "outputs": [],
   "source": []
  },
  {
   "cell_type": "code",
   "execution_count": null,
   "metadata": {},
   "outputs": [],
   "source": []
  },
  {
   "cell_type": "code",
   "execution_count": null,
   "metadata": {},
   "outputs": [],
   "source": []
  },
  {
   "cell_type": "code",
   "execution_count": null,
   "metadata": {},
   "outputs": [],
   "source": []
  },
  {
   "cell_type": "code",
   "execution_count": null,
   "metadata": {},
   "outputs": [],
   "source": []
  }
 ],
 "metadata": {
  "kernelspec": {
   "display_name": "Python 3.9.12 ('base')",
   "language": "python",
   "name": "python3"
  },
  "language_info": {
   "codemirror_mode": {
    "name": "ipython",
    "version": 3
   },
   "file_extension": ".py",
   "mimetype": "text/x-python",
   "name": "python",
   "nbconvert_exporter": "python",
   "pygments_lexer": "ipython3",
   "version": "3.9.12"
  },
  "orig_nbformat": 4,
  "vscode": {
   "interpreter": {
    "hash": "ca71aff40853dd846130b67975d07637ec6294bee047a07657cfc9075e3162be"
   }
  }
 },
 "nbformat": 4,
 "nbformat_minor": 2
}
