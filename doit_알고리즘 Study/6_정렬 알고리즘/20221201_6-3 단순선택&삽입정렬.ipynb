{
 "cells": [
  {
   "cell_type": "markdown",
   "metadata": {},
   "source": [
    "단순 선택 정렬(straight selection sort) : 가장 작은 원소부터 선택해 알맞은 위치로 옮기는 작업 반복\n",
    "\n",
    "1. 아직 정렬하지 않은 부분에서 값이 가장 작은 원소 a[min]을 선택\n",
    "2. a[min]과 아직 정렬하지 않은 부분에서 맨 앞에 있는 원소 교환 \n",
    "3. n-1번 반복 "
   ]
  },
  {
   "cell_type": "code",
   "execution_count": 1,
   "metadata": {},
   "outputs": [
    {
     "name": "stdout",
     "output_type": "stream",
     "text": [
      "단순 선택 정렬을 수행합니다.\n",
      "오름차순으로 정렬했습니다.\n",
      "x[0] = 1\n",
      "x[1] = 3\n",
      "x[2] = 4\n",
      "x[3] = 6\n",
      "x[4] = 7\n",
      "x[5] = 8\n",
      "x[6] = 9\n"
     ]
    }
   ],
   "source": [
    "# 단순 선택 정렬 알고리즘 구현하기 \n",
    "\n",
    "from typing import MutableSequence\n",
    "\n",
    "def selection_sort(a: MutableSequence) -> None: \n",
    "    \"\"\"단순선택정렬\"\"\"\n",
    "    n = len(a) \n",
    "    for i in range(n-1):\n",
    "        min = i    # 정렬한 부분에서 가장 작은 원소 인덱스\n",
    "        for j in range(i + 1, n):\n",
    "            if a[j] < a[min]:\n",
    "                min = j \n",
    "        a[i], a[min] = a[min], a[i]   # 정렬한 부분에서 맨 앞의 원소와 가장 작은 원소 교환\n",
    "        \n",
    "        \n",
    "if __name__ == '__main__':\n",
    "    print('단순 선택 정렬을 수행합니다.')\n",
    "    num = int(input('원소 수를 입력하세요.: '))\n",
    "    x = [None] * num  # 원소 수가 num인 배열을 생성\n",
    "\n",
    "    for i in range(num):\n",
    "        x[i] = int(input(f'x[{i}] : '))\n",
    "\n",
    "    selection_sort(x)  # 배열 x를 단순 선택 정렬\n",
    "\n",
    "    print('오름차순으로 정렬했습니다.')\n",
    "    for i in range(num):\n",
    "        print(f'x[{i}] = {x[i]}')        "
   ]
  },
  {
   "cell_type": "markdown",
   "metadata": {},
   "source": [
    "* 단순 선택 정렬 알고리즘 원솟값 비교하는 횟수 = (n**2 - n) / 2 번\n",
    "    - 서로 이웃하지 않는 떨어져 있는 원소를 교환하므로 불안정 "
   ]
  },
  {
   "cell_type": "code",
   "execution_count": null,
   "metadata": {},
   "outputs": [],
   "source": []
  },
  {
   "cell_type": "markdown",
   "metadata": {},
   "source": [
    "단순 삽입 정렬(straight insertion sort): 주목한 원소보다 더 앞쪽에서 알맞으 위치로 삽입하여 정렬\n",
    "\n",
    "- 값이 가장 작은 원소 선택 안함\n",
    "- 아직 정렬되지 않은 부분의 맨 앞 원소를 정렬된 부분의 알맞은 위치에 삽입\n",
    "- 이때 i를 1, 2, ... n-1 까지 1씩 증가시키면서 인덱스 i 원소를 꺼내 알맞은 위치에 삽입\n",
    "\n",
    "* 배열에서 어떤 값을 '알맞은 위치에 삽입'하는 과정 \n",
    "    - 주목 값의 왼쪽에 이웃하는 원소가 주목하는 원소보다 크면, 그 값을 오른쪽에 이웃하는 원소에 대입하고 앞으로 이동하면서 반복\n",
    "    - 그러다 주목한 원소보다 작은 원소 만나면 그보다 앞쪽은 스캔할 필요 없으므로 그 위치에 주목 원소 값 삽입\n",
    "    - 반복 제어 변수 j에 i를, tmp에 a[i] 를 대입하고 다음 조건 중 하나 만족할 때까지 j 를 1씩 감소 시키면서 반복\n",
    "        1. 종료조건 1: 정렬된 배열의 왼쪽 끝에 도달\n",
    "        2. 종료조건 2: tmp보다 작거나 키값이 같은 원소 a[j-1]발견한 경우\n",
    "    - 드모르간 법칙 적용하면, \n",
    "        1. 계속조건 1: j가 0보다 큰 경우\n",
    "        2. 계속조건 2: a[j-1] 의 값이 tmp보다 큰 경우\n",
    "\n",
    "    - 원소 a[j]에 삽입할 값인 tmp를 대입"
   ]
  },
  {
   "cell_type": "code",
   "execution_count": null,
   "metadata": {},
   "outputs": [],
   "source": [
    "# 단순 삽입 정렬 알고리즘 구현하기 \n",
    "\n",
    "from typing import MutableSequence \n",
    "\n",
    "def insertion_sort(a: MutableSequence) -> None: \n",
    "    \"\"\" 단순 삽입 정렬\"\"\"\n",
    "    n = len(a) \n",
    "    for i in range(1, n):\n",
    "        j = i \n",
    "        tmp = a[i] \n",
    "        while j > 0 and a[j-1] > tmp:\n",
    "            a[j] = a[j-1]\n",
    "            j -= 1\n",
    "        a[j] = tmp\n",
    "        \n",
    "if __name__ == '__main__':\n",
    "    print('단순 삽입 정렬을 수행합니다.')\n",
    "    num = int(input('원소 수를 입력하세요.: '))\n",
    "    x = [None] * num  # 원소 수가 num인 배열을 생성\n",
    "\n",
    "    for i in range(num):\n",
    "        x[i] = int(input(f'x[{i}]: '))\n",
    "\n",
    "    insertion_sort(x)  # 배열 x를 단순 삽입 정렬\n",
    "\n",
    "    print('오름차순으로 정렬했습니다.')\n",
    "    for i in range(num):\n",
    "        print(f'x[{i}] = {x[i]}')      "
   ]
  },
  {
   "cell_type": "markdown",
   "metadata": {},
   "source": [
    "서로 떨어져 있는 원소를 교환하지 않아 안정적\n",
    "\n",
    "원소 비교횟수와 교횐 횟수 = n**2 / 2번\n",
    "\n",
    "\n",
    "* 단순 정렬 알고리즘 시간 복잡도 = O(n2) "
   ]
  },
  {
   "cell_type": "markdown",
   "metadata": {},
   "source": [
    "이진 삽입 정렬\n",
    "\n",
    "- 단순 삽입 정렬은 배열 원소 수가 많아지면 원소 삽입에 필요한 비교, 교환 비용이 커짐\n",
    "- 이진 검색 사용해서 삽입 정렬 하면 이미 정렬 마친 배열 제외하고 원소 삽입할 위치를 검사하므로 비용 줄여짐"
   ]
  },
  {
   "cell_type": "code",
   "execution_count": null,
   "metadata": {},
   "outputs": [],
   "source": [
    "# [Do it! 실습 6C-1] 이진 삽입 정렬 알고리즘 구현하기\n",
    "\n",
    "from typing import MutableSequence\n",
    "\n",
    "def binary_insertion_sort(a: MutableSequence) -> None:\n",
    "    \"\"\"이진 삽입 정렬\"\"\"\n",
    "    n = len(a)\n",
    "    for i in range(1, n):\n",
    "        key = a[i]\n",
    "        pl = 0      # 검색 범위의 맨 앞 원소 인덱스\n",
    "        pr = i - 1  # 검색 범위의 맨 끝 원소 인덱스\n",
    "\n",
    "        while True:\n",
    "            pc = (pl + pr) // 2  # 검색 범위의 중앙 원소 인덱스\n",
    "            if a[pc] == key:     # 검색 성공\n",
    "                break\n",
    "            elif a[pc] < key:\n",
    "                pl = pc + 1\n",
    "            else:\n",
    "                pr = pc - 1\n",
    "            if pl > pr:\n",
    "                break\n",
    "    \n",
    "        pd = pc + 1 if pl <= pr else pr + 1  # 삽입할 위치의 인덱스\n",
    "\n",
    "        for j in range(i, pd, -1):\n",
    "            a[j] = a[j - 1]\n",
    "        a[pd] = key\n",
    "\n",
    "if __name__ == \"__main__\":\n",
    "    print(\"이진 삽입 정렬을 수행합니다.\")\n",
    "    num = int(input(\"원소 수를 입력하세요.: \"))\n",
    "    x = [None] * num          # 원소 수가 num인 배열을 생성\n",
    "\n",
    "    for i in range(num):\n",
    "        x[i] = int(input(f\"x[{i}]: \"))\n",
    "\n",
    "    binary_insertion_sort(x)  # 배열 x를 이진 삽입 정렬\n",
    "\n",
    "    print(\"오름차순으로 정렬했습니다.\")\n",
    "    for i in range(num):\n",
    "        print(f\"x[{i}] = {x[i]}\")"
   ]
  },
  {
   "cell_type": "markdown",
   "metadata": {},
   "source": [
    "단순 삽입 정렬 알고리즘 = 파이썬 라이브러리 bisect 모듈 insort() 함수로 제공.\n",
    "  \n",
    "    - 이미 정렬 끝난 배열 상태 유지하면서 원소 삽입.    "
   ]
  },
  {
   "cell_type": "code",
   "execution_count": null,
   "metadata": {},
   "outputs": [],
   "source": [
    "# 이진 삽입 정렬 알고리즘 구현(bisect.insort) 사용\n",
    "\n",
    "# [Do it! 실습 6C-2] 이진 삽입 정렬 알고리즘의 구현(bisect.insort 사용)\n",
    "\n",
    "from typing import MutableSequence\n",
    "import bisect\n",
    "\n",
    "def binary_insertion_sort(a: MutableSequence) -> None:\n",
    "    \"\"\"이진 삽입 정렬(bisect.insort을 사용)\"\"\"\n",
    "    for i in range(1, len(a)):\n",
    "        bisect.insort(a, a.pop(i), 0, i)\n",
    "\n",
    "if __name__ == '__main__':\n",
    "    print('이진 삽입 정렬을 수행합니다.')\n",
    "    num = int(input('원소 수를 입력하세요.: '))\n",
    "    x = [None] * num            # 원소 수가 num인 배열을 생성\n",
    "\n",
    "    for i in range(num):\n",
    "        x[i] = int(input(f'x[{i}]: '))\n",
    "\n",
    "    binary_insertion_sort(x)    # 배열 x를 이진 삽입 정렬\n",
    "\n",
    "    print('오름차순으로 정렬했습니다.')\n",
    "    for i in range(num):\n",
    "        print(f'x[{i}] = {x[i]}')"
   ]
  },
  {
   "cell_type": "code",
   "execution_count": null,
   "metadata": {},
   "outputs": [],
   "source": []
  },
  {
   "cell_type": "code",
   "execution_count": null,
   "metadata": {},
   "outputs": [],
   "source": []
  },
  {
   "cell_type": "code",
   "execution_count": null,
   "metadata": {},
   "outputs": [],
   "source": []
  },
  {
   "cell_type": "code",
   "execution_count": null,
   "metadata": {},
   "outputs": [],
   "source": []
  },
  {
   "cell_type": "code",
   "execution_count": null,
   "metadata": {},
   "outputs": [],
   "source": []
  },
  {
   "cell_type": "code",
   "execution_count": null,
   "metadata": {},
   "outputs": [],
   "source": []
  },
  {
   "cell_type": "code",
   "execution_count": null,
   "metadata": {},
   "outputs": [],
   "source": []
  },
  {
   "cell_type": "code",
   "execution_count": null,
   "metadata": {},
   "outputs": [],
   "source": []
  },
  {
   "cell_type": "code",
   "execution_count": null,
   "metadata": {},
   "outputs": [],
   "source": []
  },
  {
   "cell_type": "code",
   "execution_count": null,
   "metadata": {},
   "outputs": [],
   "source": []
  },
  {
   "cell_type": "code",
   "execution_count": null,
   "metadata": {},
   "outputs": [],
   "source": []
  },
  {
   "cell_type": "code",
   "execution_count": null,
   "metadata": {},
   "outputs": [],
   "source": []
  },
  {
   "cell_type": "code",
   "execution_count": null,
   "metadata": {},
   "outputs": [],
   "source": []
  },
  {
   "cell_type": "code",
   "execution_count": null,
   "metadata": {},
   "outputs": [],
   "source": []
  },
  {
   "cell_type": "code",
   "execution_count": null,
   "metadata": {},
   "outputs": [],
   "source": []
  },
  {
   "cell_type": "code",
   "execution_count": null,
   "metadata": {},
   "outputs": [],
   "source": []
  },
  {
   "cell_type": "code",
   "execution_count": null,
   "metadata": {},
   "outputs": [],
   "source": []
  },
  {
   "cell_type": "code",
   "execution_count": null,
   "metadata": {},
   "outputs": [],
   "source": []
  },
  {
   "cell_type": "code",
   "execution_count": null,
   "metadata": {},
   "outputs": [],
   "source": []
  }
 ],
 "metadata": {
  "kernelspec": {
   "display_name": "Python 3.9.12 ('base')",
   "language": "python",
   "name": "python3"
  },
  "language_info": {
   "codemirror_mode": {
    "name": "ipython",
    "version": 3
   },
   "file_extension": ".py",
   "mimetype": "text/x-python",
   "name": "python",
   "nbconvert_exporter": "python",
   "pygments_lexer": "ipython3",
   "version": "3.9.12"
  },
  "orig_nbformat": 4,
  "vscode": {
   "interpreter": {
    "hash": "ca71aff40853dd846130b67975d07637ec6294bee047a07657cfc9075e3162be"
   }
  }
 },
 "nbformat": 4,
 "nbformat_minor": 2
}
