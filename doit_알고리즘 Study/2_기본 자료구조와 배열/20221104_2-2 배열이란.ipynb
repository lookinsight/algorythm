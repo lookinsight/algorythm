{
 "cells": [
  {
   "cell_type": "markdown",
   "metadata": {},
   "source": [
    "배열 원소의 최댓값 구하기 "
   ]
  },
  {
   "cell_type": "code",
   "execution_count": null,
   "metadata": {},
   "outputs": [],
   "source": [
    "maximum = a[0]\n",
    "if a[1] > maximum: maximum = a[1]\n",
    "if a[2] > maximum: maximum = a[2]"
   ]
  },
  {
   "cell_type": "code",
   "execution_count": null,
   "metadata": {},
   "outputs": [],
   "source": [
    "maximum = a[0]\n",
    "if a[1] > maximum: maximum = a[1]\n",
    "if a[2] > maximum: maximum = a[2]\n",
    "if a[3] > maximum: maximum = a[3]"
   ]
  },
  {
   "cell_type": "code",
   "execution_count": 1,
   "metadata": {},
   "outputs": [],
   "source": [
    "def max_of(a):\n",
    "    maximum = a[0] \n",
    "    for i in range(1, len(a)): \n",
    "        if a[i] > maximum:\n",
    "            maximum = a[i]\n",
    "            \n",
    "            \n",
    "# 반복할 때마다 주목하는 원소의 인덱스는 1씩 증가(한 칸씩 뒤로 이동) \n",
    "# maximum = a[0] -> a[0]에 주목하여 a[0] 값을 maximum에 대입\n",
    "# for문 안은 a[1] ~ a[4] 까지 차례대로 주목\n",
    "# 스캔: 배열 원소를 하나씩 차례로 주목하여 살펴보는 방식\n",
    "\n",
    "# if문 조건식 a[i] > maximum 이 True일 때, 즉 주목한 원소 a[i] 값이 최대인 maximum보다 크면 a[i]값을 maximum 에 대입.\n",
    "# 그 결과 배열 모든 원소에 대해 스캔 마치면 배열 a 최대값이 maximum 에 남아 있게 됨           "
   ]
  },
  {
   "cell_type": "markdown",
   "metadata": {},
   "source": [
    "배열 원소의 최댓값을 구하는 함수 구현하기 "
   ]
  },
  {
   "cell_type": "code",
   "execution_count": 2,
   "metadata": {},
   "outputs": [
    {
     "name": "stdout",
     "output_type": "stream",
     "text": [
      "배열의 최댓값을 구합니다.\n",
      "최댓값은 192입니다.\n"
     ]
    }
   ],
   "source": [
    " # [Do it! 실습 2-2] 시퀀스 원소의 최댓값 출력하기\n",
    "\n",
    "from typing import Any, Sequence\n",
    "\n",
    "def max_of(a: Sequence) -> Any:\n",
    "    \"\"\"시퀀스형 a 요소의 최댓값을 반환\"\"\"\n",
    "    maximum = a[0]\n",
    "    for i in range(1, len(a)):\n",
    "         if a[i] > maximum: \n",
    "            maximum = a[i]\n",
    "    return maximum\n",
    "\n",
    "if __name__ == '__main__':\n",
    "    print('배열의 최댓값을 구합니다.')\n",
    "    num = int(input('원소 수를 입력하세요 : '))\n",
    "    x = [None] * num    # 원소 수가 num인 리스트를 생성\n",
    "\n",
    "    for i in range(num):\n",
    "        x[i] = int(input(f'x[{i}]를 입력하세요.: '))\n",
    "\n",
    "    print(f'최댓값은 {max_of(x)}입니다.')\n",
    "    \n",
    "    \n",
    "# def ~ return \n",
    "# 배열 a의 최댓값 구하는 max_of() 함수 정의    \n",
    "\n",
    "# if ~ print\n",
    "# 값을 입력받아 max_of() 함수 실행 "
   ]
  },
  {
   "cell_type": "markdown",
   "metadata": {},
   "source": [
    "주석과 자료형 힌트 "
   ]
  },
  {
   "cell_type": "markdown",
   "metadata": {},
   "source": [
    "from typing import Any, Sequence\n",
    "\n",
    "- Any는 제약이 없는 임의의 자료형. \n",
    "- Sequence 는 시퀀스형 의미 (리스트, 바이트, 배열, 문자열, 튜플, 바이트배열)\n",
    "\n",
    "\n",
    "def max_of(a: Sequence) -> Any:\n",
    "\n",
    "- 두 자료형 사용해 max_of() 함수 정의\n",
    "- 건네받는 매개변수 a 자료형은 Sequence \n",
    "- 반환하는 것은 임의의 자료형인 Any \n",
    "\n",
    "- 특성:\n",
    "    - 함수 안에서 배열 a의 원솟값을 변경하지 않음\n",
    "    - 호출하는 쪽이 넘겨주는 실제 인수 자료형은 뮤터블인 리스트, 이뮤터블인 튜플, 문자열 등 시퀀스 자료형이면 상관 없음\n",
    "    - 인수의 원소를 비교 연산자 > 로 값을 비교할 수 있다면 다른 형(int, float) 섞여 있어도 됨\n",
    "    - 최댓값의 원소가 int형이면 int형 값 반환, float형 원소면 float 반환\n",
    "    - max_of() 함수 안에서 매개변수에 대한 함수 어노테이션(annotation)은 시퀀스형이 아닌 뮤터블 시퀀스"
   ]
  },
  {
   "cell_type": "markdown",
   "metadata": {},
   "source": [
    "함수 어노테이션? \n",
    "\n",
    "- 파이썬은 자료형 선언 없이 변수나 함수 자유롭게 사용할 수 있지만, 명시적 해석이 어려움\n",
    "- 그래서 어노테이션(주석 달기) 기능 등장\n",
    "- 강제성 없음 . 코드에 영향 미치지 않음. \n",
    "- 함수 매개변수와 반환값 나타내는 역할"
   ]
  },
  {
   "cell_type": "markdown",
   "metadata": {},
   "source": [
    "재사용 할 수 있는 모듈 작성하기 \n",
    "\n",
    "- 하나의 스크립트 프로그램을 모듈(module) 이라고 함. \n",
    "- 확장자(.py) 포함하지 않는 파일의 이름 자체를 모듈 이름으로 사용. \n",
    "-  __ name __  (모듈이름 나타내는 변수) =  __ main __  이 같은지 판단.\n",
    "    - 스크립트 프로그램이 직접 실행될 때 변수 __name__은 ' __ main __' 이다\n",
    "    - 스크립트 프로그램이 임포트 될 때 변수 __name__은 원래 모듈 이름 \n",
    "\n",
    "- 모듈도 객체. \n",
    "- 모듈은 프로그램이 처음 임포트되는 시점에 그 모듈 자체가 생성되면서 초기화 되는 구조    "
   ]
  },
  {
   "cell_type": "markdown",
   "metadata": {},
   "source": [
    "모듈 테스트하기 "
   ]
  },
  {
   "cell_type": "code",
   "execution_count": 3,
   "metadata": {},
   "outputs": [
    {
     "name": "stdout",
     "output_type": "stream",
     "text": [
      "배열의 최댓값을 구합니다.\n",
      "주의: \"End\"를 입력하면 종료합니다.\n",
      "4개를 입력했습니다.\n",
      "최댓값은 72입니다.\n"
     ]
    }
   ],
   "source": [
    " # [Do it! 실습 2-3] 배열 원소의 최댓값을 구해서 출력하기(원솟값을 입력받음)\n",
    "\n",
    "from max import max_of\n",
    "\n",
    "print('배열의 최댓값을 구합니다.')\n",
    "print('주의: \"End\"를 입력하면 종료합니다.')\n",
    "\n",
    "number = 0\n",
    "x = []                  # 빈 리스트\n",
    "\n",
    "while True:\n",
    "    s = input(f'x[{number}]를 입력하세요.: ')\n",
    "    if s == 'End':\n",
    "        break\n",
    "    x.append(int(s))    # 배열의 끝에 추가\n",
    "    number += 1\n",
    "\n",
    "print(f'{number}개를 입력했습니다.')\n",
    "print(f'최댓값은 {max_of(x)}입니다.')"
   ]
  },
  {
   "cell_type": "markdown",
   "metadata": {},
   "source": [
    "배열의 원솟값을 난수로 결정하기 "
   ]
  },
  {
   "cell_type": "code",
   "execution_count": 4,
   "metadata": {},
   "outputs": [
    {
     "name": "stdout",
     "output_type": "stream",
     "text": [
      "난수의 최댓값을 구합니다.\n",
      "[27, 40, 90, 10, 52]\n",
      "이 가운데 최댓값은 90입니다.\n"
     ]
    }
   ],
   "source": [
    " # [Do it! 실습 2-4] 배열 원소의 최댓값을 구해서 출력하기(원솟값을 난수로 생성)\n",
    "\n",
    "import random\n",
    "from max import max_of\n",
    "\n",
    "print('난수의 최댓값을 구합니다.')\n",
    "num = int(input('난수의 개수를 입력하세요.: '))\n",
    "lo = int(input('난수의 최솟값을 입력하세요.: '))\n",
    "hi = int(input('난수의 최댓값을 입력하세요.: '))\n",
    "x = [None] * num        # 원소 수 num인 리스트를 생성\n",
    "\n",
    "for i in range(num):\n",
    "    x[i] = random.randint(lo, hi)\n",
    "\n",
    "print(f'{(x)}')\n",
    "print(f'이 가운데 최댓값은 {max_of(x)}입니다.')"
   ]
  },
  {
   "cell_type": "markdown",
   "metadata": {},
   "source": [
    "튜플, 문자열, 문자열 리스트 최댓값 구하기 "
   ]
  },
  {
   "cell_type": "code",
   "execution_count": 5,
   "metadata": {},
   "outputs": [
    {
     "name": "stdout",
     "output_type": "stream",
     "text": [
      "(4, 7, 5.6, 2, 3.14, 1)의 최댓값은 7입니다.\n",
      "string의 최댓값은 t입니다.\n",
      "['DTS', 'AAC', 'FLAC']의 최댓값은 FLAC입니다.\n"
     ]
    }
   ],
   "source": [
    " # [Do it! 실습 2-5] 배열 요소의 최댓값을 구해서 출력하기(튜플, 문자열, 문자열 리스트)\n",
    "\n",
    "from max import max_of\n",
    "\n",
    "t = (4, 7, 5.6, 2, 3.14, 1)\n",
    "s = 'string'\n",
    "a = ['DTS', 'AAC', 'FLAC']\n",
    "\n",
    "print(f'{t}의 최댓값은 {max_of(t)}입니다.')\n",
    "print(f'{s}의 최댓값은 {max_of(s)}입니다.')\n",
    "print(f'{a}의 최댓값은 {max_of(a)}입니다.')"
   ]
  },
  {
   "cell_type": "markdown",
   "metadata": {},
   "source": [
    "리스트와 튜플 2\n",
    "\n",
    "따로따로 생성한 리스트, 튜플의 동일성(식별번호) 판단 \n",
    "\n",
    "리터럴(literal - 고정된 값) 아님"
   ]
  },
  {
   "cell_type": "code",
   "execution_count": 6,
   "metadata": {},
   "outputs": [
    {
     "data": {
      "text/plain": [
       "False"
      ]
     },
     "execution_count": 6,
     "metadata": {},
     "output_type": "execute_result"
    }
   ],
   "source": [
    "lst1 = [1, 2, 3, 4, 5] \n",
    "lst2 = [1, 2, 3, 4, 5] \n",
    "lst1 is lst2"
   ]
  },
  {
   "cell_type": "markdown",
   "metadata": {},
   "source": [
    "리스트 튜플의 대입 "
   ]
  },
  {
   "cell_type": "code",
   "execution_count": 7,
   "metadata": {},
   "outputs": [
    {
     "data": {
      "text/plain": [
       "True"
      ]
     },
     "execution_count": 7,
     "metadata": {},
     "output_type": "execute_result"
    }
   ],
   "source": [
    "lst1 = [1, 2, 3, 4, 5] \n",
    "lst2 = lst1\n",
    "lst1 is lst2"
   ]
  },
  {
   "cell_type": "code",
   "execution_count": 8,
   "metadata": {},
   "outputs": [
    {
     "data": {
      "text/plain": [
       "[1, 2, 9, 4, 5]"
      ]
     },
     "execution_count": 8,
     "metadata": {},
     "output_type": "execute_result"
    }
   ],
   "source": [
    "lst1[2] = 9\n",
    "lst1"
   ]
  },
  {
   "cell_type": "code",
   "execution_count": 9,
   "metadata": {},
   "outputs": [
    {
     "data": {
      "text/plain": [
       "[1, 2, 9, 4, 5]"
      ]
     },
     "execution_count": 9,
     "metadata": {},
     "output_type": "execute_result"
    }
   ],
   "source": [
    "lst2"
   ]
  },
  {
   "cell_type": "markdown",
   "metadata": {},
   "source": [
    "리스트 스캔"
   ]
  },
  {
   "cell_type": "code",
   "execution_count": 10,
   "metadata": {},
   "outputs": [
    {
     "name": "stdout",
     "output_type": "stream",
     "text": [
      "x[0] = John\n",
      "x[1] = George\n",
      "x[2] = Paul\n",
      "x[3] = Ringo\n"
     ]
    }
   ],
   "source": [
    "# [Do it! 실습 2C-1] 리스트의 모든 원소를 ​​스캔하기(원소 수를 미리 파악)\n",
    "\n",
    "x = ['John', 'George', 'Paul', 'Ringo']\n",
    "\n",
    "for i in range(len(x)):\n",
    "    print(f'x[{i}] = {x[i]}')"
   ]
  },
  {
   "cell_type": "code",
   "execution_count": 11,
   "metadata": {},
   "outputs": [
    {
     "name": "stdout",
     "output_type": "stream",
     "text": [
      "x[0] = John\n",
      "x[1] = George\n",
      "x[2] = Paul\n",
      "x[3] = Ringo\n"
     ]
    }
   ],
   "source": [
    "# [Do it! 실습 2C-2] 리스트의 모든 원소를 ​​enumerate 함수로 스캔하기\n",
    "\n",
    "x = ['John', 'George', 'Paul', 'Ringo']\n",
    "\n",
    "for i, name in enumerate(x):\n",
    "    print(f'x[{i}] = {name}')"
   ]
  },
  {
   "cell_type": "code",
   "execution_count": 12,
   "metadata": {},
   "outputs": [
    {
     "name": "stdout",
     "output_type": "stream",
     "text": [
      "1번째 = John\n",
      "2번째 = George\n",
      "3번째 = Paul\n",
      "4번째 = Ringo\n"
     ]
    }
   ],
   "source": [
    "# [Do it! 실습 2C-3] 리스트의 모든 요소를 ​​enumerate 함수로 스캔(1부터 카운트)\n",
    "\n",
    "x = ['John', 'George', 'Paul', 'Ringo']\n",
    "\n",
    "for i, name in enumerate(x, 1):\n",
    "    print(f'{i}번째 = {name}')"
   ]
  },
  {
   "cell_type": "code",
   "execution_count": 13,
   "metadata": {},
   "outputs": [
    {
     "name": "stdout",
     "output_type": "stream",
     "text": [
      "John\n",
      "George\n",
      "Paul\n",
      "Ringo\n"
     ]
    }
   ],
   "source": [
    "# [Do it! 실습 2C-4] 리스트의 모든 원소를 ​​스캔하기(인덱스 값을 사용하지 않음)\n",
    "\n",
    "x = ['John', 'George', 'Paul', 'Ringo']\n",
    "\n",
    "for i in x:\n",
    "    print(i)"
   ]
  },
  {
   "cell_type": "markdown",
   "metadata": {},
   "source": [
    "튜플의 스캔"
   ]
  },
  {
   "cell_type": "code",
   "execution_count": 15,
   "metadata": {},
   "outputs": [
    {
     "name": "stdout",
     "output_type": "stream",
     "text": [
      "x[0] = John\n",
      "x[1] = George\n",
      "x[2] = Paul\n",
      "x[3] = Ringo\n"
     ]
    }
   ],
   "source": [
    "# 튜플의 모든 원소를 ​​스캔하기(원소 수를 미리 파악)\n",
    "\n",
    "x = ('John', 'George', 'Paul', 'Ringo')\n",
    "\n",
    "for i in range(len(x)):\n",
    "    print(f'x[{i}] = {x[i]}')"
   ]
  },
  {
   "cell_type": "code",
   "execution_count": 16,
   "metadata": {},
   "outputs": [
    {
     "name": "stdout",
     "output_type": "stream",
     "text": [
      "x[0] = John\n",
      "x[1] = George\n",
      "x[2] = Paul\n",
      "x[3] = Ringo\n"
     ]
    }
   ],
   "source": [
    "# 튜플의 모든 원소를 ​​enumerate 함수로 스캔하기\n",
    "\n",
    "x = ('John', 'George', 'Paul', 'Ringo')\n",
    "\n",
    "for i, name in enumerate(x):\n",
    "    print(f'x[{i}] = {name}')"
   ]
  },
  {
   "cell_type": "code",
   "execution_count": 17,
   "metadata": {},
   "outputs": [
    {
     "name": "stdout",
     "output_type": "stream",
     "text": [
      "1 번째 = John\n",
      "2 번째 = George\n",
      "3 번째 = Paul\n",
      "4 번째 = Ringo\n"
     ]
    }
   ],
   "source": [
    "# 튜플의 모든 원소를 ​​enumerate 함수로 스캔하기(1부터 카운트)\n",
    "\n",
    "x = ('John', 'George', 'Paul', 'Ringo')\n",
    "\n",
    "for i, name in enumerate(x, 1):\n",
    "    print(f'{i} 번째 = {name}')"
   ]
  },
  {
   "cell_type": "code",
   "execution_count": 18,
   "metadata": {},
   "outputs": [
    {
     "name": "stdout",
     "output_type": "stream",
     "text": [
      "John\n",
      "George\n",
      "Paul\n",
      "Ringo\n"
     ]
    }
   ],
   "source": [
    "# 튜플의 모든 원소를 ​​스캔하기(인덱스 값을 사용하지 않음)\n",
    "\n",
    "x = ('John', 'George', 'Paul', 'Ringo')\n",
    "\n",
    "for i in x:\n",
    "    print(i)"
   ]
  },
  {
   "cell_type": "markdown",
   "metadata": {},
   "source": [
    "이터러블\n",
    "\n",
    "- 문자열, 리스트, 튜플, 집합, 딕셔너리 등 자료형 객체는 모두 이터러블(iterable) = 반복가능\n",
    "- 원소 하나씩 꺼내는 구조. \n",
    "- 내장함수 iter() 의 인수로 전달하면 그 객체에 대한 이터레이터(반복자) 반환\n",
    "- 이터레이터: 데이터의 나열을 표현하는 객체\n",
    "- __next__함수 호출하거나 내장 함수인 next() 함수에 이터레이터를 전달하면 원소를 순차적으로 꺼낼 수 있음."
   ]
  },
  {
   "cell_type": "markdown",
   "metadata": {},
   "source": [
    "배열 원소를 역순으로 정렬하기 \n",
    "\n",
    "- 맨 앞 원소 a[0]과 맨 끝 원소 a[6] 값 교환\n",
    "- 각각 하나씩 안쪽 원솟값을 교환하는 작업 반복 \n",
    "- 교환 횟수: 원소수 // 2\n",
    "\n",
    "- 왼쪽 원소 인덱스(배열 맨 앞) : i\n",
    "- 오른쪽 원소 인덱스(배열 맨 끝): n - i - 1"
   ]
  },
  {
   "cell_type": "code",
   "execution_count": null,
   "metadata": {},
   "outputs": [],
   "source": [
    "# 의사 코드 표현\n",
    "for i in range(n // 2):\n",
    "    a[i]와 a[n - i - 1] 의 값을 교환"
   ]
  },
  {
   "cell_type": "code",
   "execution_count": 19,
   "metadata": {},
   "outputs": [
    {
     "name": "stdout",
     "output_type": "stream",
     "text": [
      "배열 원소를 역순으로 정렬합니다.\n",
      "배열 원소를 역순으로 정렬했습니다.\n",
      "x[0] = 7\n",
      "x[1] = 6\n",
      "x[2] = 9\n",
      "x[3] = 3\n",
      "x[4] = 1\n",
      "x[5] = 5\n",
      "x[6] = 2\n"
     ]
    }
   ],
   "source": [
    "# [Do it! 실습 2-6] 뮤터블 시퀀스 원소를 역순으로 정렬\n",
    "\n",
    "from typing import Any, MutableSequence\n",
    "\n",
    "def reverse_array(a: MutableSequence) -> None:\n",
    "    \"\"\"뮤터블 시퀀스형 a의 원소를 역순으로 정렬\"\"\"\n",
    "    n = len(a)\n",
    "    for i in range(n // 2):\n",
    "         a[i], a[n - i - 1] = a[n - i - 1], a[i]\n",
    "\n",
    "if __name__ == '__main__':\n",
    "    print('배열 원소를 역순으로 정렬합니다.')\n",
    "    nx = int(input('원소 수를 입력하세요.: '))\n",
    "    x = [None] * nx   # 원소 수가 nx인 리스트를 생성\n",
    "\n",
    "    for i in range(nx):\n",
    "        x[i] = int(input(f'x[{i}] : '))\n",
    "\n",
    "    reverse_array(x)  # x를 역순으로 정렬\n",
    "\n",
    "    print('배열 원소를 역순으로 정렬했습니다.')\n",
    "    for i in range(nx):\n",
    "        print(f'x[{i}] = {x[i]}')\n",
    "        \n",
    "# reverse_array() 함수는 인수로 받은 배열 a의 원소를 역순으로 정렬.         "
   ]
  },
  {
   "cell_type": "code",
   "execution_count": null,
   "metadata": {},
   "outputs": [],
   "source": [
    "# 뮤터블 시퀀스 원소를 역순으로 정렬(n을 사용하지 않음)\n",
    "\n",
    "from typing import Any, MutableSequence\n",
    "\n",
    "def reverse_array(a: MutableSequence) -> None:\n",
    "    \"\"\"뮤터블 시퀀스형 a의 원소를 역순으로 정렬\"\"\"\n",
    "    for i in range(len(a) // 2):\n",
    "         a[i], a[len(a) - i - 1] = a[len(a) - i - 1], a[i]\n",
    "\n",
    "if __name__ == '__main__':\n",
    "    print('배열 원소를 역순으로 정렬합니다.')\n",
    "    nx = int(input('원소 수를 입력하세요.: '))\n",
    "    x = [None] * nx   # 원소 수가 nx인 리스트를 생성\n",
    "\n",
    "    for i in range(nx):\n",
    "        x[i] = int(input(f'x[{i}]：'))\n",
    "\n",
    "    reverse_array(x)  # x를 역순으로 정렬\n",
    "\n",
    "    print('배열 원소를 역순으로 정렬했습니다.')\n",
    "    for i in range(nx):\n",
    "        print(f'x[{i}]＝{x[i]}')"
   ]
  },
  {
   "cell_type": "markdown",
   "metadata": {},
   "source": [
    "리스트를 역순으로 정렬하기 \n",
    "\n",
    "- 리스트 자기 자신을(inplace) 역순으로 정렬하려면 list형의 reverse() 함수 사용.\n",
    "\n",
    "x. reverse() \n",
    "\n",
    "\n",
    "역순으로 정렬한 리스트 생성 \n",
    "\n",
    "- reversed() 함수 호출하는 reversed(x) 는 x의 원소를 역순으로 정렬하는 이터러블 객체를 생성 \n",
    "- x 원소를 역순으로 꺼내는 이터레이터(반복자) 반환\n",
    "- 어떤 리스트 원소를 역순으로 정렬한다면, reversed() 함수가 반환하는 이터러블 객체를 list()함수에 넘기고 새로운 리스트 생성해야 함\n",
    "\n",
    "y = list(reversed(x)) "
   ]
  },
  {
   "cell_type": "markdown",
   "metadata": {},
   "source": [
    "기수 변환하기 (n진수 구하기) \n",
    "\n",
    "- 몫이 0이 될 때가지 정수를 n으로 나눈 나머지를 구하는 동시에 몫을 반복해서 나눠야 함\n",
    "- 나머지를 역순으로 늘어놓으면 기수로 변환한 수\n",
    "\n",
    "\n",
    "기수와 서수 \n",
    "\n",
    "- 기수: 수를 나타내는 데 기초.\n",
    "- 서수: 사물의 순서\n",
    "\n",
    "\n",
    "기수 살펴보기\n",
    "\n",
    "- n진수: n을 기수로 하는 수 "
   ]
  },
  {
   "cell_type": "code",
   "execution_count": 20,
   "metadata": {},
   "outputs": [
    {
     "name": "stdout",
     "output_type": "stream",
     "text": [
      "10진수를 n진수로 변환합니다.\n",
      "2진수로는 11101입니다.\n"
     ]
    }
   ],
   "source": [
    "# Do it! 실습 2-7 [A] 10진수 정수값을 입력받아 2~36진수로 변환하여 출력하기\n",
    "\n",
    "def card_conv(x: int, r: int) -> str:\n",
    "    \"\"\"정수 x를 r 진수로 변환한 뒤 그 수를 나타내는 문자열을 반환\"\"\"\n",
    "\n",
    "    d = ''  # 변환 뒤 문자열\n",
    "    dchar = '0123456789ABCDEFGHIJKLMNOPQRSTUVWXYZ'\n",
    "\n",
    "    while x > 0:\n",
    "        d += dchar [x % r]  # 해당하는 문자를 꺼내 결합\n",
    "        x //= r\n",
    "\n",
    "    return d[::-1]          # 역순으로 반환\n",
    "\n",
    "# Do it! 실습 2-7 [B]\n",
    "\n",
    "if __name__ == '__main__':\n",
    "    print('10진수를 n진수로 변환합니다.')\n",
    "\n",
    "    while True:\n",
    "        while True :  # 음이 아닌 정수를 입력받음\n",
    "            no = int(input('변환할 값으로 음이 아닌 정수를 입력하세요.: '))\n",
    "            if no > 0:\n",
    "                break\n",
    "\n",
    "        while True :  # 2~36진수의 정수값을 입력받음\n",
    "            cd = int(input('어떤 진수로 변환할까요?: '))\n",
    "            if 2 <=  cd <=  36:\n",
    "                break\n",
    "\n",
    "        print(f'{cd}진수로는 {card_conv(no, cd)}입니다.')\n",
    "\n",
    "        retry = input( \"한 번 더 변환할까요?(Y ... 예/N ... 아니오): \")\n",
    "        if retry in {'N', 'n'}:\n",
    "           break"
   ]
  },
  {
   "cell_type": "code",
   "execution_count": 21,
   "metadata": {},
   "outputs": [
    {
     "name": "stdout",
     "output_type": "stream",
     "text": [
      "10진수를 n진수로 변환합니다.\n",
      " 2 | 29\n",
      "   +----\n",
      " 2 | 14 … 1\n",
      "   +----\n",
      " 2 |  7 … 0\n",
      "   +----\n",
      " 2 |  3 … 1\n",
      "   +----\n",
      " 2 |  1 … 1\n",
      "   +----\n",
      "      0 … 1\n",
      "2진수로는 11101입니다.\n"
     ]
    }
   ],
   "source": [
    "# 10진수 정수값을 입력받아 2~36진수로 변환하여 출력하기(실습 2-7 수정)\n",
    "\n",
    "def card_conv(x: int, r: int) -> str:\n",
    "    \"\"\"정수 x를 r 진수로 변환한 뒤 그 수를 나타내는 문자열을 반환\"\"\"\n",
    "\n",
    "    d =  ''  # 변환 뒤 문자열\n",
    "    dchar = '0123456789ABCDEFGHIJKLMNOPQRSTUVWXYZ'\n",
    "    n = len(str(x))  # 변환하기 전의 자릿수\n",
    "\n",
    "    print(f'{r:2} | {x:{n}d}')\n",
    "    while x > 0:\n",
    "        print('   +' + (n + 2) * '-')\n",
    "        if x // r:\n",
    "            print(f'{r:2} | {x // r:{n}d} … {x % r}')\n",
    "        else:\n",
    "            print(f'     {x // r:{n}d} … {x % r}')\n",
    "        d += dchar [x % r]  # 해당하는 문자를 꺼내 결합\n",
    "        x //= r\n",
    "\n",
    "    return d[::-1]  # 역순으로 반환\n",
    "\n",
    "# 이하 Do it! 실습 2-7 [B]와 동일\n",
    "\n",
    "if __name__ == '__main__':\n",
    "    print('10진수를 n진수로 변환합니다.')\n",
    "\n",
    "    while True:\n",
    "        while True :  # 음이 아닌 정수를 입력받음\n",
    "            no = int(input('변환할 값으로 음이 아닌 정수를 입력하세요.: '))\n",
    "            if no > 0:\n",
    "                break\n",
    "\n",
    "        while True :  # 2~36진수의 정수값을 입력받음\n",
    "            cd = int(input('어떤 진수로 변환할까요?: '))\n",
    "            if 2 <=  cd <=  36:\n",
    "                break\n",
    "\n",
    "        print(f'{cd}진수로는 {card_conv(no, cd)}입니다.')\n",
    "\n",
    "        retry = input( \"한 번 더 변환할까요?(Y … 예/N … 아니오) : \")\n",
    "        if retry in {'N', 'n'}:\n",
    "           break\n"
   ]
  },
  {
   "cell_type": "markdown",
   "metadata": {},
   "source": [
    "함수 사이에 인수 주고받기 "
   ]
  },
  {
   "cell_type": "code",
   "execution_count": 22,
   "metadata": {},
   "outputs": [
    {
     "name": "stdout",
     "output_type": "stream",
     "text": [
      "1부터 5까지 합은 15입니다.\n"
     ]
    }
   ],
   "source": [
    "# [Do it! 실습 2C-5] 1부터 n까지 정수의 합 구하기\n",
    "\n",
    "def sum_1ton(n):\n",
    "    \"\"\"1부터 n까지 정수의 합\"\"\"\n",
    "    s = 0\n",
    "    while n > 0:\n",
    "        s += n\n",
    "        n -= 1\n",
    "    return s\n",
    "\n",
    "x = int(input('x의 값을 입력하세요.: '))\n",
    "print(f'1부터 {x}까지 합은 {sum_1ton(x)}입니다.')"
   ]
  },
  {
   "cell_type": "markdown",
   "metadata": {},
   "source": [
    "함수의 실행 시작 시점에서 매개변수는 실제 인수와 같은 객체를 참조합니다. 함수에서 매개변수의 값을 변경하면 인수의 형(type) 에 따라 다음과 같이 구분\n",
    "\n",
    "1. 인수가 이뮤터블일때: 함수 안에서 매개변수 값을 변경하면 다른 객체를 생성하고 그 객체에 대한 참조로 업데이트.\n",
    "    - 따라서, 매개변수 값을 변경해도 호출하는 쪽의 실제 인수에는 영향을 주지 않음\n",
    "\n",
    "2. 인수가 뮤터블일때: 함수 안에서 매개변수의 값을 변경하면 객체 자체를 업데이트. \n",
    "    - 따라서 매개변수의 값을 변경하면 호출하는 쪽의 실제 인수는 값이 변경  "
   ]
  },
  {
   "cell_type": "code",
   "execution_count": 23,
   "metadata": {},
   "outputs": [
    {
     "name": "stdout",
     "output_type": "stream",
     "text": [
      "x = [11, 22, 33, 44, 55]\n",
      "x = [11, 22, 99, 44, 55]\n"
     ]
    }
   ],
   "source": [
    "# [Do it! 실습 2C-6] 리스트의 모든 원솟값을 업데이트하기\n",
    "\n",
    "def change(lst, idx, val):\n",
    "    \"\"\"lst[idx]의 값을 val로 업데이트\"\"\"\n",
    "    lst [idx] = val\n",
    "\n",
    "x = [11, 22, 33, 44, 55]\n",
    "print('x =', x)\n",
    "\n",
    "index = int(input('업데이트할 인덱스를 선택하세요.: '))\n",
    "value = int(input('새로운 값을 입력하세요.: '))\n",
    "\n",
    "change(x, index, value)\n",
    "print(f'x = {x}')"
   ]
  },
  {
   "cell_type": "markdown",
   "metadata": {},
   "source": [
    "소수 나열하기 \n",
    "\n",
    "- 소수(prime number): 자신과 1 이외 정수로 나누어 떨어지지 않는 정수.\n",
    "- 2 부터 n - 1까지 어떤 정수로도 나누어 떨어지지 않는다.\n",
    "\n",
    "- 나누어 떨어지는 정수가 하나 이상 존재하면 그 수 = 합성수(composite number) "
   ]
  },
  {
   "cell_type": "code",
   "execution_count": 24,
   "metadata": {},
   "outputs": [
    {
     "name": "stdout",
     "output_type": "stream",
     "text": [
      "2\n",
      "3\n",
      "5\n",
      "7\n",
      "11\n",
      "13\n",
      "17\n",
      "19\n",
      "23\n",
      "29\n",
      "31\n",
      "37\n",
      "41\n",
      "43\n",
      "47\n",
      "53\n",
      "59\n",
      "61\n",
      "67\n",
      "71\n",
      "73\n",
      "79\n",
      "83\n",
      "89\n",
      "97\n",
      "101\n",
      "103\n",
      "107\n",
      "109\n",
      "113\n",
      "127\n",
      "131\n",
      "137\n",
      "139\n",
      "149\n",
      "151\n",
      "157\n",
      "163\n",
      "167\n",
      "173\n",
      "179\n",
      "181\n",
      "191\n",
      "193\n",
      "197\n",
      "199\n",
      "211\n",
      "223\n",
      "227\n",
      "229\n",
      "233\n",
      "239\n",
      "241\n",
      "251\n",
      "257\n",
      "263\n",
      "269\n",
      "271\n",
      "277\n",
      "281\n",
      "283\n",
      "293\n",
      "307\n",
      "311\n",
      "313\n",
      "317\n",
      "331\n",
      "337\n",
      "347\n",
      "349\n",
      "353\n",
      "359\n",
      "367\n",
      "373\n",
      "379\n",
      "383\n",
      "389\n",
      "397\n",
      "401\n",
      "409\n",
      "419\n",
      "421\n",
      "431\n",
      "433\n",
      "439\n",
      "443\n",
      "449\n",
      "457\n",
      "461\n",
      "463\n",
      "467\n",
      "479\n",
      "487\n",
      "491\n",
      "499\n",
      "503\n",
      "509\n",
      "521\n",
      "523\n",
      "541\n",
      "547\n",
      "557\n",
      "563\n",
      "569\n",
      "571\n",
      "577\n",
      "587\n",
      "593\n",
      "599\n",
      "601\n",
      "607\n",
      "613\n",
      "617\n",
      "619\n",
      "631\n",
      "641\n",
      "643\n",
      "647\n",
      "653\n",
      "659\n",
      "661\n",
      "673\n",
      "677\n",
      "683\n",
      "691\n",
      "701\n",
      "709\n",
      "719\n",
      "727\n",
      "733\n",
      "739\n",
      "743\n",
      "751\n",
      "757\n",
      "761\n",
      "769\n",
      "773\n",
      "787\n",
      "797\n",
      "809\n",
      "811\n",
      "821\n",
      "823\n",
      "827\n",
      "829\n",
      "839\n",
      "853\n",
      "857\n",
      "859\n",
      "863\n",
      "877\n",
      "881\n",
      "883\n",
      "887\n",
      "907\n",
      "911\n",
      "919\n",
      "929\n",
      "937\n",
      "941\n",
      "947\n",
      "953\n",
      "967\n",
      "971\n",
      "977\n",
      "983\n",
      "991\n",
      "997\n",
      "나눗셈을 실행한 횟수: 78022\n"
     ]
    }
   ],
   "source": [
    "# [Do it! 실습 2-8] 1,000 이하의 소수를 나열하기\n",
    "\n",
    "counter = 0  # 나눗셈 횟수\n",
    "\n",
    "for n in range(2, 1001):\n",
    "    for i in range(2, n):\n",
    "        counter += 1\n",
    "        if n % i == 0 :     # 나누어 떨어지면 소수가 아님\n",
    "            break           # 반복은 더 이상 불필요하여 중단\n",
    "    else:                   # 끝까지 나누어 떨어지지 않으면 다음을 수행\n",
    "        print(n)\n",
    "print(f'나눗셈을 실행한 횟수: {counter}')\n",
    "\n",
    "# 불필요한 나눗셈 반복"
   ]
  },
  {
   "cell_type": "markdown",
   "metadata": {},
   "source": [
    "정수 n이 소수인지 여부 조건\n",
    "\n",
    "- 2부터 n-1까지 어떤 소수로도 나누어 떨어지지 않는다"
   ]
  },
  {
   "cell_type": "markdown",
   "metadata": {},
   "source": [
    "알고리즘 개선 1"
   ]
  },
  {
   "cell_type": "code",
   "execution_count": 25,
   "metadata": {},
   "outputs": [
    {
     "name": "stdout",
     "output_type": "stream",
     "text": [
      "2\n",
      "3\n",
      "5\n",
      "7\n",
      "11\n",
      "13\n",
      "17\n",
      "19\n",
      "23\n",
      "29\n",
      "31\n",
      "37\n",
      "41\n",
      "43\n",
      "47\n",
      "53\n",
      "59\n",
      "61\n",
      "67\n",
      "71\n",
      "73\n",
      "79\n",
      "83\n",
      "89\n",
      "97\n",
      "101\n",
      "103\n",
      "107\n",
      "109\n",
      "113\n",
      "127\n",
      "131\n",
      "137\n",
      "139\n",
      "149\n",
      "151\n",
      "157\n",
      "163\n",
      "167\n",
      "173\n",
      "179\n",
      "181\n",
      "191\n",
      "193\n",
      "197\n",
      "199\n",
      "211\n",
      "223\n",
      "227\n",
      "229\n",
      "233\n",
      "239\n",
      "241\n",
      "251\n",
      "257\n",
      "263\n",
      "269\n",
      "271\n",
      "277\n",
      "281\n",
      "283\n",
      "293\n",
      "307\n",
      "311\n",
      "313\n",
      "317\n",
      "331\n",
      "337\n",
      "347\n",
      "349\n",
      "353\n",
      "359\n",
      "367\n",
      "373\n",
      "379\n",
      "383\n",
      "389\n",
      "397\n",
      "401\n",
      "409\n",
      "419\n",
      "421\n",
      "431\n",
      "433\n",
      "439\n",
      "443\n",
      "449\n",
      "457\n",
      "461\n",
      "463\n",
      "467\n",
      "479\n",
      "487\n",
      "491\n",
      "499\n",
      "503\n",
      "509\n",
      "521\n",
      "523\n",
      "541\n",
      "547\n",
      "557\n",
      "563\n",
      "569\n",
      "571\n",
      "577\n",
      "587\n",
      "593\n",
      "599\n",
      "601\n",
      "607\n",
      "613\n",
      "617\n",
      "619\n",
      "631\n",
      "641\n",
      "643\n",
      "647\n",
      "653\n",
      "659\n",
      "661\n",
      "673\n",
      "677\n",
      "683\n",
      "691\n",
      "701\n",
      "709\n",
      "719\n",
      "727\n",
      "733\n",
      "739\n",
      "743\n",
      "751\n",
      "757\n",
      "761\n",
      "769\n",
      "773\n",
      "787\n",
      "797\n",
      "809\n",
      "811\n",
      "821\n",
      "823\n",
      "827\n",
      "829\n",
      "839\n",
      "853\n",
      "857\n",
      "859\n",
      "863\n",
      "877\n",
      "881\n",
      "883\n",
      "887\n",
      "907\n",
      "911\n",
      "919\n",
      "929\n",
      "937\n",
      "941\n",
      "947\n",
      "953\n",
      "967\n",
      "971\n",
      "977\n",
      "983\n",
      "991\n",
      "997\n",
      "나눗셈을 실행한 횟수: 14622\n"
     ]
    }
   ],
   "source": [
    "# [Do it! 실습 2-9] 1,000 이하의 소수를 나열하기(알고리즘 개선 1)\n",
    "\n",
    "counter = 0           # 나눗셈 횟수\n",
    "ptr = 0               # 이미 찾은 소수의 개수\n",
    "prime = [None] * 500  # 소수를 저장하는 배열\n",
    "\n",
    "prime[ptr] = 2        # 2는 소수이므로 초깃값으로 지정\n",
    "ptr += 1\n",
    "\n",
    "for n in range(3, 1001, 2):  # 홀수만을 대상으로 설정\n",
    "    for i in range(1, ptr):  # 이미 찾은 소수로 나눔\n",
    "        counter += 1\n",
    "        if n % prime[i] == 0:  # 나누어 떨어지면 소수가 아님\n",
    "            break              # 반복 중단\n",
    "    else:                      # 끝까지 나누어 떨어지지 않았다면\n",
    "        prime[ptr] = n         # 소수로 배열에 등록\n",
    "        ptr += 1\n",
    "\n",
    "for i in range(ptr):  # ptr의 소수를 출력\n",
    "    print(prime[i])\n",
    "print(f'나눗셈을 실행한 횟수: {counter}')\n",
    "\n",
    "\n",
    "# 같은 결과(해답)를 얻을 수 있는 알고리즘은 여러 개일 수 있다\n",
    "# 빠른 알고리즘은 많은 메모리를 요구한다 "
   ]
  },
  {
   "cell_type": "markdown",
   "metadata": {},
   "source": [
    "알고리즘 개선 2\n",
    "\n",
    "- 어떤 정수 n의 소수 조건\n",
    "    - n의 제곱근 이하의 어떤 소수로도 나누어 떨어지지 않는다"
   ]
  },
  {
   "cell_type": "code",
   "execution_count": 26,
   "metadata": {},
   "outputs": [
    {
     "name": "stdout",
     "output_type": "stream",
     "text": [
      "2\n",
      "3\n",
      "5\n",
      "7\n",
      "11\n",
      "13\n",
      "17\n",
      "19\n",
      "23\n",
      "29\n",
      "31\n",
      "37\n",
      "41\n",
      "43\n",
      "47\n",
      "53\n",
      "59\n",
      "61\n",
      "67\n",
      "71\n",
      "73\n",
      "79\n",
      "83\n",
      "89\n",
      "97\n",
      "101\n",
      "103\n",
      "107\n",
      "109\n",
      "113\n",
      "127\n",
      "131\n",
      "137\n",
      "139\n",
      "149\n",
      "151\n",
      "157\n",
      "163\n",
      "167\n",
      "173\n",
      "179\n",
      "181\n",
      "191\n",
      "193\n",
      "197\n",
      "199\n",
      "211\n",
      "223\n",
      "227\n",
      "229\n",
      "233\n",
      "239\n",
      "241\n",
      "251\n",
      "257\n",
      "263\n",
      "269\n",
      "271\n",
      "277\n",
      "281\n",
      "283\n",
      "293\n",
      "307\n",
      "311\n",
      "313\n",
      "317\n",
      "331\n",
      "337\n",
      "347\n",
      "349\n",
      "353\n",
      "359\n",
      "367\n",
      "373\n",
      "379\n",
      "383\n",
      "389\n",
      "397\n",
      "401\n",
      "409\n",
      "419\n",
      "421\n",
      "431\n",
      "433\n",
      "439\n",
      "443\n",
      "449\n",
      "457\n",
      "461\n",
      "463\n",
      "467\n",
      "479\n",
      "487\n",
      "491\n",
      "499\n",
      "503\n",
      "509\n",
      "521\n",
      "523\n",
      "541\n",
      "547\n",
      "557\n",
      "563\n",
      "569\n",
      "571\n",
      "577\n",
      "587\n",
      "593\n",
      "599\n",
      "601\n",
      "607\n",
      "613\n",
      "617\n",
      "619\n",
      "631\n",
      "641\n",
      "643\n",
      "647\n",
      "653\n",
      "659\n",
      "661\n",
      "673\n",
      "677\n",
      "683\n",
      "691\n",
      "701\n",
      "709\n",
      "719\n",
      "727\n",
      "733\n",
      "739\n",
      "743\n",
      "751\n",
      "757\n",
      "761\n",
      "769\n",
      "773\n",
      "787\n",
      "797\n",
      "809\n",
      "811\n",
      "821\n",
      "823\n",
      "827\n",
      "829\n",
      "839\n",
      "853\n",
      "857\n",
      "859\n",
      "863\n",
      "877\n",
      "881\n",
      "883\n",
      "887\n",
      "907\n",
      "911\n",
      "919\n",
      "929\n",
      "937\n",
      "941\n",
      "947\n",
      "953\n",
      "967\n",
      "971\n",
      "977\n",
      "983\n",
      "991\n",
      "997\n",
      "곱셈과 나눗셈을 실행한 횟수: 3774\n"
     ]
    }
   ],
   "source": [
    "# [Do it! 실습 2-10] 1,000 이하의 소수를 나열하기(알고리즘 개선 2) - 배열의 원솟수를 미리 결정하지 않음\n",
    "\n",
    "counter = 0             # 곱셈과 나눗셈을 합한 횟수\n",
    "prime = [2, 3]          # 소수를 저장하는 배열\n",
    "\n",
    "for n in range(5, 1001, 2):     # 홀수만을 대상으로 설정\n",
    "    i = 1\n",
    "    while prime[i] * prime[i] <= n:\n",
    "        counter += 2\n",
    "        if n % prime[i] == 0:   # 나누어 떨어지므로 소수가 아님\n",
    "            break               # 반복 중단\n",
    "        i += 1\n",
    "    else:                       # 끝까지 나누어 떨어지지 않았다면\n",
    "        prime += [n]            # 소수로 배열에 등록\n",
    "        counter += 1\n",
    "\n",
    "for i in prime:                 # 소수를 출력\n",
    "    print(i)\n",
    "print(f'곱셈과 나눗셈을 실행한 횟수: {counter}')"
   ]
  },
  {
   "cell_type": "markdown",
   "metadata": {},
   "source": [
    "리스트의 원소와 복사"
   ]
  },
  {
   "cell_type": "code",
   "execution_count": 27,
   "metadata": {},
   "outputs": [
    {
     "name": "stdout",
     "output_type": "stream",
     "text": [
      "x[0] = 15\n",
      "x[1] = 64\n",
      "x[2] = 7\n",
      "x[3] = 3.14\n",
      "x[4] = [32, 55]\n",
      "x[5] = ABC\n"
     ]
    }
   ],
   "source": [
    "# [Do it! 실습 2C-7] 자료형을 정하지 않은 리스트 원소 확인하기\n",
    "\n",
    "x = [15, 64, 7, 3.14, [32, 55], 'ABC']\n",
    "for i in range(len(x)):\n",
    "    print(f'x[{i}] = {x[i]}')"
   ]
  },
  {
   "cell_type": "code",
   "execution_count": 28,
   "metadata": {},
   "outputs": [
    {
     "data": {
      "text/plain": [
       "[[1, 9, 3], [4, 5, 6]]"
      ]
     },
     "execution_count": 28,
     "metadata": {},
     "output_type": "execute_result"
    }
   ],
   "source": [
    "x = [[1,2,3], [4, 5, 6]] \n",
    "y = x.copy()   # x를 y로 얕은 복사 \n",
    "x[0][1] = 9\n",
    "x"
   ]
  },
  {
   "cell_type": "code",
   "execution_count": 29,
   "metadata": {},
   "outputs": [
    {
     "data": {
      "text/plain": [
       "[[1, 9, 3], [4, 5, 6]]"
      ]
     },
     "execution_count": 29,
     "metadata": {},
     "output_type": "execute_result"
    }
   ],
   "source": [
    "y"
   ]
  },
  {
   "cell_type": "code",
   "execution_count": 32,
   "metadata": {},
   "outputs": [
    {
     "data": {
      "text/plain": [
       "[[1, 9, 3], [4, 5, 6]]"
      ]
     },
     "execution_count": 32,
     "metadata": {},
     "output_type": "execute_result"
    }
   ],
   "source": [
    "import copy    # deepcopy 사용하기 위한 copy 모듈 임포트 \n",
    "x = [[1,2,3], [4, 5, 6]]\n",
    "y = copy.deepcopy(x)    # x를 y로 깊은 복사\n",
    "x[0][1] = 9 \n",
    "x"
   ]
  },
  {
   "cell_type": "code",
   "execution_count": null,
   "metadata": {},
   "outputs": [],
   "source": []
  },
  {
   "cell_type": "code",
   "execution_count": null,
   "metadata": {},
   "outputs": [],
   "source": []
  },
  {
   "cell_type": "code",
   "execution_count": null,
   "metadata": {},
   "outputs": [],
   "source": []
  },
  {
   "cell_type": "code",
   "execution_count": null,
   "metadata": {},
   "outputs": [],
   "source": []
  },
  {
   "cell_type": "code",
   "execution_count": null,
   "metadata": {},
   "outputs": [],
   "source": []
  },
  {
   "cell_type": "code",
   "execution_count": null,
   "metadata": {},
   "outputs": [],
   "source": []
  },
  {
   "cell_type": "code",
   "execution_count": null,
   "metadata": {},
   "outputs": [],
   "source": []
  },
  {
   "cell_type": "code",
   "execution_count": null,
   "metadata": {},
   "outputs": [],
   "source": []
  },
  {
   "cell_type": "code",
   "execution_count": null,
   "metadata": {},
   "outputs": [],
   "source": []
  },
  {
   "cell_type": "code",
   "execution_count": null,
   "metadata": {},
   "outputs": [],
   "source": []
  },
  {
   "cell_type": "code",
   "execution_count": null,
   "metadata": {},
   "outputs": [],
   "source": []
  },
  {
   "cell_type": "code",
   "execution_count": null,
   "metadata": {},
   "outputs": [],
   "source": []
  },
  {
   "cell_type": "code",
   "execution_count": null,
   "metadata": {},
   "outputs": [],
   "source": []
  }
 ],
 "metadata": {
  "kernelspec": {
   "display_name": "Python 3.9.12 ('base')",
   "language": "python",
   "name": "python3"
  },
  "language_info": {
   "codemirror_mode": {
    "name": "ipython",
    "version": 3
   },
   "file_extension": ".py",
   "mimetype": "text/x-python",
   "name": "python",
   "nbconvert_exporter": "python",
   "pygments_lexer": "ipython3",
   "version": "3.9.12"
  },
  "orig_nbformat": 4,
  "vscode": {
   "interpreter": {
    "hash": "ca71aff40853dd846130b67975d07637ec6294bee047a07657cfc9075e3162be"
   }
  }
 },
 "nbformat": 4,
 "nbformat_minor": 2
}
