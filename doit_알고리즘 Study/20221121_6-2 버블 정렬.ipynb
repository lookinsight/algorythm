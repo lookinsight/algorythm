{
 "cells": [
  {
   "cell_type": "markdown",
   "metadata": {},
   "source": [
    "6-2. 버블 정렬\n",
    "\n",
    "- 이웃한 두 원소의 대소 관계를 비교하여 필요에 따라 교환을 반복하는 알고리즘. 단순교환정렬.\n",
    "\n",
    "[버블 정렬 알아보기]\n",
    "\n",
    "1. 배열에서, 오른쪽 끝 두 원소 9와 8에 주목. 배열을 오름차순 정렬한다면 왼쪽의 값(9)이 오른쪽의 값(8)과 같거나 작아야 함\n",
    "2. 따라서, 9와 8을 교환하면 6|4|3|7|1|8|9\n",
    "3. 이렇게 이웃한 원소를 비교하고, 필요하면 교환\n",
    "4. 원소수 n인 배열에서 n-1번 비교 교환을 하면 가장 작은 원소인 1이 맨 앞으로 이동\n",
    "    - 이런 일련의 비교, 교환하는 과정 = 패스(pass)\n",
    "5. 첫 번째 패스로 가장 작은 원소 정렬 끝\n",
    "6. 다음 작은 원소 정렬하기 위해 패스 진행\n",
    "7. 패스횟수 = n-1번\n",
    "\n",
    "[버블 정렬 프로그램]\n",
    "\n",
    "- 버블 정렬 알고리즘 구현: n개 원소 수와 각각의 원솟값을 입력 받음, i값을 0부터 n-2까지 1씩 증가시키고, 패스를 n-1번 수행"
   ]
  },
  {
   "cell_type": "code",
   "execution_count": 4,
   "metadata": {},
   "outputs": [
    {
     "name": "stdout",
     "output_type": "stream",
     "text": [
      "버블 정렬을 수행합니다\n",
      "오름차순으로 정렬했습니\n",
      "x[0] = 1\n",
      "x[1] = 3\n",
      "x[2] = 4\n",
      "x[3] = 6\n",
      "x[4] = 7\n",
      "x[5] = 8\n",
      "x[6] = 9\n"
     ]
    }
   ],
   "source": [
    "# 버블 정렬 알고리즘 구현하기\n",
    "\n",
    "from typing import MutableSequence \n",
    " \n",
    "def bubble_sort(a: MutableSequence) -> None:\n",
    "    \"\"\"버블 정렬\"\"\"\n",
    "    n = len(a) \n",
    "    for i in range(n-1):\n",
    "        for j in range(n-1, i, -1):\n",
    "            if a[j-1] > a[j]:\n",
    "                a[j-1], a[j] = a[j], a[j-1] \n",
    "                \n",
    "                 \n",
    "if __name__ == '__main__': \n",
    "    print(\"버블 정렬을 수행합니다\") \n",
    "    \n",
    "    num = int(input('원소 수를 입력하세요 : ')) \n",
    "    x = [None] * num    # 원소 수가 num인 배열 생성 \n",
    "    \n",
    "    for i in range(num):\n",
    "        x[i] = int(input(f'x[{i}]: '))\n",
    "        \n",
    "    bubble_sort(x)    # 배열 x를 버블 정렬\n",
    "    \n",
    "    print('오름차순으로 정렬했습니다')\n",
    "    \n",
    "    for i in range(num):\n",
    "        print(f'x[{i}] = {x[i]}')"
   ]
  },
  {
   "cell_type": "markdown",
   "metadata": {},
   "source": [
    "버블 정렬은 1칸 이상 떨어져 잇는 원소를 교환하는 것이 아닌 서로 이웃한 원소만 교환.\n",
    "원소 비교 횟수는 첫 번째 패스 = n-1, 두 번째 패스 = n-2 번...   > n(n-1) / 2\n",
    "but, 실제 원소 교환하는 횟ㅅ는 배열의 원솟값에 따라 영향을 받으므로 그 평균값은 비교 횟수 절반인 n(n-1) / 4 번임."
   ]
  },
  {
   "cell_type": "markdown",
   "metadata": {},
   "source": [
    "교환 과정 출력 "
   ]
  },
  {
   "cell_type": "code",
   "execution_count": 7,
   "metadata": {},
   "outputs": [
    {
     "name": "stdout",
     "output_type": "stream",
     "text": [
      "버블 정렬을 수행합니다.\n",
      "패스1\n",
      " 6  4  3  7  1  9 + 8\n",
      " 6  4  3  7  1 - 8  9\n",
      " 6  4  3  7 + 1  8  9\n",
      " 6  4  3 + 1  7  8  9\n",
      " 6  4 + 1  3  7  8  9\n",
      " 6 + 1  4  3  7  8  9\n",
      " 1  6  4  3  7  8  9\n",
      "패스2\n",
      " 1  6  4  3  7  8 - 9\n",
      " 1  6  4  3  7 - 8  9\n",
      " 1  6  4  3 - 7  8  9\n",
      " 1  6  4 + 3  7  8  9\n",
      " 1  6 + 3  4  7  8  9\n",
      " 1  3  6  4  7  8  9\n",
      "패스3\n",
      " 1  3  6  4  7  8 - 9\n",
      " 1  3  6  4  7 - 8  9\n",
      " 1  3  6  4 - 7  8  9\n",
      " 1  3  6 + 4  7  8  9\n",
      " 1  3  4  6  7  8  9\n",
      "패스4\n",
      " 1  3  4  6  7  8 - 9\n",
      " 1  3  4  6  7 - 8  9\n",
      " 1  3  4  6 - 7  8  9\n",
      " 1  3  4  6  7  8  9\n",
      "패스5\n",
      " 1  3  4  6  7  8 - 9\n",
      " 1  3  4  6  7 - 8  9\n",
      " 1  3  4  6  7  8  9\n",
      "패스6\n",
      " 1  3  4  6  7  8 - 9\n",
      " 1  3  4  6  7  8  9\n",
      "비교를 21번 했습니다.\n",
      "교환을 8번 했습니다.\n",
      "오름차순으로 정렬했습니다.\n",
      "x[0] = 1\n",
      "x[1] = 3\n",
      "x[2] = 4\n",
      "x[3] = 6\n",
      "x[4] = 7\n",
      "x[5] = 8\n",
      "x[6] = 9\n"
     ]
    }
   ],
   "source": [
    "# 버블 정렬 알고리즘 구현하기(정렬 과정을 출력) \n",
    "\n",
    "from typing import MutableSequence \n",
    "\n",
    "def bubble_sort_verbose(a: MutableSequence) -> None: \n",
    "    \"\"\"버블 정렬(정렬과정 출력)\"\"\"\n",
    "    ccnt = 0   # 비교 횟수\n",
    "    scnt = 0   # 교환 횟수 \n",
    "    \n",
    "    n = len(a) \n",
    "    for i in range(n - 1): \n",
    "        print(f'패스{i+1}')\n",
    "        for j in range(n-1, i, -1):\n",
    "            for m in range(0, n-1):\n",
    "                print(f'{a[m]:2}' + (' ' if m != j - 1 else ' +' if a[j-1] > a[j] else ' -'), end='') \n",
    "            print(f'{a[n-1]:2}')\n",
    "            ccnt += 1\n",
    "            \n",
    "            if a[j-1] > a[j]:\n",
    "                scnt += 1\n",
    "                a[j-1], a[j] = a[j], a[j-1]\n",
    "                \n",
    "        for m in range(0, n-1):\n",
    "            print(f'{a[m]:2}', end=' ') \n",
    "        print(f'{a[n-1]:2}')\n",
    "    \n",
    "    print(f'비교를 {ccnt}번 했습니다.')\n",
    "    print(f'교환을 {scnt}번 했습니다.')\n",
    "    \n",
    "if __name__ == '__main__':\n",
    "    print('버블 정렬을 수행합니다.')\n",
    "    num = int(input('원소 수를 입력하세요.: '))\n",
    "    x = [None] * num  # 원소 수가 num인 배열을 생성\n",
    "\n",
    "    for i in range(num):\n",
    "        x[i] = int(input(f'x[{i}]: '))\n",
    "\n",
    "    bubble_sort_verbose(x)  # 배열 x를 버블 정렬\n",
    "\n",
    "    print('오름차순으로 정렬했습니다.')\n",
    "    for i in range(num):\n",
    "        print(f'x[{i}] = {x[i]}')\n",
    "                  "
   ]
  },
  {
   "cell_type": "markdown",
   "metadata": {},
   "source": [
    "비교하는 두 원소 사이에 교환할 경우 +를, 교환하지 않을 경우 - 출력. 정렬 완료하고 비교 횟수와 교환 횟수 출력"
   ]
  },
  {
   "cell_type": "markdown",
   "metadata": {},
   "source": [
    "알고리즘의 개선 1\n",
    "\n",
    "- 이미 정렬을 마친 상태라면 그 이후의 패스틑 원소 교환을 하지 않는다\n",
    "- 4, 5, 6 번째 패스에서도 원소 교환 이루어지지 않는다\n",
    "- 어떤 패스의 원소 교환 횟수가 0이면 모든 원소가 정렬을 완료한 경우이므로 그 이후의 패스는 불필요하다고 판단하여 정렬 중단\n",
    "- 처음 패스부터 정렬 완료 되었으면 정렬 종료하게 중단 시키기"
   ]
  },
  {
   "cell_type": "code",
   "execution_count": null,
   "metadata": {},
   "outputs": [],
   "source": [
    "# 교환 횟수에 따라 중단 방식을 적용하여 개선\n",
    "# 버블 정렬 알고리즘 구현하기(알고리즘 개선1) \n",
    "\n",
    "from typing import MutableSequence \n",
    "\n",
    "def bubble_sort(a: MutableSequence) -> None:\n",
    "     exchng = 0   # 패스에서 교환 횟수 \n",
    "     for j in range(n-1, i, -1):\n",
    "        if a[j-1] > a[j]:\n",
    "            a[j-1], a[j] = a[j], a[j-1]    \n",
    "            exchng += 1  \n",
    "        if exchng == 0:\n",
    "            break\n",
    "        \n",
    "if __name__ == '__main__':\n",
    "    print('버블 정렬을 합니다.')\n",
    "    num = int(input('원소 수를 입력하세요.: '))\n",
    "    x = [None] * num    # 원소 수 num인 배열을 생성\n",
    "\n",
    "    for i in range(num):\n",
    "        x[i] = int(input(f'x[{i}]: '))\n",
    "\n",
    "    bubble_sort(x)      # 배열 x를 버블 정렬\n",
    "\n",
    "    print('오름차순으로 정렬했습니다.')\n",
    "    for i in range(num):\n",
    "        print(f'x[{i}] = {x[i]}')"
   ]
  },
  {
   "cell_type": "code",
   "execution_count": 9,
   "metadata": {},
   "outputs": [
    {
     "name": "stdout",
     "output_type": "stream",
     "text": [
      "버블 정렬을 수행합니다\n",
      "패스 1\n",
      " 6   4   3   7   1   9 + 8\n",
      " 6   4   3   7   1 - 8   9\n",
      " 6   4   3   7 + 1   8   9\n",
      " 6   4   3 + 1   7   8   9\n",
      " 6   4 + 1   3   7   8   9\n",
      " 6 + 1   4   3   7   8   9\n",
      " 1   6   4   3   7   8   9\n",
      "패스 2\n",
      " 1   6   4   3   7   8 - 9\n",
      " 1   6   4   3   7 - 8   9\n",
      " 1   6   4   3 - 7   8   9\n",
      " 1   6   4 + 3   7   8   9\n",
      " 1   6 + 3   4   7   8   9\n",
      " 1   3   6   4   7   8   9\n",
      "패스 3\n",
      " 1   3   6   4   7   8 - 9\n",
      " 1   3   6   4   7 - 8   9\n",
      " 1   3   6   4 - 7   8   9\n",
      " 1   3   6 + 4   7   8   9\n",
      " 1   3   4   6   7   8   9\n",
      "패스 4\n",
      " 1   3   4   6   7   8 - 9\n",
      " 1   3   4   6   7 - 8   9\n",
      " 1   3   4   6 - 7   8   9\n",
      " 1   3   4   6   7   8   9\n",
      "비교를 18번 했습니다.\n",
      "교환을 8번 했습니다.\n",
      "오름차순으로 정렬했습니다.\n",
      "x[0] = 1\n",
      "x[1] = 3\n",
      "x[2] = 4\n",
      "x[3] = 6\n",
      "x[4] = 7\n",
      "x[5] = 8\n",
      "x[6] = 9\n"
     ]
    }
   ],
   "source": [
    "# [Do it! 실습 6-3] 버블 정렬 알고리즘 구현하기(알고리즘의 개선 1) - 정렬 과정을 출력\n",
    "\n",
    "from typing import MutableSequence\n",
    "\n",
    "def bubble_sort2_verbose(a: MutableSequence) -> None:\n",
    "    \"\"\"버블 정렬(교환 횟수에 따른 중단)\"\"\"\n",
    "    ccnt = 0  # 비교 횟수\n",
    "    scnt = 0  # 교환 횟수\n",
    "    n = len(a)\n",
    "    for i in range(n - 1):\n",
    "        print(f\"패스 {i + 1}\")\n",
    "        exchng = 0  # 패스에서의 교환 횟수\n",
    "        for j in range(n - 1, i, -1):\n",
    "            for m in range(0, n - 1):\n",
    "                print(\n",
    "                    f\"{a[m]:2}\"\n",
    "                    + (\"  \" if m != j - 1 else \" +\" if a[j - 1] > a[j] else \" -\"),\n",
    "                    end=\"\",\n",
    "                )\n",
    "            print(f\"{a[n - 1]:2}\")\n",
    "            ccnt += 1\n",
    "            if a[j - 1] > a[j]:\n",
    "                scnt += 1\n",
    "                a[j - 1], a[j] = a[j], a[j - 1]\n",
    "                exchng += 1\n",
    "        for m in range(0, n - 1):\n",
    "            print(f\"{a[m]:2}\", end=\"  \")\n",
    "        print(f\"{a[n - 1]:2}\")\n",
    "        if exchng == 0:  # 교환이 수행되지 않았으면 작업을 중단\n",
    "            break\n",
    "    print(f\"비교를 {ccnt}번 했습니다.\")\n",
    "    print(f\"교환을 {scnt}번 했습니다.\")\n",
    "\n",
    "if __name__ == \"__main__\":\n",
    "    print(\"버블 정렬을 수행합니다\")\n",
    "    num = int(input(\"원소 수를 입력하세요.: \"))\n",
    "    x = [None] * num        # 원소 수가 num인 배열을 생성\n",
    "\n",
    "    for i in range(num):\n",
    "        x[i] = int(input(f\"x[{i}]: \"))\n",
    "\n",
    "    bubble_sort2_verbose(x)  # 배열 x를 버블 정렬\n",
    "\n",
    "    print(\"오름차순으로 정렬했습니다.\")\n",
    "    for i in range(num):\n",
    "        print(f\"x[{i}] = {x[i]}\")"
   ]
  },
  {
   "cell_type": "markdown",
   "metadata": {},
   "source": [
    "실행 결과는 같지만 네 번째 패스를 완료한 시점에서 프로그램 종료. "
   ]
  },
  {
   "cell_type": "markdown",
   "metadata": {},
   "source": [
    "알고리즘 개선 2\n",
    "\n",
    "- 각각 패스에서 비교 교환 하다가 어떤 특정한 원소 이후에 교환하지 않는다면 그 원소보다 앞쪽에 있는 원소는 이미 정렬 마친 것\n",
    "- 따라서 두 번째 패스는 첫 번재 원소를 제외한 6개가 아닌 4개로 좁혀서 비교 교환"
   ]
  },
  {
   "cell_type": "code",
   "execution_count": null,
   "metadata": {},
   "outputs": [],
   "source": [
    "# 버블 정렬 알고리즘 구현하기(알고리즘 개선2) \n",
    "\n",
    "from typing import MutableSequence \n",
    "\n",
    "def bubble_sore(a: MutableSequence) -> None:\n",
    "    \"\"\"버블 정렬(스캔 범위를 제한)\"\"\"\n",
    "    n = len(a)\n",
    "    k = 0 \n",
    "    while k < n-1:\n",
    "        last = n - 1\n",
    "        for j in range(n-1, k, -1):\n",
    "            if a[j-1] > a[j]:\n",
    "                a[j-1], a[j] = a[j], a[j-1] \n",
    "                last = j \n",
    "        k = last\n",
    "        \n",
    "if __name__ == '__main__':\n",
    "    print('버블 정렬을 합니다.')\n",
    "    num = int(input('원솟수를 입력하세요.: '))\n",
    "    x = [None] * num    # 원솟수 num인 배열을 생성\n",
    "\n",
    "    for i in range(num):\n",
    "        x[i] = int(input(f'x[{i}] : '))\n",
    "\n",
    "    bubble_sort(x)      # 배열 x를 버블 정렬\n",
    "\n",
    "    print('오름차순으로 정렬했습니다.')\n",
    "    for i in range(num):\n",
    "        print(f'x[{i}] = {x[i]}')"
   ]
  },
  {
   "cell_type": "markdown",
   "metadata": {},
   "source": [
    "새로운 변수 last는 각 패스에서 마지막으로 교환한 두 원소 가운데 오른쪽 원소인 a[j] 인덱스 저장함\n",
    "\n",
    "하나의 패스를 마친 시점에 last의 값을 k 에 대입하여 다음에 수행할 패스의 스캔 범위를 a[k]로 제한 \n",
    "    > 다음 패스에서 마지막으로 비교할 두 원소는 a[k]와 a[k+1]"
   ]
  },
  {
   "cell_type": "markdown",
   "metadata": {},
   "source": [
    "셰이커 정렬 알아보기 \n",
    "\n",
    "- 9, 1, 3, 4, 6, 7, 8 \n",
    "- 위와 같은 배열이면 거의 정렬이 된 듯 보이지만 가장 왼쪽 9가 가장 큰 수여서 정렬을 빨리 마칠 수 없다\n",
    "    - 왜냐하면, 가장 큰 원소 9가 한 패스에 하나씩 뒤로 이동하기 때문.\n",
    "    - 만약 9를 빠르게 맨 뒤로 이동시킨다면? 작업 속도 빨라질 것\n",
    "    - 위 배열 데이터로 알고리즘 3개 모두 실행하면 비교 21번, 교환 6번 함\n",
    "\n",
    "- 이제부터\n",
    "- 홀수 패스에서는 가장 작은 원소 맨 앞으로 이동시키고, \n",
    "- 짝수 패스에서는 가장 큰 원소를 맨 뒤로 이동시켜 패스의 스캔 방향을 번갈아 바꾸어 보기\n",
    "- 버블 정렬 개선 = 셰이커 정렬 = 양방향 버블 정렬, 칵테일 정렬, 칵테일 셰이커 정렬, "
   ]
  },
  {
   "cell_type": "code",
   "execution_count": 10,
   "metadata": {},
   "outputs": [
    {
     "name": "stdout",
     "output_type": "stream",
     "text": [
      "셰이커 정렬을 수행합니다\n",
      "오름차순으로 정렬했습니다.\n",
      "x[0] = 9\n",
      "x[1] = 3\n",
      "x[2] = 4\n",
      "x[3] = 1\n",
      "x[4] = 6\n",
      "x[5] = 7\n",
      "x[6] = 8\n"
     ]
    }
   ],
   "source": [
    "# 셰이커 정렬 알고리즘 구현하기 \n",
    "\n",
    "from typing import MutableSequence  \n",
    "\n",
    "def shaker_sort(a: MutableSequence) -> None: \n",
    "    \"\"\"셰이커 정렬\"\"\"\n",
    "    \n",
    "    left = 0 \n",
    "    right = len(a) - 1 \n",
    "    last = right \n",
    "    while left < right:\n",
    "        for j in range(right, left, -1):\n",
    "            if a[j - 1] > a[j]:\n",
    "                a[j-1], a[j] = a[j], a[j-1]\n",
    "                last = j \n",
    "        left = last \n",
    "        \n",
    "        for j in range(left, right):\n",
    "            if a[j] > a[j-1]:\n",
    "                a[j], a[j-1] = a[j-1], a[j] \n",
    "                last = j \n",
    "                \n",
    "        right = last \n",
    "        \n",
    "if __name__ == '__main__':\n",
    "    print('셰이커 정렬을 수행합니다')\n",
    "    num = int(input('원소 수를 입력하세요.: '))\n",
    "    x = [None] * num    # 원소 수가 num인 배열을 생성\n",
    "\n",
    "    for i in range(num):\n",
    "        x[i] = int(input(f'x[{i}] : '))\n",
    "\n",
    "    shaker_sort(x)      # 배열 x를 단순 교환 정렬\n",
    "\n",
    "    print('오름차순으로 정렬했습니다.')\n",
    "    for i in range(num):\n",
    "        print(f'x[{i}] = {x[i]}')"
   ]
  },
  {
   "cell_type": "code",
   "execution_count": 11,
   "metadata": {},
   "outputs": [
    {
     "name": "stdout",
     "output_type": "stream",
     "text": [
      "셰이커 정렬을 수행합니다.\n",
      "패스1\n",
      " 9   1   3   4   6   7 - 8\n",
      " 9   1   3   4   6 - 7   8\n",
      " 9   1   3   4 - 6   7   8\n",
      " 9   1   3 - 4   6   7   8\n",
      " 9   1 - 3   4   6   7   8\n",
      " 9 + 1   3   4   6   7   8\n",
      " 1   9   3   4   6   7   8\n",
      "패스 2\n",
      " 1   9 + 3   4   6   7   8\n",
      " 1   3   9 + 4   6   7   8\n",
      " 1   3   4   9 + 6   7   8\n",
      " 1   3   4   6   9 + 7   8\n",
      " 1   3   4   6   7   9 + 8\n",
      " 1   3   4   6   7   8   9\n",
      "패스3\n",
      " 1   3   4   6   7 - 8   9\n",
      " 1   3   4   6 - 7   8   9\n",
      " 1   3   4 - 6   7   8   9\n",
      " 1   3 - 4   6   7   8   9\n",
      " 1   3   4   6   7   8   9\n",
      "비교를 15번 했습니다.\n",
      "교환을 6번 했습니다.\n",
      "오름차순으로 정렬했습니다.\n",
      "x[0] = 1\n",
      "x[1] = 3\n",
      "x[2] = 4\n",
      "x[3] = 6\n",
      "x[4] = 7\n",
      "x[5] = 8\n",
      "x[6] = 9\n"
     ]
    }
   ],
   "source": [
    "# [Do it! 실습 6-5] 셰이커 정렬 알고리즘 구현하기(정렬 과정을 출력)\n",
    "\n",
    "from typing import MutableSequence\n",
    "\n",
    "def shaker_sort_verbose(a: MutableSequence) -> None:\n",
    "    \"\"\"\"셰이커 정렬(정렬 과정을 출력)\"\"\"\n",
    "    ccnt = 0  # 비교 횟수\n",
    "    scnt = 0  # 교환 횟수\n",
    "    left = 0\n",
    "    n = len(a)\n",
    "    right = len(a) - 1\n",
    "    last = right\n",
    "    i = 0\n",
    "    while left < right:\n",
    "        print(f'패스{i + 1}')\n",
    "        i += 1\n",
    "        for j in range(right, left, -1):\n",
    "            for m in range(0, n - 1):\n",
    "               print(f'{a[m]:2}' + ('  ' if m != j - 1 else\n",
    "                                    ' +' if a[j - 1] > a[j] else ' -'),\n",
    "                     end='')\n",
    "            print(f'{a[n - 1]:2}')\n",
    "            ccnt += 1\n",
    "            if a[j - 1] > a[j]:\n",
    "                scnt += 1\n",
    "                a[j - 1], a[j] = a[j], a[j - 1]\n",
    "                last = j\n",
    "        left = last\n",
    "        for m in range(0, n - 1):\n",
    "           print(f'{a[m]:2}', end='  ')\n",
    "        print(f'{a[n - 1]:2}')\n",
    "\n",
    "        if (left == right):\n",
    "             break\n",
    "        print(f'패스 {i + 1}')\n",
    "        i += 1\n",
    "        for j in range(left, right):\n",
    "            for m in range(0, n - 1):\n",
    "               print(f'{a[m]:2}' + ('  ' if m != j else\n",
    "                                    ' +' if a[j] > a[j + 1] else ' -'),\n",
    "                     end='')\n",
    "            print(f'{a[n - 1]:2}')\n",
    "            ccnt += 1\n",
    "            if a[j] > a[j + 1]:\n",
    "                scnt += 1\n",
    "                a[j], a[j + 1] = a[j + 1], a[j]\n",
    "                last = j\n",
    "        right = last\n",
    "        for m in range(0, n - 1):\n",
    "           print(f'{a[m]:2}', end='  ')\n",
    "        print(f'{a[n - 1]:2}')\n",
    "    print(f'비교를 {ccnt}번 했습니다.')\n",
    "    print(f'교환을 {scnt}번 했습니다.')\n",
    "\n",
    "if __name__ == '__main__':\n",
    "    print('셰이커 정렬을 수행합니다.')\n",
    "    num = int(input('원소 수를 입력하세요.: '))\n",
    "    x = [None] * num  # 원소 수 num인 배열을 생성\n",
    "\n",
    "    for i in range(num):\n",
    "        x[i] = int(input(f'x[{i}] : '))\n",
    "\n",
    "    shaker_sort_verbose(x)  # 배열 x를 단순 교환 정렬\n",
    "\n",
    "    print('오름차순으로 정렬했습니다.')\n",
    "    for i in range(num):\n",
    "        print(f'x[{i}] = {x[i]}')"
   ]
  },
  {
   "cell_type": "markdown",
   "metadata": {},
   "source": [
    "while 문 안에 for 문이 2개 들어 있는 구조.\n",
    "\n",
    "- 첫 번째 for 문은 나열된 원소를 맨 뒤에서 맨 앞으로 스캔 \n",
    "- 두 번째 for 문은 원소를 맨 앞에서 맨 뒤로 스캔 \n",
    "\n",
    "- 변수 left 는 스캔 범위의 첫 원소 인덱스이며, right 는 스캔 범이의 마지막 원소 인덱스 \n",
    "- 21 > 15번 감소 "
   ]
  },
  {
   "cell_type": "code",
   "execution_count": null,
   "metadata": {},
   "outputs": [],
   "source": []
  },
  {
   "cell_type": "code",
   "execution_count": null,
   "metadata": {},
   "outputs": [],
   "source": []
  },
  {
   "cell_type": "code",
   "execution_count": null,
   "metadata": {},
   "outputs": [],
   "source": []
  },
  {
   "cell_type": "code",
   "execution_count": null,
   "metadata": {},
   "outputs": [],
   "source": []
  },
  {
   "cell_type": "code",
   "execution_count": null,
   "metadata": {},
   "outputs": [],
   "source": []
  },
  {
   "cell_type": "code",
   "execution_count": null,
   "metadata": {},
   "outputs": [],
   "source": []
  },
  {
   "cell_type": "code",
   "execution_count": null,
   "metadata": {},
   "outputs": [],
   "source": []
  },
  {
   "cell_type": "code",
   "execution_count": null,
   "metadata": {},
   "outputs": [],
   "source": []
  },
  {
   "cell_type": "code",
   "execution_count": null,
   "metadata": {},
   "outputs": [],
   "source": []
  },
  {
   "cell_type": "code",
   "execution_count": null,
   "metadata": {},
   "outputs": [],
   "source": []
  },
  {
   "cell_type": "code",
   "execution_count": null,
   "metadata": {},
   "outputs": [],
   "source": []
  },
  {
   "cell_type": "code",
   "execution_count": null,
   "metadata": {},
   "outputs": [],
   "source": []
  },
  {
   "cell_type": "code",
   "execution_count": null,
   "metadata": {},
   "outputs": [],
   "source": []
  },
  {
   "cell_type": "code",
   "execution_count": null,
   "metadata": {},
   "outputs": [],
   "source": []
  },
  {
   "cell_type": "code",
   "execution_count": null,
   "metadata": {},
   "outputs": [],
   "source": []
  },
  {
   "cell_type": "code",
   "execution_count": null,
   "metadata": {},
   "outputs": [],
   "source": []
  },
  {
   "cell_type": "code",
   "execution_count": null,
   "metadata": {},
   "outputs": [],
   "source": []
  },
  {
   "cell_type": "code",
   "execution_count": null,
   "metadata": {},
   "outputs": [],
   "source": []
  },
  {
   "cell_type": "code",
   "execution_count": null,
   "metadata": {},
   "outputs": [],
   "source": []
  },
  {
   "cell_type": "code",
   "execution_count": null,
   "metadata": {},
   "outputs": [],
   "source": []
  },
  {
   "cell_type": "code",
   "execution_count": null,
   "metadata": {},
   "outputs": [],
   "source": []
  },
  {
   "cell_type": "code",
   "execution_count": null,
   "metadata": {},
   "outputs": [],
   "source": []
  },
  {
   "cell_type": "code",
   "execution_count": null,
   "metadata": {},
   "outputs": [],
   "source": []
  },
  {
   "cell_type": "code",
   "execution_count": null,
   "metadata": {},
   "outputs": [],
   "source": []
  },
  {
   "cell_type": "code",
   "execution_count": null,
   "metadata": {},
   "outputs": [],
   "source": []
  },
  {
   "cell_type": "code",
   "execution_count": null,
   "metadata": {},
   "outputs": [],
   "source": []
  },
  {
   "cell_type": "code",
   "execution_count": null,
   "metadata": {},
   "outputs": [],
   "source": []
  },
  {
   "cell_type": "code",
   "execution_count": null,
   "metadata": {},
   "outputs": [],
   "source": []
  },
  {
   "cell_type": "code",
   "execution_count": null,
   "metadata": {},
   "outputs": [],
   "source": []
  },
  {
   "cell_type": "code",
   "execution_count": null,
   "metadata": {},
   "outputs": [],
   "source": []
  },
  {
   "cell_type": "code",
   "execution_count": null,
   "metadata": {},
   "outputs": [],
   "source": []
  },
  {
   "cell_type": "code",
   "execution_count": null,
   "metadata": {},
   "outputs": [],
   "source": []
  },
  {
   "cell_type": "code",
   "execution_count": null,
   "metadata": {},
   "outputs": [],
   "source": []
  }
 ],
 "metadata": {
  "kernelspec": {
   "display_name": "Python 3.9.12 ('base')",
   "language": "python",
   "name": "python3"
  },
  "language_info": {
   "codemirror_mode": {
    "name": "ipython",
    "version": 3
   },
   "file_extension": ".py",
   "mimetype": "text/x-python",
   "name": "python",
   "nbconvert_exporter": "python",
   "pygments_lexer": "ipython3",
   "version": "3.9.12"
  },
  "orig_nbformat": 4,
  "vscode": {
   "interpreter": {
    "hash": "ca71aff40853dd846130b67975d07637ec6294bee047a07657cfc9075e3162be"
   }
  }
 },
 "nbformat": 4,
 "nbformat_minor": 2
}
